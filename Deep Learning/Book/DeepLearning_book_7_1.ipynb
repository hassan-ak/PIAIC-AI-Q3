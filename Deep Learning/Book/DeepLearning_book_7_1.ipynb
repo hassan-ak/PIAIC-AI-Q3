{
  "nbformat": 4,
  "nbformat_minor": 0,
  "metadata": {
    "colab": {
      "name": "DeepLearning_book_7_1.ipynb",
      "provenance": [],
      "collapsed_sections": []
    },
    "kernelspec": {
      "name": "python3",
      "display_name": "Python 3"
    },
    "language_info": {
      "name": "python"
    }
  },
  "cells": [
    {
      "cell_type": "markdown",
      "source": [
        "# 7 Working with Keras: A deep dive"
      ],
      "metadata": {
        "id": "OSuw8cy0ot7V"
      }
    },
    {
      "cell_type": "markdown",
      "source": [
        "## 7.1 A spectrum of workflows"
      ],
      "metadata": {
        "id": "FKYTGjkAo0JX"
      }
    },
    {
      "cell_type": "markdown",
      "source": [
        "- design of the Keras API is guided by the principle of progressive disclosure of complexity\n",
        "  - make it easy to get started, yet make it possible to handle high-complexity use cases, only requiring incremental learning at each step\n",
        "  - Simple use cases should be easy and approachable, and arbitrarily advanced workflows should be possible: no matter how niche and complex the thing you want to do, there should be a clear path to it\n",
        "  - components from any workflow can be used in any other workflow"
      ],
      "metadata": {
        "id": "T9I5SLkpqJm9"
      }
    },
    {
      "cell_type": "markdown",
      "source": [
        "## 7.2 Different ways to build Keras models"
      ],
      "metadata": {
        "id": "3fMuMWQYqaQD"
      }
    },
    {
      "cell_type": "markdown",
      "source": [
        "- The Sequential model\n",
        "  - the most approachable API\n",
        "  - it’s basically a Python list. As such, it’s limited to simple stacks of layers.\n",
        "- The Functional API\n",
        "  - focuses on graph-like model architectures. \n",
        "  - It represents a nice mid-point between usability and flexibility\n",
        "  - it’s the most commonly used model-building API.\n",
        "- Model subclassing\n",
        "  - a low-level option where you write everything yourself from scratch.\n",
        "  - This is ideal if you want full control over every little thing\n",
        "  - you won’t get access to many built-in Keras features, and you will be more at risk of making mistakes"
      ],
      "metadata": {
        "id": "zM6Ovx9VqpVu"
      }
    },
    {
      "cell_type": "markdown",
      "source": [
        "### 7.2.1 The Sequential model"
      ],
      "metadata": {
        "id": "eayeZsMTrKdL"
      }
    },
    {
      "cell_type": "markdown",
      "source": [
        "- one input one output\n",
        "- consists of a linear stack of layers"
      ],
      "metadata": {
        "id": "mZ4SUBmnzTww"
      }
    },
    {
      "cell_type": "code",
      "source": [
        "# Listing 7.1 The Sequential class\n",
        "from tensorflow import keras \n",
        "from tensorflow.keras import layers\n",
        " \n",
        "model = keras.Sequential([\n",
        "  layers.Dense(64, activation=\"relu\"),\n",
        "  layers.Dense(10, activation=\"softmax\")\n",
        "])"
      ],
      "metadata": {
        "id": "tL6ZOsQwr2uN"
      },
      "execution_count": null,
      "outputs": []
    },
    {
      "cell_type": "code",
      "source": [
        "# Listing 7.2 Incrementally building a Sequential model\n",
        "model = keras.Sequential()\n",
        "model.add(layers.Dense(64, activation=\"relu\"))\n",
        "model.add(layers.Dense(10, activation=\"softmax\"))"
      ],
      "metadata": {
        "id": "JWLVYS9UsD8k"
      },
      "execution_count": null,
      "outputs": []
    },
    {
      "cell_type": "markdown",
      "source": [
        "- layers only get built (create their weights) when they are called for the first time. \n",
        "- the shape of the layers' weights depends on the shape of their input"
      ],
      "metadata": {
        "id": "AgBI_TSvr2TJ"
      }
    },
    {
      "cell_type": "code",
      "source": [
        "# Listing 7.3 Models that aren’t yet built have no weights\n",
        "'''\n",
        "model.weights\n",
        "'''\n",
        "# ValueError: \n",
        "  # Weights for model sequential_1 have not yet been created. \n",
        "  # Weights are created when the Model is first called on inputs \n",
        "  # or `build()` is called with an `input_shape`."
      ],
      "metadata": {
        "colab": {
          "base_uri": "https://localhost:8080/",
          "height": 35
        },
        "id": "cpu0BfL-slI4",
        "outputId": "bc25ed73-6126-492d-a746-e2db3e4d1a86"
      },
      "execution_count": null,
      "outputs": [
        {
          "output_type": "execute_result",
          "data": {
            "text/plain": [
              "'\\nmodel.weights\\n'"
            ],
            "application/vnd.google.colaboratory.intrinsic+json": {
              "type": "string"
            }
          },
          "metadata": {},
          "execution_count": 3
        }
      ]
    },
    {
      "cell_type": "code",
      "execution_count": null,
      "metadata": {
        "colab": {
          "base_uri": "https://localhost:8080/"
        },
        "id": "zc3UQWD9oqYz",
        "outputId": "3e6259e5-1560-461f-d1fa-cd2e41645c0c"
      },
      "outputs": [
        {
          "output_type": "execute_result",
          "data": {
            "text/plain": [
              "[<tf.Variable 'dense_2/kernel:0' shape=(3, 64) dtype=float32, numpy=\n",
              " array([[-0.18752009, -0.07178029, -0.17134206,  0.1957055 ,  0.15640113,\n",
              "         -0.2598126 , -0.16850415, -0.16757278, -0.17523742, -0.06304644,\n",
              "          0.19055864, -0.16463926, -0.05040774,  0.07711866,  0.00221691,\n",
              "         -0.28047436, -0.13938734,  0.17615244,  0.12272123,  0.03415766,\n",
              "          0.18606618, -0.04651031, -0.29289004,  0.29558426, -0.17226644,\n",
              "         -0.2873154 ,  0.20281547, -0.11082695,  0.06342602,  0.05550465,\n",
              "         -0.20164531,  0.2851783 ,  0.18606055,  0.08841908, -0.02984419,\n",
              "          0.13083926,  0.24895173,  0.21331674, -0.03665218,  0.26750565,\n",
              "          0.09057885, -0.20010877, -0.09718661, -0.08821632,  0.13238528,\n",
              "         -0.19345884,  0.12238595,  0.1830352 , -0.28122708, -0.22560385,\n",
              "          0.09632638, -0.2575013 , -0.16140565, -0.17413631, -0.12679859,\n",
              "         -0.0197466 ,  0.20543218,  0.00161901, -0.23085688, -0.24981989,\n",
              "          0.17573065, -0.21231425,  0.04466391, -0.00630453],\n",
              "        [-0.08283594,  0.09800389,  0.11169755,  0.10285166, -0.28977302,\n",
              "         -0.1436268 , -0.21410993, -0.2805301 , -0.294126  ,  0.18338129,\n",
              "         -0.18772358,  0.10883352,  0.16509095,  0.02155355,  0.1732823 ,\n",
              "          0.27519262, -0.03971475, -0.20457476,  0.22828424,  0.17463419,\n",
              "          0.02124318, -0.20576671,  0.13844475, -0.04962492, -0.0337145 ,\n",
              "         -0.23943505,  0.07676014,  0.06951508,  0.28032607,  0.03142491,\n",
              "         -0.04567376, -0.25098065, -0.10868989, -0.09514579, -0.01246297,\n",
              "          0.26339173, -0.28279066,  0.14767063, -0.09920946, -0.23662531,\n",
              "          0.12501624,  0.02559146, -0.06190439, -0.27801082,  0.06999168,\n",
              "         -0.2785166 ,  0.03357473,  0.0048382 , -0.12519048,  0.02658963,\n",
              "         -0.2664519 ,  0.00498396, -0.0424715 ,  0.03914613, -0.13620809,\n",
              "          0.0714125 , -0.13373762,  0.21791309, -0.2701509 ,  0.01233318,\n",
              "          0.29607207,  0.28660905,  0.12721866, -0.1619633 ],\n",
              "        [ 0.07812214,  0.29429668, -0.17728038,  0.16118819,  0.15497133,\n",
              "         -0.17656735, -0.293376  , -0.03109691,  0.13239485, -0.02466631,\n",
              "         -0.25435036,  0.19695216,  0.12626305, -0.26703766, -0.03747323,\n",
              "          0.16424748,  0.213211  , -0.15159559, -0.12192041,  0.01247925,\n",
              "         -0.18648912,  0.19177547, -0.05363992,  0.03687426, -0.11912096,\n",
              "          0.13424069,  0.02931437,  0.01643452,  0.15509027,  0.17200252,\n",
              "          0.25135362, -0.17233793, -0.14258991, -0.06648025,  0.19393173,\n",
              "         -0.24720544,  0.08782718, -0.06189305,  0.20295876,  0.23616803,\n",
              "          0.10033026, -0.19079137, -0.23164512, -0.28744367,  0.1773217 ,\n",
              "         -0.22242013, -0.16755266,  0.22857648,  0.20523673,  0.2696544 ,\n",
              "         -0.16713078,  0.21268576, -0.13052641,  0.16388983,  0.11872882,\n",
              "         -0.2452523 , -0.09090726,  0.00065911, -0.28943777,  0.14261931,\n",
              "          0.21907079, -0.12255755,  0.08109626,  0.06887174]],\n",
              "       dtype=float32)>,\n",
              " <tf.Variable 'dense_2/bias:0' shape=(64,) dtype=float32, numpy=\n",
              " array([0., 0., 0., 0., 0., 0., 0., 0., 0., 0., 0., 0., 0., 0., 0., 0., 0.,\n",
              "        0., 0., 0., 0., 0., 0., 0., 0., 0., 0., 0., 0., 0., 0., 0., 0., 0.,\n",
              "        0., 0., 0., 0., 0., 0., 0., 0., 0., 0., 0., 0., 0., 0., 0., 0., 0.,\n",
              "        0., 0., 0., 0., 0., 0., 0., 0., 0., 0., 0., 0., 0.], dtype=float32)>,\n",
              " <tf.Variable 'dense_3/kernel:0' shape=(64, 10) dtype=float32, numpy=\n",
              " array([[-0.1686004 ,  0.01060501, -0.07490608,  0.13829315, -0.07128352,\n",
              "          0.0188503 ,  0.18534762, -0.08425991,  0.02737132, -0.22911963],\n",
              "        [ 0.22862771, -0.11761707, -0.18184134, -0.23013309, -0.2511545 ,\n",
              "         -0.21931306,  0.23921123, -0.05215931, -0.12462682,  0.02893847],\n",
              "        [ 0.23824725, -0.17744255,  0.23983899,  0.08842599, -0.20775717,\n",
              "         -0.17740256, -0.10462086,  0.06246513, -0.18539935,  0.21947256],\n",
              "        [-0.13095014, -0.04933472,  0.15579563, -0.2522247 ,  0.07436153,\n",
              "         -0.02846065, -0.12782127, -0.23146181, -0.02741101, -0.02104983],\n",
              "        [-0.09578244,  0.14286059, -0.03498928,  0.00152078,  0.07448924,\n",
              "         -0.02814654, -0.01087794,  0.05033541,  0.1337046 , -0.23984665],\n",
              "        [-0.02162457,  0.00557098, -0.08283804,  0.21837637,  0.14992043,\n",
              "          0.09896976,  0.06586224, -0.03265572, -0.17680147,  0.00661764],\n",
              "        [-0.12035584,  0.13357723, -0.14868079,  0.26356015,  0.10859528,\n",
              "          0.21408758,  0.10711497, -0.02507666, -0.05497609, -0.21240962],\n",
              "        [-0.20052917,  0.0808894 , -0.15308292,  0.13613755, -0.07037911,\n",
              "         -0.20176665, -0.10527429, -0.01266944, -0.16508767, -0.20145348],\n",
              "        [ 0.15545869,  0.05146188,  0.12253401,  0.2616991 , -0.14024796,\n",
              "          0.03758997, -0.16782606,  0.1894204 , -0.05382171, -0.19931531],\n",
              "        [ 0.27375433, -0.09555699, -0.18426117,  0.02242491,  0.04971448,\n",
              "         -0.19325858, -0.22019148,  0.09186932,  0.07698438, -0.01261669],\n",
              "        [ 0.05928242, -0.05145408,  0.10883018,  0.08271739,  0.27110502,\n",
              "         -0.11685738, -0.12280746, -0.1420578 ,  0.09630907,  0.20082462],\n",
              "        [-0.2528891 , -0.09192885,  0.25985256, -0.03347453,  0.06507337,\n",
              "          0.2158998 , -0.00449827, -0.08154604,  0.06247553, -0.2569906 ],\n",
              "        [ 0.24310026,  0.03546083, -0.15054809, -0.10068031,  0.04766783,\n",
              "         -0.2498725 ,  0.03621271,  0.12494352,  0.23981091,  0.12970424],\n",
              "        [ 0.09806684,  0.03612953,  0.00670281,  0.191174  , -0.25249887,\n",
              "         -0.20150928,  0.03260767, -0.2571845 , -0.0345026 , -0.24973048],\n",
              "        [ 0.10984465, -0.14783402, -0.18945089,  0.058588  ,  0.20384434,\n",
              "         -0.14950477,  0.02329165,  0.16703054, -0.2074965 ,  0.2157304 ],\n",
              "        [ 0.13456613, -0.03237507,  0.2667428 ,  0.10502413,  0.07822442,\n",
              "         -0.12911646, -0.22077593, -0.23347554,  0.11403063, -0.03692296],\n",
              "        [-0.25334272, -0.07825668, -0.23304409,  0.00071174, -0.0536397 ,\n",
              "         -0.20194283,  0.0859471 , -0.0797258 ,  0.12373951, -0.13697393],\n",
              "        [ 0.14450127, -0.00677547,  0.17445529,  0.10362473, -0.02638698,\n",
              "          0.18444163,  0.22487023,  0.26511183, -0.10607056, -0.12761414],\n",
              "        [ 0.13242659,  0.2783008 , -0.11944783,  0.06791195,  0.12863362,\n",
              "          0.2687299 , -0.15277083,  0.24492386,  0.05292013, -0.1673156 ],\n",
              "        [ 0.22796044,  0.0900932 ,  0.04287976,  0.17985132, -0.11768265,\n",
              "         -0.16785985,  0.26034233,  0.23792896,  0.16556454, -0.15084401],\n",
              "        [ 0.13188782,  0.24513313, -0.0738868 , -0.23993422, -0.19634055,\n",
              "         -0.01041111,  0.2544826 ,  0.2643347 , -0.06154796, -0.14162156],\n",
              "        [ 0.27730587, -0.01094332,  0.10720634,  0.21842834,  0.22111669,\n",
              "         -0.02906296, -0.03086996, -0.11329688,  0.01806995,  0.08563954],\n",
              "        [ 0.09855857, -0.02223524, -0.06361511,  0.13307405, -0.1528705 ,\n",
              "         -0.01784417,  0.05597061, -0.08047584,  0.00926951,  0.20115048],\n",
              "        [ 0.14137343, -0.2363359 , -0.27418122, -0.11276253, -0.22863884,\n",
              "         -0.09374136,  0.11333618, -0.10144582, -0.16646244,  0.19671679],\n",
              "        [-0.18464476,  0.11037752, -0.18215933,  0.04678583, -0.0097023 ,\n",
              "          0.24528316, -0.05033723,  0.07474491, -0.1566784 , -0.25534695],\n",
              "        [ 0.19496003, -0.18494917, -0.27887383,  0.22414508, -0.14401491,\n",
              "         -0.19929712,  0.03914341,  0.23738024, -0.11489695, -0.08203776],\n",
              "        [-0.24995425,  0.26859948,  0.04800695, -0.18141094,  0.02454549,\n",
              "          0.13321966, -0.13095665, -0.21257798,  0.08028322, -0.21012992],\n",
              "        [-0.06475294, -0.13935094, -0.12622248,  0.23150924, -0.08686928,\n",
              "         -0.23151672,  0.16459331, -0.12611067,  0.1603556 , -0.0673537 ],\n",
              "        [ 0.0218488 ,  0.09660077,  0.14831242,  0.16159159,  0.24853441,\n",
              "          0.07997069, -0.27221534, -0.17076918, -0.02588883, -0.00430858],\n",
              "        [ 0.23187503,  0.14896905, -0.12031212,  0.05115965,  0.16548231,\n",
              "         -0.25951093,  0.20224664,  0.22360054, -0.06024992, -0.25920555],\n",
              "        [-0.16737711,  0.1984052 ,  0.06664357, -0.2763781 ,  0.12144011,\n",
              "          0.17450404, -0.12804855,  0.11396164,  0.10356307,  0.06405476],\n",
              "        [ 0.2667717 ,  0.27879658,  0.18414244, -0.19465595, -0.2834376 ,\n",
              "         -0.07381837, -0.22331627,  0.11692038, -0.23553678,  0.14927346],\n",
              "        [ 0.17591545, -0.09226336, -0.01095083, -0.13572776, -0.26960438,\n",
              "         -0.27308637,  0.03879955, -0.1288639 ,  0.15105882, -0.11725229],\n",
              "        [-0.12258247,  0.18391693, -0.2639629 , -0.28237948,  0.0339843 ,\n",
              "         -0.20333454, -0.21492171, -0.06452964,  0.14631358,  0.2551379 ],\n",
              "        [-0.08217327, -0.2005775 ,  0.09510565, -0.23056132,  0.28311858,\n",
              "         -0.00163198,  0.02269104, -0.00040197,  0.11553118, -0.20950064],\n",
              "        [-0.1727216 ,  0.05156791,  0.20108336, -0.0797184 , -0.13596001,\n",
              "         -0.2697852 ,  0.21454337, -0.2805781 , -0.02998313, -0.22625111],\n",
              "        [ 0.06207702,  0.20497596,  0.09480429,  0.052486  ,  0.22033194,\n",
              "         -0.1994743 , -0.16399813,  0.05877259, -0.18573871,  0.03598726],\n",
              "        [ 0.21992281, -0.04192048, -0.2086616 , -0.14760204, -0.211505  ,\n",
              "          0.16717419,  0.22218212, -0.1062301 ,  0.2664847 , -0.19953412],\n",
              "        [-0.18983331, -0.06713557, -0.17093232,  0.20116597,  0.02225205,\n",
              "         -0.08291917, -0.16057599,  0.18094772,  0.03545907,  0.18121758],\n",
              "        [-0.25728783, -0.03184861,  0.22566143,  0.28265288,  0.19801036,\n",
              "          0.26479372, -0.09511618,  0.03014457, -0.26634634, -0.2830682 ],\n",
              "        [-0.06285746,  0.24083593,  0.10178369,  0.23470274,  0.21943435,\n",
              "         -0.21761745, -0.08714987,  0.03648099,  0.21573421,  0.06297946],\n",
              "        [ 0.20562905,  0.22491464,  0.01727316, -0.18350048,  0.15026838,\n",
              "         -0.2539705 , -0.00041622,  0.17261773, -0.07386656,  0.05442849],\n",
              "        [ 0.20708224,  0.21393827,  0.08910352,  0.14656666,  0.27199885,\n",
              "         -0.00412297,  0.00834268,  0.01215607, -0.18153557,  0.00639752],\n",
              "        [ 0.23647067,  0.1724267 ,  0.24424824, -0.06888786, -0.01702842,\n",
              "         -0.22132516,  0.26031896,  0.24568889,  0.01946169,  0.24920496],\n",
              "        [ 0.14218014, -0.05800232, -0.18178663, -0.13098557,  0.19269708,\n",
              "          0.26957396, -0.04603185,  0.24912634, -0.10066931, -0.1776794 ],\n",
              "        [ 0.16906449, -0.16210389,  0.00046137,  0.26756254,  0.14239863,\n",
              "          0.21939418, -0.09385161, -0.05788039, -0.27831084,  0.22580859],\n",
              "        [ 0.27093968, -0.23040098,  0.00718844, -0.17006177,  0.05721101,\n",
              "         -0.25711438, -0.05719939,  0.16715577, -0.01232955,  0.20240012],\n",
              "        [ 0.22322848, -0.02323857, -0.0713546 , -0.16802639,  0.00259593,\n",
              "          0.18563226, -0.14979899, -0.2837209 , -0.19435208,  0.17434293],\n",
              "        [-0.07548246, -0.01293212,  0.21758679, -0.02765888,  0.06281397,\n",
              "          0.20225295, -0.23415272, -0.10049252,  0.06078216,  0.16990638],\n",
              "        [-0.2101143 ,  0.28094885, -0.04196991, -0.00307631,  0.08991683,\n",
              "         -0.22344193,  0.11491787, -0.16905105,  0.05798846,  0.00068235],\n",
              "        [ 0.12031424, -0.16064426, -0.25931045,  0.19183347,  0.02483892,\n",
              "          0.1034666 , -0.22645539, -0.08290015, -0.21994165, -0.10798456],\n",
              "        [-0.03985135, -0.24185678, -0.16295725, -0.26540723, -0.1849058 ,\n",
              "          0.02533159, -0.1806353 ,  0.09237251, -0.21788229,  0.10060543],\n",
              "        [-0.09475392,  0.05342835,  0.20704544, -0.19232891, -0.05314614,\n",
              "         -0.16455963, -0.2553576 ,  0.022892  , -0.15436779,  0.02315113],\n",
              "        [ 0.04672709,  0.05985874, -0.05427711,  0.03087261,  0.1349391 ,\n",
              "          0.2503387 , -0.08164875,  0.08332318, -0.10136585,  0.0027844 ],\n",
              "        [-0.2834738 ,  0.12977564, -0.18125886,  0.01793984, -0.26241848,\n",
              "          0.02368173, -0.22365999,  0.14622295,  0.25541362, -0.14741276],\n",
              "        [-0.02093089,  0.13214785,  0.25343862,  0.23888841, -0.27806583,\n",
              "          0.18638903, -0.23364186, -0.22739178, -0.14688703,  0.02598345],\n",
              "        [ 0.10717267, -0.27025092, -0.16377348,  0.05710822, -0.09022498,\n",
              "         -0.05854855,  0.13238654, -0.15523052,  0.0915601 ,  0.24928263],\n",
              "        [-0.02033901,  0.11868945,  0.1360465 , -0.04500869,  0.24791148,\n",
              "         -0.06714195,  0.23004243, -0.17507946, -0.10680275,  0.21683565],\n",
              "        [ 0.01642597,  0.11449376,  0.24520954,  0.1582118 , -0.19235513,\n",
              "          0.26188615, -0.17624953, -0.08981209, -0.12333584, -0.051046  ],\n",
              "        [ 0.18534926, -0.1560061 ,  0.066652  , -0.25564975, -0.16950414,\n",
              "         -0.23159759,  0.15138808,  0.00743169,  0.2586148 , -0.158052  ],\n",
              "        [-0.20755264,  0.15295929, -0.11701047,  0.09337708,  0.27794394,\n",
              "          0.06535614,  0.08082622,  0.15676293,  0.1863504 ,  0.08879441],\n",
              "        [ 0.20861658, -0.01856849, -0.06761697,  0.11783138,  0.00055003,\n",
              "          0.21876141, -0.24775553, -0.06823401, -0.03247434,  0.1157254 ],\n",
              "        [-0.04914272,  0.10755429,  0.05240729, -0.24286038,  0.20599988,\n",
              "         -0.13788413,  0.1324217 ,  0.27480116, -0.2223365 , -0.23500419],\n",
              "        [ 0.15560725, -0.16544682,  0.05295211,  0.00125507, -0.26400042,\n",
              "         -0.11748406, -0.1797691 , -0.259642  ,  0.1281333 , -0.06316121]],\n",
              "       dtype=float32)>,\n",
              " <tf.Variable 'dense_3/bias:0' shape=(10,) dtype=float32, numpy=array([0., 0., 0., 0., 0., 0., 0., 0., 0., 0.], dtype=float32)>]"
            ]
          },
          "metadata": {},
          "execution_count": 4
        }
      ],
      "source": [
        "# Listing 7.4 Calling a model for the first time to build it\n",
        "model.build(input_shape=(None,3))\n",
        "model.weights "
      ]
    },
    {
      "cell_type": "markdown",
      "source": [
        "- display its contents via the summary() method"
      ],
      "metadata": {
        "id": "b_9h7fmttnfW"
      }
    },
    {
      "cell_type": "code",
      "source": [
        "# Listing 7.5 The summary() method\n",
        "model.summary()"
      ],
      "metadata": {
        "colab": {
          "base_uri": "https://localhost:8080/"
        },
        "id": "qj0A7GtGtmjZ",
        "outputId": "ec80df8e-bb9c-41e1-b1f3-53831b8d0770"
      },
      "execution_count": null,
      "outputs": [
        {
          "output_type": "stream",
          "name": "stdout",
          "text": [
            "Model: \"sequential_1\"\n",
            "_________________________________________________________________\n",
            " Layer (type)                Output Shape              Param #   \n",
            "=================================================================\n",
            " dense_2 (Dense)             (None, 64)                256       \n",
            "                                                                 \n",
            " dense_3 (Dense)             (None, 10)                650       \n",
            "                                                                 \n",
            "=================================================================\n",
            "Total params: 906\n",
            "Trainable params: 906\n",
            "Non-trainable params: 0\n",
            "_________________________________________________________________\n"
          ]
        }
      ]
    },
    {
      "cell_type": "code",
      "source": [
        "# Listing 7.6 Naming models and layers with the name argument\n",
        "model = keras.Sequential(name=\"my_example_model\")\n",
        "model.add(layers.Dense(64, activation=\"relu\", name=\"my_first_layer\"))\n",
        "model.add(layers.Dense(10, activation=\"softmax\", name=\"my_last_layer\"))\n",
        "model.build((None, 3))\n",
        "model.summary()"
      ],
      "metadata": {
        "colab": {
          "base_uri": "https://localhost:8080/"
        },
        "id": "mEQHtPaNt6JA",
        "outputId": "581ecfb6-13d9-4c7b-e138-5d0734c6c6aa"
      },
      "execution_count": null,
      "outputs": [
        {
          "output_type": "stream",
          "name": "stdout",
          "text": [
            "Model: \"my_example_model\"\n",
            "_________________________________________________________________\n",
            " Layer (type)                Output Shape              Param #   \n",
            "=================================================================\n",
            " my_first_layer (Dense)      (None, 64)                256       \n",
            "                                                                 \n",
            " my_last_layer (Dense)       (None, 10)                650       \n",
            "                                                                 \n",
            "=================================================================\n",
            "Total params: 906\n",
            "Trainable params: 906\n",
            "Non-trainable params: 0\n",
            "_________________________________________________________________\n"
          ]
        }
      ]
    },
    {
      "cell_type": "markdown",
      "source": [
        "- specifying input shape in advance can help to analyze model at each step"
      ],
      "metadata": {
        "id": "SqkRm_X4uT_x"
      }
    },
    {
      "cell_type": "code",
      "source": [
        "# Listing 7.7 Specifying the input shape of your model in advance\n",
        "model = keras.Sequential()\n",
        "model.add(keras.Input(shape=(3,)))\n",
        "model.add(layers.Dense(64, activation=\"relu\"))\n",
        "model.summary()"
      ],
      "metadata": {
        "colab": {
          "base_uri": "https://localhost:8080/"
        },
        "id": "eYX21oVpuckv",
        "outputId": "5d8bd00a-65bf-486a-e12c-d41d58aa92b0"
      },
      "execution_count": null,
      "outputs": [
        {
          "output_type": "stream",
          "name": "stdout",
          "text": [
            "Model: \"sequential_2\"\n",
            "_________________________________________________________________\n",
            " Layer (type)                Output Shape              Param #   \n",
            "=================================================================\n",
            " dense_4 (Dense)             (None, 64)                256       \n",
            "                                                                 \n",
            "=================================================================\n",
            "Total params: 256\n",
            "Trainable params: 256\n",
            "Non-trainable params: 0\n",
            "_________________________________________________________________\n"
          ]
        }
      ]
    },
    {
      "cell_type": "code",
      "source": [
        "model.add(layers.Dense(10, activation=\"softmax\"))\n",
        "model.summary()"
      ],
      "metadata": {
        "colab": {
          "base_uri": "https://localhost:8080/"
        },
        "id": "rAZTaWY6u7A8",
        "outputId": "de52b700-7d09-42c9-a359-02b63b1e30d1"
      },
      "execution_count": null,
      "outputs": [
        {
          "output_type": "stream",
          "name": "stdout",
          "text": [
            "Model: \"sequential_2\"\n",
            "_________________________________________________________________\n",
            " Layer (type)                Output Shape              Param #   \n",
            "=================================================================\n",
            " dense_4 (Dense)             (None, 64)                256       \n",
            "                                                                 \n",
            " dense_5 (Dense)             (None, 10)                650       \n",
            "                                                                 \n",
            "=================================================================\n",
            "Total params: 906\n",
            "Trainable params: 906\n",
            "Non-trainable params: 0\n",
            "_________________________________________________________________\n"
          ]
        }
      ]
    },
    {
      "cell_type": "markdown",
      "source": [
        "### 7.2.2 The Functional API"
      ],
      "metadata": {
        "id": "yYj-EQP8xlAV"
      }
    },
    {
      "cell_type": "markdown",
      "source": [
        "#### A SIMPLE EXAMPLE"
      ],
      "metadata": {
        "id": "XqGC-VGmxn8A"
      }
    },
    {
      "cell_type": "code",
      "source": [
        "# Listing 7.8 A simple Functional model with two Dense layers\n",
        "\n",
        "# define inputs to the model and its name\n",
        "# processed in batches\n",
        "inputs = keras.Input(shape=(3,), name=\"my_input\")\n",
        "print(\"*** Inputs ***\")\n",
        "print(inputs.shape)\n",
        "print(inputs.dtype)\n",
        "\n",
        "# a layer based on the inputs\n",
        "features = layers.Dense(64, activation=\"relu\")(inputs)\n",
        "print(\"*** Features ***\")\n",
        "print(features.shape)\n",
        "\n",
        "# a layer based on outputs\n",
        "outputs = layers.Dense(10, activation=\"softmax\")(features)\n",
        "print(\"*** Outputs ***\")\n",
        "print(outputs.shape)\n",
        "\n",
        "# create a model based on inputs and outputs\n",
        "model = keras.Model(inputs=inputs, outputs=outputs)\n",
        "\n",
        "print(\"*** Model ***\")\n",
        "model.summary()\n"
      ],
      "metadata": {
        "colab": {
          "base_uri": "https://localhost:8080/"
        },
        "id": "ZnLflTVGxs8s",
        "outputId": "96c386d3-db2a-424b-de88-9c1578624ddf"
      },
      "execution_count": null,
      "outputs": [
        {
          "output_type": "stream",
          "name": "stdout",
          "text": [
            "*** Inputs ***\n",
            "(None, 3)\n",
            "<dtype: 'float32'>\n",
            "*** Features ***\n",
            "(None, 64)\n",
            "*** Outputs ***\n",
            "(None, 10)\n",
            "*** Model ***\n",
            "Model: \"model\"\n",
            "_________________________________________________________________\n",
            " Layer (type)                Output Shape              Param #   \n",
            "=================================================================\n",
            " my_input (InputLayer)       [(None, 3)]               0         \n",
            "                                                                 \n",
            " dense_6 (Dense)             (None, 64)                256       \n",
            "                                                                 \n",
            " dense_7 (Dense)             (None, 10)                650       \n",
            "                                                                 \n",
            "=================================================================\n",
            "Total params: 906\n",
            "Trainable params: 906\n",
            "Non-trainable params: 0\n",
            "_________________________________________________________________\n"
          ]
        }
      ]
    },
    {
      "cell_type": "markdown",
      "source": [
        "#### MULTI-INPUT, MULTI-OUTPUT MODELS"
      ],
      "metadata": {
        "id": "pt_HvTYI099f"
      }
    },
    {
      "cell_type": "markdown",
      "source": [
        "- build a system to rank customer support tickets by priority and route them to the appropriate department. \n",
        "  - three inputs\n",
        "    - The title of the ticket (text input)\n",
        "    - The text body of the ticket (text input)\n",
        "    - tags added by the user (categorical input, assumed here to be one-hot encoded)\n",
        "  - two outputs:\n",
        "    - The priority score of the ticket, a scalar between 0 and 1 (sigmoid output)\n",
        "    - The department that should handle the ticket (a softmax over the set of departments)\n"
      ],
      "metadata": {
        "id": "Nm1Me2BnKHc5"
      }
    },
    {
      "cell_type": "code",
      "source": [
        "# Listing 7.9 A multi-input, multi-output Functional model\n",
        "vocabulary_size = 10000\n",
        "num_tags = 100\n",
        "num_departments = 4\n",
        " \n",
        "title = keras.Input(shape=(vocabulary_size,), name=\"title\")\n",
        "text_body = keras.Input(shape=(vocabulary_size,), name=\"text_body\")\n",
        "tags = keras.Input(shape=(num_tags,), name=\"tags\")\n",
        "features = layers.Concatenate()([title, text_body, tags])\n",
        "features = layers.Dense(64, activation=\"relu\")(features)\n",
        "priority = layers.Dense(1, activation=\"sigmoid\", name=\"priority\")(features)\n",
        "department = layers.Dense(num_departments, activation=\"softmax\", name=\"department\")(features)\n",
        "model = keras.Model(inputs=[title, text_body, tags],outputs=[priority, department])"
      ],
      "metadata": {
        "id": "U5JL-lzRKgJR"
      },
      "execution_count": null,
      "outputs": []
    },
    {
      "cell_type": "markdown",
      "source": [
        "#### TRAINING A MULTI-INPUT, MULTI-OUTPUT MODE"
      ],
      "metadata": {
        "id": "_M4HiJFuMnyM"
      }
    },
    {
      "cell_type": "code",
      "source": [
        "# Listing 7.10 Training a model by providing lists of input and target arrays\n",
        "\n",
        "# need to take order in consideration\n",
        "\n",
        "import numpy as np\n",
        "num_samples = 1280\n",
        "title_data = np.random.randint(0, 2, size=(num_samples, vocabulary_size))\n",
        "text_body_data = np.random.randint(0, 2, size=(num_samples, vocabulary_size))\n",
        "tags_data = np.random.randint(0, 2, size=(num_samples, num_tags))\n",
        "priority_data = np.random.random(size=(num_samples, 1))\n",
        "department_data = np.random.randint(0, 2, size=(num_samples, num_departments))\n",
        "model.compile(\n",
        "    optimizer=\"rmsprop\",\n",
        "    loss=[\"mean_squared_error\", \"categorical_crossentropy\"],\n",
        "    metrics=[[\"mean_absolute_error\"], [\"accuracy\"]]\n",
        ")\n",
        "model.fit(\n",
        "    [title_data, text_body_data, tags_data],\n",
        "    [priority_data, department_data],\n",
        "    epochs=1\n",
        ")\n",
        "model.evaluate([title_data, text_body_data, tags_data],[priority_data, department_data])\n",
        "priority_preds, department_preds = model.predict([title_data, text_body_data, tags_data])"
      ],
      "metadata": {
        "colab": {
          "base_uri": "https://localhost:8080/"
        },
        "id": "D0aBP1f0Mo21",
        "outputId": "5182b769-c8a4-48fe-be08-fc9e5d32a597"
      },
      "execution_count": null,
      "outputs": [
        {
          "output_type": "stream",
          "name": "stdout",
          "text": [
            "40/40 [==============================] - 2s 21ms/step - loss: 23.7254 - priority_loss: 0.3009 - department_loss: 23.4245 - priority_mean_absolute_error: 0.4670 - department_accuracy: 0.2219\n",
            "40/40 [==============================] - 1s 8ms/step - loss: 21.1910 - priority_loss: 0.3346 - department_loss: 20.8564 - priority_mean_absolute_error: 0.5014 - department_accuracy: 0.1297\n"
          ]
        }
      ]
    },
    {
      "cell_type": "code",
      "source": [
        "# Listing 7.11 Training a model by providing dicts of input and target arrays\n",
        "\n",
        "# no need to take order in consideration\n",
        "\n",
        "model.compile(\n",
        "    optimizer=\"rmsprop\",\n",
        "    loss={\n",
        "        \"priority\": \"mean_squared_error\", \n",
        "        \"department\": \"categorical_crossentropy\"\n",
        "    },\n",
        "    metrics={\n",
        "        \"priority\": [\"mean_absolute_error\"],\n",
        "        \"department\": [\"accuracy\"]\n",
        "    }\n",
        ")\n",
        "model.fit(\n",
        "    {\n",
        "      \"title\": title_data, \n",
        "      \"text_body\": text_body_data,\n",
        "      \"tags\": tags_data\n",
        "     },\n",
        "    {\n",
        "      \"priority\": priority_data,\n",
        "      \"department\": department_data\n",
        "    },\n",
        "    epochs=1\n",
        ")\n",
        "model.evaluate(\n",
        "    {\n",
        "      \"title\": title_data, \n",
        "      \"text_body\": text_body_data,\n",
        "      \"tags\": tags_data\n",
        "    },\n",
        "    {\n",
        "      \"priority\": priority_data,\n",
        "      \"department\": department_data\n",
        "    }\n",
        ")\n",
        "priority_preds, department_preds = model.predict(\n",
        "    {\n",
        "      \"title\": title_data,\n",
        "      \"text_body\": text_body_data, \n",
        "      \"tags\": tags_data\n",
        "    }\n",
        ")"
      ],
      "metadata": {
        "colab": {
          "base_uri": "https://localhost:8080/"
        },
        "id": "TNKaRHJZOW5x",
        "outputId": "e0f4611f-c6fb-4644-cf63-7d7c1e4193d2"
      },
      "execution_count": null,
      "outputs": [
        {
          "output_type": "stream",
          "name": "stdout",
          "text": [
            "40/40 [==============================] - 2s 20ms/step - loss: 29.4850 - priority_loss: 0.3033 - department_loss: 29.1817 - priority_mean_absolute_error: 0.4683 - department_accuracy: 0.2203\n",
            "40/40 [==============================] - 1s 9ms/step - loss: 24.5373 - priority_loss: 0.3346 - department_loss: 24.2028 - priority_mean_absolute_error: 0.5014 - department_accuracy: 0.5648\n"
          ]
        }
      ]
    },
    {
      "cell_type": "markdown",
      "source": [
        "#### THE POWER OF THE FUNCTIONAL API: ACCESS TO LAYER CONNECTIVITY"
      ],
      "metadata": {
        "id": "pJOF8OqtPOPH"
      }
    },
    {
      "cell_type": "markdown",
      "source": [
        "- possible to inspect how layers are connected and reuse previous graph nodes (which are layer outputs) as part of new models. "
      ],
      "metadata": {
        "id": "0M_9aM36QIbT"
      }
    },
    {
      "cell_type": "code",
      "source": [
        "# plot a Functional model as a graph with the plot_model()\n",
        "keras.utils.plot_model(model, \"ticket_classifier.png\")"
      ],
      "metadata": {
        "colab": {
          "base_uri": "https://localhost:8080/",
          "height": 369
        },
        "id": "JiQNMJjVQL3i",
        "outputId": "32957e85-6e8c-43ea-a9d8-b483f1d99b25"
      },
      "execution_count": null,
      "outputs": [
        {
          "output_type": "execute_result",
          "data": {
            "text/plain": [
              "<IPython.core.display.Image object>"
            ],
            "image/png": "[encoded data removed]"
          },
          "metadata": {},
          "execution_count": 13
        }
      ]
    },
    {
      "cell_type": "code",
      "source": [
        "# add to this plot the input and output shapes of each layer in the model\n",
        "keras.utils.plot_model(model, \"ticket_classifier_with_shape_info.png\", show_shapes=True)"
      ],
      "metadata": {
        "colab": {
          "base_uri": "https://localhost:8080/",
          "height": 362
        },
        "id": "wlRpWZLQQsAA",
        "outputId": "4c27e547-db73-4d90-9a62-f6c99f3f2055"
      },
      "execution_count": null,
      "outputs": [
        {
          "output_type": "execute_result",
          "data": {
            "text/plain": [
              "<IPython.core.display.Image object>"
            ],
            "image/png": "[encoded data removed]"
          },
          "metadata": {},
          "execution_count": 14
        }
      ]
    },
    {
      "cell_type": "markdown",
      "source": [
        "- model.layers model property provides the list of layers that make up the model\n",
        "- for each layer you can query layer.input and layer.output"
      ],
      "metadata": {
        "id": "4EWbz_tVRB6E"
      }
    },
    {
      "cell_type": "code",
      "source": [
        "# Listing 7.12 Retrieving the inputs or outputs of a layer in a Functional model\n",
        "model.layers"
      ],
      "metadata": {
        "colab": {
          "base_uri": "https://localhost:8080/"
        },
        "id": "yA44oe7RRE-a",
        "outputId": "9454a05a-e1e1-45ef-85ad-3c3483e0dcbf"
      },
      "execution_count": null,
      "outputs": [
        {
          "output_type": "execute_result",
          "data": {
            "text/plain": [
              "[<keras.engine.input_layer.InputLayer at 0x7f0293293390>,\n",
              " <keras.engine.input_layer.InputLayer at 0x7f021138e7d0>,\n",
              " <keras.engine.input_layer.InputLayer at 0x7f021138e450>,\n",
              " <keras.layers.merge.Concatenate at 0x7f021138e4d0>,\n",
              " <keras.layers.core.dense.Dense at 0x7f021138ed90>,\n",
              " <keras.layers.core.dense.Dense at 0x7f0214db2a10>,\n",
              " <keras.layers.core.dense.Dense at 0x7f020de63a90>]"
            ]
          },
          "metadata": {},
          "execution_count": 15
        }
      ]
    },
    {
      "cell_type": "code",
      "source": [
        "model.layers[3].input"
      ],
      "metadata": {
        "colab": {
          "base_uri": "https://localhost:8080/"
        },
        "id": "vAkmuC8URVdd",
        "outputId": "0e6daf25-f93c-49e7-cb26-c40510694901"
      },
      "execution_count": null,
      "outputs": [
        {
          "output_type": "execute_result",
          "data": {
            "text/plain": [
              "[<KerasTensor: shape=(None, 10000) dtype=float32 (created by layer 'title')>,\n",
              " <KerasTensor: shape=(None, 10000) dtype=float32 (created by layer 'text_body')>,\n",
              " <KerasTensor: shape=(None, 100) dtype=float32 (created by layer 'tags')>]"
            ]
          },
          "metadata": {},
          "execution_count": 16
        }
      ]
    },
    {
      "cell_type": "code",
      "source": [
        "model.layers[3].output"
      ],
      "metadata": {
        "colab": {
          "base_uri": "https://localhost:8080/"
        },
        "id": "WGa97gaXRt3t",
        "outputId": "bcd1c6dc-6402-4ef7-8630-1e995f8c7751"
      },
      "execution_count": null,
      "outputs": [
        {
          "output_type": "execute_result",
          "data": {
            "text/plain": [
              "<KerasTensor: shape=(None, 20100) dtype=float32 (created by layer 'concatenate')>"
            ]
          },
          "metadata": {},
          "execution_count": 17
        }
      ]
    },
    {
      "cell_type": "markdown",
      "source": [
        "-  add an output to the previous model\n",
        "  - you want to estimate how long a given issue ticket will take to resolve\n",
        "  - a kind of difficulty rating. \n",
        "  - classification layer over three categories: “quick,” “medium,” and “difficult.” "
      ],
      "metadata": {
        "id": "KbBXKC6_SJZ5"
      }
    },
    {
      "cell_type": "code",
      "source": [
        "# Listing 7.13 Creating a new model by reusing intermediate layer outputs\n",
        "features = model.layers[4].output\n",
        "difficulty = layers.Dense(3, activation=\"softmax\", name=\"difficulty\")(features) \n",
        "new_model = keras.Model(\n",
        "    inputs=[title, text_body, tags],\n",
        "    outputs=[priority, department, difficulty])\n",
        "keras.utils.plot_model(new_model, \"updated_ticket_classifier.png\", show_shapes=True)"
      ],
      "metadata": {
        "colab": {
          "base_uri": "https://localhost:8080/",
          "height": 362
        },
        "id": "c_JyuuudSRuG",
        "outputId": "a3da589c-60a6-4697-bc51-c5bfdb53ef59"
      },
      "execution_count": null,
      "outputs": [
        {
          "output_type": "execute_result",
          "data": {
            "text/plain": [
              "<IPython.core.display.Image object>"
            ],
            "image/png": "[encoded data removed]"
          },
          "metadata": {},
          "execution_count": 18
        }
      ]
    },
    {
      "cell_type": "markdown",
      "source": [
        "### 7.0.1.4 Directed acyclic graphs of layers"
      ],
      "metadata": {
        "id": "kmNe07KkaWvv"
      }
    },
    {
      "cell_type": "markdown",
      "source": [
        "- functional API\n",
        "  - you can build models with multiple inputs and multiple outputs\n",
        "  - you can also implement networks with a complex internal topology\n",
        "- Neural networks in Keras are allowed to be arbitrary directed acyclic graphs of layers. \n",
        "- It’s impossible for a tensor x to become the input of one of the layers that generated x.\n",
        "- The only processing loops that are allowed are those internal to recurrent layers.\n",
        "- Several common neural-network components are implemented as graphs. \n",
        "  - Inception modules\n",
        "  - residual connections"
      ],
      "metadata": {
        "id": "_oxt5DGQabcU"
      }
    },
    {
      "cell_type": "markdown",
      "source": [
        "#### INCEPTION MODULES"
      ],
      "metadata": {
        "id": "jUsidS28bt6a"
      }
    },
    {
      "cell_type": "markdown",
      "source": [
        "- consists of a stack of modules that themselves look like small independent networks, split into several parallel branches\n",
        "- helps the network separately learn spatial features and channel-wise features, which is more efficient than learning them jointly"
      ],
      "metadata": {
        "id": "T1vT2XRjbwjP"
      }
    },
    {
      "cell_type": "markdown",
      "source": [
        "#### RESIDUAL CONNECTIONS"
      ],
      "metadata": {
        "id": "MN0FsB8BeHiK"
      }
    },
    {
      "cell_type": "markdown",
      "source": [
        "- tackle two common problems\n",
        "  - vanishing gradients\n",
        "  - representational bottlenecks\n",
        "- A residual connection consists of making the output of an earlier layer available as input to a later layer, effectively creating a shortcut in a sequential network. \n",
        "- Rather than being concatenated to the later activation, the earlier output is summed with the later activation, which assumes that both activations are the same size"
      ],
      "metadata": {
        "id": "BziNA8C6eMcT"
      }
    },
    {
      "cell_type": "markdown",
      "source": [
        "### 7.0.1.5 Layer weight sharing"
      ],
      "metadata": {
        "id": "3eWc_fRme6H2"
      }
    },
    {
      "cell_type": "markdown",
      "source": [
        "- Important feature of the functional API is the ability to reuse a layer instance several times. \n",
        "- When you call a layer instance twice, instead of instantiating a new layer for each call, you reuse the same weights with every call."
      ],
      "metadata": {
        "id": "ze9IaoDTfyra"
      }
    },
    {
      "cell_type": "markdown",
      "source": [
        "### 7.0.1.6 Models as layers"
      ],
      "metadata": {
        "id": "KYSLcc40gzsP"
      }
    },
    {
      "cell_type": "markdown",
      "source": [
        "- the functional API, models can be used as you’d use layers"
      ],
      "metadata": {
        "id": "k3jEF4TOg5nD"
      }
    },
    {
      "cell_type": "markdown",
      "source": [
        "### 7.2.3 Subclassing the Model class"
      ],
      "metadata": {
        "id": "VaK1RukrSsrH"
      }
    },
    {
      "cell_type": "markdown",
      "source": [
        "- In the `__init__()` method, define the layers the model will use.\n",
        "- In the call() method, define the forward pass of the model, reusing the layers previously created.\n",
        "- Instantiate your subclass, and call it on data to create its weights."
      ],
      "metadata": {
        "id": "vRTFX94yPz2Q"
      }
    },
    {
      "cell_type": "code",
      "source": [
        "# Listing 7.14 A simple subclassed model\n",
        "\n",
        "# customer support ticket management model\n",
        "\n",
        "class CustomerTicketModel(keras.Model):\n",
        "  def __init__(self, num_departments):\n",
        "    super().__init__()\n",
        "    self.concat_layer = layers.Concatenate()\n",
        "    self.mixing_layer = layers.Dense(64, activation=\"relu\")\n",
        "    self.priority_scorer = layers.Dense(1, activation=\"sigmoid\")\n",
        "    self.department_classifier = layers.Dense(num_departments, activation=\"softmax\")\n",
        "  \n",
        "  def call(self, inputs):\n",
        "    title = inputs[\"title\"]\n",
        "    text_body = inputs[\"text_body\"]\n",
        "    tags = inputs[\"tags\"]\n",
        "    features = self.concat_layer([title, text_body, tags])\n",
        "    features = self.mixing_layer(features)\n",
        "    priority = self.priority_scorer(features)\n",
        "    department = self.department_classifier(features)\n",
        "    return priority, department"
      ],
      "metadata": {
        "id": "EUOgLF4bStbE"
      },
      "execution_count": null,
      "outputs": []
    },
    {
      "cell_type": "code",
      "source": [
        "# instantiate\n",
        "model = CustomerTicketModel(num_departments=4)\n",
        "\n",
        "priority, department = model({\"title\": title_data, \"text_body\": text_body_data, \"tags\": tags_data})"
      ],
      "metadata": {
        "id": "wB78BwzGQzQv"
      },
      "execution_count": null,
      "outputs": []
    },
    {
      "cell_type": "code",
      "source": [
        "# compile and train\n",
        "\n",
        "model.compile(\n",
        "    optimizer=\"rmsprop\",\n",
        "    loss=[\"mean_squared_error\", \"categorical_crossentropy\"],\n",
        "    metrics=[[\"mean_absolute_error\"], [\"accuracy\"]])\n",
        "\n",
        "model.fit(\n",
        "    {\n",
        "      \"title\": title_data,\n",
        "      \"text_body\": text_body_data,\n",
        "      \"tags\": tags_data\n",
        "    },\n",
        "    [priority_data, department_data],\n",
        "    epochs=1\n",
        ")\n",
        "\n",
        "model.evaluate(\n",
        "    {\n",
        "      \"title\": title_data,\n",
        "      \"text_body\": text_body_data,\n",
        "      \"tags\": tags_data\n",
        "    },\n",
        "    [priority_data, department_data]\n",
        ")\n",
        "\n",
        "priority_preds, department_preds = model.predict(\n",
        "    {\n",
        "      \"title\": title_data,\n",
        "      \"text_body\": text_body_data,\n",
        "      \"tags\": tags_data\n",
        "     }\n",
        ")"
      ],
      "metadata": {
        "colab": {
          "base_uri": "https://localhost:8080/"
        },
        "id": "RKx6h2D-RJaG",
        "outputId": "a0e619ea-76f8-4ef9-d880-014d479195a7"
      },
      "execution_count": null,
      "outputs": [
        {
          "output_type": "stream",
          "name": "stdout",
          "text": [
            "40/40 [==============================] - 2s 34ms/step - loss: 42.1511 - output_1_loss: 0.3245 - output_2_loss: 41.8266 - output_1_mean_absolute_error: 0.4912 - output_2_accuracy: 0.2500\n",
            "40/40 [==============================] - 1s 12ms/step - loss: 32.6701 - output_1_loss: 0.3319 - output_2_loss: 32.3382 - output_1_mean_absolute_error: 0.4986 - output_2_accuracy: 0.5656\n"
          ]
        }
      ]
    },
    {
      "cell_type": "markdown",
      "source": [
        "- model subclassing enables you to build models that cannot be expressed as directed acyclic graphs of layers"
      ],
      "metadata": {
        "id": "BG3vlJ9PR4AU"
      }
    },
    {
      "cell_type": "markdown",
      "source": [
        "#### BEWARE: WHAT SUBCLASSED MODELS DON’T SUPPORT"
      ],
      "metadata": {
        "id": "Q8gJQXATSEdw"
      }
    },
    {
      "cell_type": "markdown",
      "source": [
        "- Functional model\n",
        "  - explicit data structure\n",
        "  - view, inspect, and modify\n",
        "- subclassed model \n",
        "  - is a piece of bytecode\n",
        "  - responsible for more of the model logic\n",
        "  - more debugging work to do\n",
        "  - Limitations\n",
        "    - Calling summary() will not display layer connectivity\n",
        "    - you cannot plot the model topology via plot_model()\n",
        "    - you cannot access the nodes of the graph of layers to do feature extraction\n",
        "    - Once the model is instantiated, its forward pass becomes a complete black box"
      ],
      "metadata": {
        "id": "JGnP8RZLSfL9"
      }
    },
    {
      "cell_type": "markdown",
      "source": [
        "### 7.2.4 Mixing and matching different components"
      ],
      "metadata": {
        "id": "PO6u8WL4hrpl"
      }
    },
    {
      "cell_type": "code",
      "source": [
        "# 7.2.4 Mixing and matching different components\n",
        "class Classifier(keras.Model):\n",
        "  def __init__(self, num_classes=2):\n",
        "    super().__init__()\n",
        "    if num_classes == 2:\n",
        "      num_units = 1\n",
        "      activation = \"sigmoid\"\n",
        "    else:\n",
        "      num_units = num_classes\n",
        "      activation = \"softmax\"\n",
        "      self.dense = layers.Dense(num_units, activation=activation)\n",
        "  def call(self, inputs):\n",
        "    return self.dense(inputs)\n",
        " \n",
        "inputs = keras.Input(shape=(3,))\n",
        "features = layers.Dense(64, activation=\"relu\")(inputs)\n",
        "outputs = Classifier(num_classes=10)(features)\n",
        "model = keras.Model(inputs=inputs, outputs=outputs)"
      ],
      "metadata": {
        "id": "yCeZGnJxiEMf"
      },
      "execution_count": null,
      "outputs": []
    },
    {
      "cell_type": "code",
      "source": [
        "# Listing 7.16 Creating a subclassed model that includes a Functional model\n",
        "inputs = keras.Input(shape=(64,))\n",
        "outputs = layers.Dense(1, activation=\"sigmoid\")(inputs)\n",
        "binary_classifier = keras.Model(inputs=inputs, outputs=outputs)\n",
        "\n",
        "class MyModel(keras.Model):\n",
        "  def __init__(self, num_classes=2):\n",
        "    super().__init__()\n",
        "    self.dense = layers.Dense(64, activation=\"relu\")\n",
        "    self.classifier = binary_classifier\n",
        "  def call(self, inputs):\n",
        "    features = self.dense(inputs)\n",
        "    return self.classifier(features)\n",
        " \n",
        "model = MyModel()"
      ],
      "metadata": {
        "id": "BUgRZ82ziWJp"
      },
      "execution_count": null,
      "outputs": []
    },
    {
      "cell_type": "markdown",
      "source": [
        "### 7.2.5 Remember: Use the right tool for the job"
      ],
      "metadata": {
        "id": "hBavVd-yi-17"
      }
    },
    {
      "cell_type": "markdown",
      "source": [
        "- the Functional API provides you with a pretty good trade-off between ease of use and flexibility.\n",
        "- It also gives you direct access to layer connectivity, which is very powerful for use cases such as model plotting or feature extraction. \n",
        "- If you can use the Functional API—that is, if your model can be expressed as a directed acyclic graph of layers"
      ],
      "metadata": {
        "id": "d1KkdhGsjQ2A"
      }
    },
    {
      "cell_type": "markdown",
      "source": [
        "---"
      ],
      "metadata": {
        "id": "E9Ljh-iGumyv"
      }
    }
  ]
}