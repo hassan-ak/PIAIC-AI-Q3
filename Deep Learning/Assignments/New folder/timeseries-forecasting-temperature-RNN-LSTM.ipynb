{
  "cells": [
    {
      "cell_type": "markdown",
      "metadata": {
        "id": "_rjaEad8Mv9H"
      },
      "source": [
        "# Temperature Timeseries RNN (LSTM)"
      ]
    },
    {
      "cell_type": "code",
      "execution_count": null,
      "metadata": {
        "colab": {
          "base_uri": "https://localhost:8080/"
        },
        "id": "8e8GUIGsTs-p",
        "outputId": "0e80c04a-1194-4755-c527-fc51ad8b97a6"
      },
      "outputs": [
        {
          "name": "stdout",
          "output_type": "stream",
          "text": [
            "--2022-05-26 11:38:09--  https://s3.amazonaws.com/keras-datasets/jena_climate_2009_2016.csv.zip\n",
            "Resolving s3.amazonaws.com (s3.amazonaws.com)... 54.231.225.40\n",
            "Connecting to s3.amazonaws.com (s3.amazonaws.com)|54.231.225.40|:443... connected.\n",
            "HTTP request sent, awaiting response... 200 OK\n",
            "Length: 13565642 (13M) [application/zip]\n",
            "Saving to: ‘jena_climate_2009_2016.csv.zip.1’\n",
            "\n",
            "jena_climate_2009_2 100%[===================>]  12.94M  56.2MB/s    in 0.2s    \n",
            "\n",
            "2022-05-26 11:38:09 (56.2 MB/s) - ‘jena_climate_2009_2016.csv.zip.1’ saved [13565642/13565642]\n",
            "\n",
            "Archive:  jena_climate_2009_2016.csv.zip\n",
            "replace jena_climate_2009_2016.csv? [y]es, [n]o, [A]ll, [N]one, [r]ename: y\n",
            "  inflating: jena_climate_2009_2016.csv  \n",
            "replace __MACOSX/._jena_climate_2009_2016.csv? [y]es, [n]o, [A]ll, [N]one, [r]ename: y\n",
            "  inflating: __MACOSX/._jena_climate_2009_2016.csv  \n"
          ]
        }
      ],
      "source": [
        "# download data\n",
        "!wget https://s3.amazonaws.com/keras-datasets/jena_climate_2009_2016.csv.zip\n",
        "!unzip jena_climate_2009_2016.csv.zip"
      ]
    },
    {
      "cell_type": "code",
      "execution_count": null,
      "metadata": {
        "colab": {
          "base_uri": "https://localhost:8080/"
        },
        "id": "SpTSs1IxT2LW",
        "outputId": "c3dedfc6-1ae2-4b1f-8d0c-430d598416ba"
      },
      "outputs": [
        {
          "name": "stdout",
          "output_type": "stream",
          "text": [
            "['\"Date Time\"', '\"p (mbar)\"', '\"T (degC)\"', '\"Tpot (K)\"', '\"Tdew (degC)\"', '\"rh (%)\"', '\"VPmax (mbar)\"', '\"VPact (mbar)\"', '\"VPdef (mbar)\"', '\"sh (g/kg)\"', '\"H2OC (mmol/mol)\"', '\"rho (g/m**3)\"', '\"wv (m/s)\"', '\"max. wv (m/s)\"', '\"wd (deg)\"']\n",
            "420451\n"
          ]
        }
      ],
      "source": [
        "# Listing 10.1 Inspecting the data of the Jena weather dataset\n",
        "import os\n",
        "fname = os.path.join(\"jena_climate_2009_2016.csv\")\n",
        " \n",
        "with open(fname) as f:\n",
        "  data = f.read()\n",
        "\n",
        "lines = data.split(\"\\n\")\n",
        "header = lines[0].split(\",\")\n",
        "lines = lines[1:] \n",
        "print(header) \n",
        "print(len(lines))"
      ]
    },
    {
      "cell_type": "code",
      "execution_count": null,
      "metadata": {
        "id": "ljCAJi1-UbN-"
      },
      "outputs": [],
      "source": [
        "# Listing 10.2 Parsing the data\n",
        "import numpy as np\n",
        "temperature = np.zeros((len(lines),))\n",
        "raw_data = np.zeros((len(lines), len(header) - 1)) \n",
        "for i, line in enumerate(lines):\n",
        "  values = [float(x) for x in line.split(\",\")[1:]]\n",
        "  # We store column 1 in the “temperature” array.\n",
        "  temperature[i] = values[1]\n",
        "  # We store all columns (including the temperature) in the “raw_data” array\n",
        "  raw_data[i, :] = values[:] "
      ]
    },
    {
      "cell_type": "code",
      "execution_count": null,
      "metadata": {
        "colab": {
          "base_uri": "https://localhost:8080/",
          "height": 285
        },
        "id": "vBoH_Xh_UtB3",
        "outputId": "5a231bc8-1299-4fcc-fbf4-5d6117b778ca"
      },
      "outputs": [
        {
          "data": {
            "text/plain": [
              "[<matplotlib.lines.Line2D at 0x7fc1df4bd1d0>]"
            ]
          },
          "execution_count": 4,
          "metadata": {},
          "output_type": "execute_result"
        },
        {
          "data": {
            "image/png": "[encoded data removed]",
            "text/plain": [
              "<Figure size 432x288 with 1 Axes>"
            ]
          },
          "metadata": {
            "needs_background": "light"
          },
          "output_type": "display_data"
        }
      ],
      "source": [
        "# Listing 10.3 Plotting the temperature timeseries\n",
        "from matplotlib import pyplot as plt\n",
        "plt.plot(range(len(temperature)), temperature)"
      ]
    },
    {
      "cell_type": "code",
      "execution_count": null,
      "metadata": {
        "colab": {
          "base_uri": "https://localhost:8080/",
          "height": 282
        },
        "id": "Juy1XZu_U0X3",
        "outputId": "86184a84-6aaa-4fc6-9910-1ff083247dba"
      },
      "outputs": [
        {
          "data": {
            "text/plain": [
              "[<matplotlib.lines.Line2D at 0x7fc1df4c4090>]"
            ]
          },
          "execution_count": 5,
          "metadata": {},
          "output_type": "execute_result"
        },
        {
          "data": {
            "image/png": "[encoded data removed]",
            "text/plain": [
              "<Figure size 432x288 with 1 Axes>"
            ]
          },
          "metadata": {
            "needs_background": "light"
          },
          "output_type": "display_data"
        }
      ],
      "source": [
        "# Listing 10.4 Plotting the first 10 days of the temperature timeseries\n",
        "plt.plot(range(1440), temperature[:1440])"
      ]
    },
    {
      "cell_type": "code",
      "execution_count": null,
      "metadata": {
        "colab": {
          "base_uri": "https://localhost:8080/"
        },
        "id": "rDW0vFCmU5ye",
        "outputId": "e695a6af-b842-49e8-cd05-81087ba33203"
      },
      "outputs": [
        {
          "name": "stdout",
          "output_type": "stream",
          "text": [
            "num_train_samples: 210225\n",
            "num_val_samples: 105112\n",
            "num_test_samples: 105114\n"
          ]
        }
      ],
      "source": [
        "# Listing 10.5 Computing the number of samples we’ll use for each data split\n",
        "num_train_samples = int(0.5 * len(raw_data))\n",
        "num_val_samples = int(0.25 * len(raw_data))\n",
        "num_test_samples = len(raw_data) - num_train_samples - num_val_samples\n",
        "print(\"num_train_samples:\", num_train_samples)\n",
        "print(\"num_val_samples:\", num_val_samples)\n",
        "print(\"num_test_samples:\", num_test_samples)"
      ]
    },
    {
      "cell_type": "code",
      "execution_count": null,
      "metadata": {
        "colab": {
          "base_uri": "https://localhost:8080/"
        },
        "id": "MgiTHVZff6h1",
        "outputId": "c91baff7-87de-434d-9c7f-3dadcab249a4"
      },
      "outputs": [
        {
          "name": "stdout",
          "output_type": "stream",
          "text": [
            "<class 'pandas.core.frame.DataFrame'>\n",
            "RangeIndex: 420451 entries, 0 to 420450\n",
            "Data columns (total 14 columns):\n",
            " #   Column             Non-Null Count   Dtype  \n",
            "---  ------             --------------   -----  \n",
            " 0   \"p (mbar)\"         420451 non-null  float64\n",
            " 1   \"T (degC)\"         420451 non-null  float64\n",
            " 2   \"Tpot (K)\"         420451 non-null  float64\n",
            " 3   \"Tdew (degC)\"      420451 non-null  float64\n",
            " 4   \"rh (%)\"           420451 non-null  float64\n",
            " 5   \"VPmax (mbar)\"     420451 non-null  float64\n",
            " 6   \"VPact (mbar)\"     420451 non-null  float64\n",
            " 7   \"VPdef (mbar)\"     420451 non-null  float64\n",
            " 8   \"sh (g/kg)\"        420451 non-null  float64\n",
            " 9   \"H2OC (mmol/mol)\"  420451 non-null  float64\n",
            " 10  \"rho (g/m**3)\"     420451 non-null  float64\n",
            " 11  \"wv (m/s)\"         420451 non-null  float64\n",
            " 12  \"max. wv (m/s)\"    420451 non-null  float64\n",
            " 13  \"wd (deg)\"         420451 non-null  float64\n",
            "dtypes: float64(14)\n",
            "memory usage: 44.9 MB\n"
          ]
        }
      ],
      "source": [
        "# check data\n",
        "import pandas as pd\n",
        "raw_data_pd = pd.DataFrame(raw_data,columns=header[1:])\n",
        "raw_data_pd.info()"
      ]
    },
    {
      "cell_type": "code",
      "execution_count": null,
      "metadata": {
        "colab": {
          "base_uri": "https://localhost:8080/",
          "height": 382
        },
        "id": "zIHNoD2rgcIU",
        "outputId": "cf05e20b-fca9-4386-e8f5-6402614e66b4"
      },
      "outputs": [
        {
          "data": {
            "text/html": [
              "\n",
              "  <div id=\"df-f0e79968-efa7-4481-99c2-ab874f15ee80\">\n",
              "    <div class=\"colab-df-container\">\n",
              "      <div>\n",
              "<style scoped>\n",
              "    .dataframe tbody tr th:only-of-type {\n",
              "        vertical-align: middle;\n",
              "    }\n",
              "\n",
              "    .dataframe tbody tr th {\n",
              "        vertical-align: top;\n",
              "    }\n",
              "\n",
              "    .dataframe thead th {\n",
              "        text-align: right;\n",
              "    }\n",
              "</style>\n",
              "<table border=\"1\" class=\"dataframe\">\n",
              "  <thead>\n",
              "    <tr style=\"text-align: right;\">\n",
              "      <th></th>\n",
              "      <th>\"p (mbar)\"</th>\n",
              "      <th>\"T (degC)\"</th>\n",
              "      <th>\"Tpot (K)\"</th>\n",
              "      <th>\"Tdew (degC)\"</th>\n",
              "      <th>\"rh (%)\"</th>\n",
              "      <th>\"VPmax (mbar)\"</th>\n",
              "      <th>\"VPact (mbar)\"</th>\n",
              "      <th>\"VPdef (mbar)\"</th>\n",
              "      <th>\"sh (g/kg)\"</th>\n",
              "      <th>\"H2OC (mmol/mol)\"</th>\n",
              "      <th>\"rho (g/m**3)\"</th>\n",
              "      <th>\"wv (m/s)\"</th>\n",
              "      <th>\"max. wv (m/s)\"</th>\n",
              "      <th>\"wd (deg)\"</th>\n",
              "    </tr>\n",
              "  </thead>\n",
              "  <tbody>\n",
              "    <tr>\n",
              "      <th>count</th>\n",
              "      <td>420451.000000</td>\n",
              "      <td>420451.000000</td>\n",
              "      <td>420451.000000</td>\n",
              "      <td>420451.000000</td>\n",
              "      <td>420451.000000</td>\n",
              "      <td>420451.000000</td>\n",
              "      <td>420451.000000</td>\n",
              "      <td>420451.000000</td>\n",
              "      <td>420451.000000</td>\n",
              "      <td>420451.000000</td>\n",
              "      <td>420451.000000</td>\n",
              "      <td>420451.000000</td>\n",
              "      <td>420451.000000</td>\n",
              "      <td>420451.000000</td>\n",
              "    </tr>\n",
              "    <tr>\n",
              "      <th>mean</th>\n",
              "      <td>989.212508</td>\n",
              "      <td>9.448567</td>\n",
              "      <td>283.491182</td>\n",
              "      <td>4.954011</td>\n",
              "      <td>76.007045</td>\n",
              "      <td>13.575089</td>\n",
              "      <td>9.532524</td>\n",
              "      <td>4.042483</td>\n",
              "      <td>6.021630</td>\n",
              "      <td>9.638982</td>\n",
              "      <td>1216.069883</td>\n",
              "      <td>2.130309</td>\n",
              "      <td>3.532381</td>\n",
              "      <td>174.726164</td>\n",
              "    </tr>\n",
              "    <tr>\n",
              "      <th>std</th>\n",
              "      <td>8.359454</td>\n",
              "      <td>8.423685</td>\n",
              "      <td>8.504820</td>\n",
              "      <td>6.730411</td>\n",
              "      <td>16.477126</td>\n",
              "      <td>7.739481</td>\n",
              "      <td>4.183895</td>\n",
              "      <td>4.897270</td>\n",
              "      <td>2.655973</td>\n",
              "      <td>4.235130</td>\n",
              "      <td>39.977065</td>\n",
              "      <td>1.541830</td>\n",
              "      <td>2.340482</td>\n",
              "      <td>86.675965</td>\n",
              "    </tr>\n",
              "    <tr>\n",
              "      <th>min</th>\n",
              "      <td>913.600000</td>\n",
              "      <td>-23.010000</td>\n",
              "      <td>250.600000</td>\n",
              "      <td>-25.010000</td>\n",
              "      <td>12.950000</td>\n",
              "      <td>0.950000</td>\n",
              "      <td>0.790000</td>\n",
              "      <td>0.000000</td>\n",
              "      <td>0.500000</td>\n",
              "      <td>0.800000</td>\n",
              "      <td>1059.450000</td>\n",
              "      <td>0.000000</td>\n",
              "      <td>0.000000</td>\n",
              "      <td>0.000000</td>\n",
              "    </tr>\n",
              "    <tr>\n",
              "      <th>25%</th>\n",
              "      <td>984.200000</td>\n",
              "      <td>3.360000</td>\n",
              "      <td>277.430000</td>\n",
              "      <td>0.240000</td>\n",
              "      <td>65.210000</td>\n",
              "      <td>7.780000</td>\n",
              "      <td>6.210000</td>\n",
              "      <td>0.870000</td>\n",
              "      <td>3.920000</td>\n",
              "      <td>6.290000</td>\n",
              "      <td>1187.490000</td>\n",
              "      <td>0.990000</td>\n",
              "      <td>1.760000</td>\n",
              "      <td>124.800000</td>\n",
              "    </tr>\n",
              "    <tr>\n",
              "      <th>50%</th>\n",
              "      <td>989.570000</td>\n",
              "      <td>9.410000</td>\n",
              "      <td>283.460000</td>\n",
              "      <td>5.210000</td>\n",
              "      <td>79.300000</td>\n",
              "      <td>11.820000</td>\n",
              "      <td>8.860000</td>\n",
              "      <td>2.190000</td>\n",
              "      <td>5.590000</td>\n",
              "      <td>8.960000</td>\n",
              "      <td>1213.800000</td>\n",
              "      <td>1.760000</td>\n",
              "      <td>2.960000</td>\n",
              "      <td>198.100000</td>\n",
              "    </tr>\n",
              "    <tr>\n",
              "      <th>75%</th>\n",
              "      <td>994.720000</td>\n",
              "      <td>15.470000</td>\n",
              "      <td>289.530000</td>\n",
              "      <td>10.070000</td>\n",
              "      <td>89.400000</td>\n",
              "      <td>17.600000</td>\n",
              "      <td>12.350000</td>\n",
              "      <td>5.300000</td>\n",
              "      <td>7.800000</td>\n",
              "      <td>12.480000</td>\n",
              "      <td>1242.770000</td>\n",
              "      <td>2.860000</td>\n",
              "      <td>4.740000</td>\n",
              "      <td>234.100000</td>\n",
              "    </tr>\n",
              "    <tr>\n",
              "      <th>max</th>\n",
              "      <td>1015.350000</td>\n",
              "      <td>37.280000</td>\n",
              "      <td>311.340000</td>\n",
              "      <td>23.110000</td>\n",
              "      <td>100.000000</td>\n",
              "      <td>63.770000</td>\n",
              "      <td>28.320000</td>\n",
              "      <td>46.010000</td>\n",
              "      <td>18.130000</td>\n",
              "      <td>28.820000</td>\n",
              "      <td>1393.540000</td>\n",
              "      <td>14.630000</td>\n",
              "      <td>23.500000</td>\n",
              "      <td>360.000000</td>\n",
              "    </tr>\n",
              "  </tbody>\n",
              "</table>\n",
              "</div>\n",
              "      <button class=\"colab-df-convert\" onclick=\"convertToInteractive('df-f0e79968-efa7-4481-99c2-ab874f15ee80')\"\n",
              "              title=\"Convert this dataframe to an interactive table.\"\n",
              "              style=\"display:none;\">\n",
              "        \n",
              "  <svg xmlns=\"http://www.w3.org/2000/svg\" height=\"24px\"viewBox=\"0 0 24 24\"\n",
              "       width=\"24px\">\n",
              "    <path d=\"M0 0h24v24H0V0z\" fill=\"none\"/>\n",
              "    <path d=\"M18.56 5.44l.94 2.06.94-2.06 2.06-.94-2.06-.94-.94-2.06-.94 2.06-2.06.94zm-11 1L8.5 8.5l.94-2.06 2.06-.94-2.06-.94L8.5 2.5l-.94 2.06-2.06.94zm10 10l.94 2.06.94-2.06 2.06-.94-2.06-.94-.94-2.06-.94 2.06-2.06.94z\"/><path d=\"M17.41 7.96l-1.37-1.37c-.4-.4-.92-.59-1.43-.59-.52 0-1.04.2-1.43.59L10.3 9.45l-7.72 7.72c-.78.78-.78 2.05 0 2.83L4 21.41c.39.39.9.59 1.41.59.51 0 1.02-.2 1.41-.59l7.78-7.78 2.81-2.81c.8-.78.8-2.07 0-2.86zM5.41 20L4 18.59l7.72-7.72 1.47 1.35L5.41 20z\"/>\n",
              "  </svg>\n",
              "      </button>\n",
              "      \n",
              "  <style>\n",
              "    .colab-df-container {\n",
              "      display:flex;\n",
              "      flex-wrap:wrap;\n",
              "      gap: 12px;\n",
              "    }\n",
              "\n",
              "    .colab-df-convert {\n",
              "      background-color: #E8F0FE;\n",
              "      border: none;\n",
              "      border-radius: 50%;\n",
              "      cursor: pointer;\n",
              "      display: none;\n",
              "      fill: #1967D2;\n",
              "      height: 32px;\n",
              "      padding: 0 0 0 0;\n",
              "      width: 32px;\n",
              "    }\n",
              "\n",
              "    .colab-df-convert:hover {\n",
              "      background-color: #E2EBFA;\n",
              "      box-shadow: 0px 1px 2px rgba(60, 64, 67, 0.3), 0px 1px 3px 1px rgba(60, 64, 67, 0.15);\n",
              "      fill: #174EA6;\n",
              "    }\n",
              "\n",
              "    [theme=dark] .colab-df-convert {\n",
              "      background-color: #3B4455;\n",
              "      fill: #D2E3FC;\n",
              "    }\n",
              "\n",
              "    [theme=dark] .colab-df-convert:hover {\n",
              "      background-color: #434B5C;\n",
              "      box-shadow: 0px 1px 3px 1px rgba(0, 0, 0, 0.15);\n",
              "      filter: drop-shadow(0px 1px 2px rgba(0, 0, 0, 0.3));\n",
              "      fill: #FFFFFF;\n",
              "    }\n",
              "  </style>\n",
              "\n",
              "      <script>\n",
              "        const buttonEl =\n",
              "          document.querySelector('#df-f0e79968-efa7-4481-99c2-ab874f15ee80 button.colab-df-convert');\n",
              "        buttonEl.style.display =\n",
              "          google.colab.kernel.accessAllowed ? 'block' : 'none';\n",
              "\n",
              "        async function convertToInteractive(key) {\n",
              "          const element = document.querySelector('#df-f0e79968-efa7-4481-99c2-ab874f15ee80');\n",
              "          const dataTable =\n",
              "            await google.colab.kernel.invokeFunction('convertToInteractive',\n",
              "                                                     [key], {});\n",
              "          if (!dataTable) return;\n",
              "\n",
              "          const docLinkHtml = 'Like what you see? Visit the ' +\n",
              "            '<a target=\"_blank\" href=https://colab.research.google.com/notebooks/data_table.ipynb>data table notebook</a>'\n",
              "            + ' to learn more about interactive tables.';\n",
              "          element.innerHTML = '';\n",
              "          dataTable['output_type'] = 'display_data';\n",
              "          await google.colab.output.renderOutput(dataTable, element);\n",
              "          const docLink = document.createElement('div');\n",
              "          docLink.innerHTML = docLinkHtml;\n",
              "          element.appendChild(docLink);\n",
              "        }\n",
              "      </script>\n",
              "    </div>\n",
              "  </div>\n",
              "  "
            ],
            "text/plain": [
              "          \"p (mbar)\"     \"T (degC)\"     \"Tpot (K)\"  \"Tdew (degC)\"  \\\n",
              "count  420451.000000  420451.000000  420451.000000  420451.000000   \n",
              "mean      989.212508       9.448567     283.491182       4.954011   \n",
              "std         8.359454       8.423685       8.504820       6.730411   \n",
              "min       913.600000     -23.010000     250.600000     -25.010000   \n",
              "25%       984.200000       3.360000     277.430000       0.240000   \n",
              "50%       989.570000       9.410000     283.460000       5.210000   \n",
              "75%       994.720000      15.470000     289.530000      10.070000   \n",
              "max      1015.350000      37.280000     311.340000      23.110000   \n",
              "\n",
              "            \"rh (%)\"  \"VPmax (mbar)\"  \"VPact (mbar)\"  \"VPdef (mbar)\"  \\\n",
              "count  420451.000000   420451.000000   420451.000000   420451.000000   \n",
              "mean       76.007045       13.575089        9.532524        4.042483   \n",
              "std        16.477126        7.739481        4.183895        4.897270   \n",
              "min        12.950000        0.950000        0.790000        0.000000   \n",
              "25%        65.210000        7.780000        6.210000        0.870000   \n",
              "50%        79.300000       11.820000        8.860000        2.190000   \n",
              "75%        89.400000       17.600000       12.350000        5.300000   \n",
              "max       100.000000       63.770000       28.320000       46.010000   \n",
              "\n",
              "         \"sh (g/kg)\"  \"H2OC (mmol/mol)\"  \"rho (g/m**3)\"     \"wv (m/s)\"  \\\n",
              "count  420451.000000      420451.000000   420451.000000  420451.000000   \n",
              "mean        6.021630           9.638982     1216.069883       2.130309   \n",
              "std         2.655973           4.235130       39.977065       1.541830   \n",
              "min         0.500000           0.800000     1059.450000       0.000000   \n",
              "25%         3.920000           6.290000     1187.490000       0.990000   \n",
              "50%         5.590000           8.960000     1213.800000       1.760000   \n",
              "75%         7.800000          12.480000     1242.770000       2.860000   \n",
              "max        18.130000          28.820000     1393.540000      14.630000   \n",
              "\n",
              "       \"max. wv (m/s)\"     \"wd (deg)\"  \n",
              "count    420451.000000  420451.000000  \n",
              "mean          3.532381     174.726164  \n",
              "std           2.340482      86.675965  \n",
              "min           0.000000       0.000000  \n",
              "25%           1.760000     124.800000  \n",
              "50%           2.960000     198.100000  \n",
              "75%           4.740000     234.100000  \n",
              "max          23.500000     360.000000  "
            ]
          },
          "execution_count": 8,
          "metadata": {},
          "output_type": "execute_result"
        }
      ],
      "source": [
        "raw_data_pd.describe()"
      ]
    },
    {
      "cell_type": "code",
      "execution_count": null,
      "metadata": {
        "id": "FIH2Z-aigwDf"
      },
      "outputs": [],
      "source": [
        "# Listing 10.6 Normalizing the data\n",
        "# only on train data\n",
        "mean = raw_data[:num_train_samples].mean(axis=0)\n",
        "raw_data -= mean\n",
        "std = raw_data[:num_train_samples].std(axis=0)\n",
        "raw_data /= std"
      ]
    },
    {
      "cell_type": "code",
      "execution_count": null,
      "metadata": {},
      "outputs": [],
      "source": [
        "import numpy as np \n",
        "from tensorflow import keras"
      ]
    },
    {
      "cell_type": "code",
      "execution_count": null,
      "metadata": {
        "id": "gcjSxu3gjiod"
      },
      "outputs": [],
      "source": [
        "# Listing 10.7 Instantiating datasets for training, validation, and testing\n",
        "\n",
        "# sampling_rate = 6\n",
        "  # Observations will be sampled at one data point per hour\n",
        "  # we will only keep one data point out of 6\n",
        "sampling_rate = 6\n",
        "# sequence_length = 120\n",
        "  # Observations will go back 5 days (120 hours).\n",
        "sequence_length = 120\n",
        "# delay = sampling_rate * (sequence_length + 24 - 1)\n",
        "  # The target for a sequence will be the temperature 24 hours after the end of the sequence.\n",
        "delay = sampling_rate * (sequence_length + 24 - 1)\n",
        "batch_size = 256\n",
        " \n",
        "train_dataset = keras.utils.timeseries_dataset_from_array(\n",
        "    # skip last entries from raw data\n",
        "    raw_data[:-delay],\n",
        "    # skip inital interies from raw data\n",
        "    targets=temperature[delay:],\n",
        "    sampling_rate=sampling_rate,\n",
        "    sequence_length=sequence_length,\n",
        "    shuffle=True,\n",
        "    batch_size=batch_size,\n",
        "    start_index=0,\n",
        "    end_index=num_train_samples)\n",
        " \n",
        "val_dataset = keras.utils.timeseries_dataset_from_array(\n",
        "    raw_data[:-delay],\n",
        "    targets=temperature[delay:],\n",
        "    sampling_rate=sampling_rate,\n",
        "    sequence_length=sequence_length,\n",
        "    shuffle=True,\n",
        "    batch_size=batch_size,\n",
        "    start_index=num_train_samples,\n",
        "    end_index=num_train_samples + num_val_samples)\n",
        " \n",
        "test_dataset = keras.utils.timeseries_dataset_from_array(\n",
        "    raw_data[:-delay],\n",
        "    targets=temperature[delay:],\n",
        "    sampling_rate=sampling_rate,\n",
        "    sequence_length=sequence_length,\n",
        "    shuffle=True,\n",
        "    batch_size=batch_size,\n",
        "    start_index=num_train_samples + num_val_samples)"
      ]
    },
    {
      "cell_type": "code",
      "execution_count": null,
      "metadata": {
        "colab": {
          "base_uri": "https://localhost:8080/"
        },
        "id": "RogZlTyElx3v",
        "outputId": "8c2c628d-bd60-42e2-9fe4-662f6cfdc070"
      },
      "outputs": [
        {
          "name": "stdout",
          "output_type": "stream",
          "text": [
            "samples shape: (256, 120, 14)\n",
            "targets shape: (256,)\n"
          ]
        }
      ],
      "source": [
        "# Listing 10.8 Inspecting the output of one of our datasets\n",
        "for samples, targets in train_dataset:\n",
        "  print(\"samples shape:\", samples.shape)\n",
        "  print(\"targets shape:\", targets.shape)\n",
        "  break"
      ]
    },
    {
      "cell_type": "code",
      "execution_count": null,
      "metadata": {
        "colab": {
          "base_uri": "https://localhost:8080/"
        },
        "id": "54fZ6v0Fnd09",
        "outputId": "29070baa-ffff-46f2-8ce6-0c5dfd698bf7"
      },
      "outputs": [
        {
          "name": "stdout",
          "output_type": "stream",
          "text": [
            "Validation MAE: 2.39\n",
            "Test MAE: 2.77\n"
          ]
        }
      ],
      "source": [
        "# Listing 10.9 Computing the common-sense baseline MAE\n",
        "def evaluate_naive_method(dataset):\n",
        "  total_abs_err = 0.\n",
        "  samples_seen = 0\n",
        "  for samples, targets in dataset:\n",
        "    preds = samples[:, -1, 1] * std[1] + mean[1]\n",
        "    total_abs_err += np.sum(np.abs(preds - targets))\n",
        "    samples_seen += samples.shape[0]\n",
        "    return total_abs_err / samples_seen\n",
        " \n",
        "print(f\"Validation MAE: {evaluate_naive_method(val_dataset):.2f}\") \n",
        "print(f\"Test MAE: {evaluate_naive_method(test_dataset):.2f}\")"
      ]
    },
    {
      "cell_type": "code",
      "execution_count": null,
      "metadata": {
        "colab": {
          "base_uri": "https://localhost:8080/"
        },
        "id": "ktAXfqRCobAi",
        "outputId": "ee902d53-ae2e-4740-b3aa-dee99a76952e"
      },
      "outputs": [
        {
          "name": "stdout",
          "output_type": "stream",
          "text": [
            "Epoch 1/10\n",
            "819/819 [==============================] - 64s 77ms/step - loss: 13.0911 - mae: 2.7838 - val_loss: 11.4789 - val_mae: 2.6791\n",
            "Epoch 2/10\n",
            "819/819 [==============================] - 65s 80ms/step - loss: 9.1854 - mae: 2.3833 - val_loss: 9.8738 - val_mae: 2.4806\n",
            "Epoch 3/10\n",
            "819/819 [==============================] - 62s 75ms/step - loss: 8.4127 - mae: 2.2840 - val_loss: 10.1153 - val_mae: 2.5043\n",
            "Epoch 4/10\n",
            "819/819 [==============================] - 62s 75ms/step - loss: 7.9577 - mae: 2.2232 - val_loss: 10.0054 - val_mae: 2.4930\n",
            "Epoch 5/10\n",
            "819/819 [==============================] - 64s 78ms/step - loss: 7.6015 - mae: 2.1767 - val_loss: 11.2146 - val_mae: 2.6676\n",
            "Epoch 6/10\n",
            "819/819 [==============================] - 64s 78ms/step - loss: 7.3228 - mae: 2.1392 - val_loss: 12.9430 - val_mae: 2.8720\n",
            "Epoch 7/10\n",
            "819/819 [==============================] - 64s 78ms/step - loss: 7.1291 - mae: 2.1125 - val_loss: 11.1505 - val_mae: 2.6577\n",
            "Epoch 8/10\n",
            "819/819 [==============================] - 67s 82ms/step - loss: 6.9708 - mae: 2.0890 - val_loss: 10.9939 - val_mae: 2.6194\n",
            "Epoch 9/10\n",
            "819/819 [==============================] - 68s 83ms/step - loss: 6.8448 - mae: 2.0697 - val_loss: 10.5881 - val_mae: 2.5779\n",
            "Epoch 10/10\n",
            "819/819 [==============================] - 65s 79ms/step - loss: 6.7057 - mae: 2.0502 - val_loss: 10.6643 - val_mae: 2.5925\n",
            "405/405 [==============================] - 20s 49ms/step - loss: 11.1705 - mae: 2.6172\n",
            "Test MAE: 2.62\n"
          ]
        }
      ],
      "source": [
        "# Listing 10.10 Training and evaluating a densely connected model\n",
        "from tensorflow import keras \n",
        "from tensorflow.keras import layers\n",
        " \n",
        "inputs = keras.Input(shape=(sequence_length, raw_data.shape[-1]))\n",
        "x = layers.Flatten()(inputs)\n",
        "x = layers.Dense(16, activation=\"relu\")(x)\n",
        "outputs = layers.Dense(1)(x)\n",
        "model = keras.Model(inputs, outputs)\n",
        " \n",
        "callbacks = [\n",
        "    keras.callbacks.ModelCheckpoint(\"jena_dense.keras\",save_best_only=True)\n",
        "]\n",
        "model.compile(optimizer=\"rmsprop\", loss=\"mse\", metrics=[\"mae\"])\n",
        "history = model.fit(\n",
        "    train_dataset,\n",
        "    epochs=10,\n",
        "    validation_data=val_dataset,\n",
        "    callbacks=callbacks)\n",
        " \n",
        "model = keras.models.load_model(\"jena_dense.keras\")\n",
        "print(f\"Test MAE: {model.evaluate(test_dataset)[1]:.2f}\") "
      ]
    },
    {
      "cell_type": "code",
      "execution_count": null,
      "metadata": {
        "colab": {
          "base_uri": "https://localhost:8080/",
          "height": 281
        },
        "id": "LJGUePJWsQWW",
        "outputId": "bec4fa23-3e1d-4015-d4a6-f38aa46a5cff"
      },
      "outputs": [
        {
          "data": {
            "image/png": "[encoded data removed]",
            "text/plain": [
              "<Figure size 432x288 with 1 Axes>"
            ]
          },
          "metadata": {
            "needs_background": "light"
          },
          "output_type": "display_data"
        }
      ],
      "source": [
        "# Listing 10.11 Plotting results\n",
        "import matplotlib.pyplot as plt\n",
        "loss = history.history[\"mae\"]\n",
        "val_loss = history.history[\"val_mae\"]\n",
        "epochs = range(1, len(loss) + 1)\n",
        "plt.figure()\n",
        "plt.plot(epochs, loss, \"bo\", label=\"Training MAE\")\n",
        "plt.plot(epochs, val_loss, \"b\", label=\"Validation MAE\")\n",
        "plt.title(\"Training and validation MAE\")\n",
        "plt.legend()\n",
        "plt.show()"
      ]
    },
    {
      "cell_type": "markdown",
      "metadata": {
        "id": "IS7WxtGUsswJ"
      },
      "source": [
        "- It is not good than the simple baseline method"
      ]
    },
    {
      "cell_type": "code",
      "execution_count": null,
      "metadata": {
        "colab": {
          "base_uri": "https://localhost:8080/"
        },
        "id": "j7YMqjQPxT-u",
        "outputId": "5c8c7696-17a7-44ad-de2e-ebb4126678a4"
      },
      "outputs": [
        {
          "name": "stdout",
          "output_type": "stream",
          "text": [
            "Epoch 1/10\n",
            "819/819 [==============================] - 100s 121ms/step - loss: 22.7003 - mae: 3.7092 - val_loss: 15.3657 - val_mae: 3.0913\n",
            "Epoch 2/10\n",
            "819/819 [==============================] - 100s 121ms/step - loss: 15.2714 - mae: 3.0870 - val_loss: 14.7151 - val_mae: 3.0497\n",
            "Epoch 3/10\n",
            "819/819 [==============================] - 101s 123ms/step - loss: 14.1115 - mae: 2.9647 - val_loss: 15.8357 - val_mae: 3.1570\n",
            "Epoch 4/10\n",
            "819/819 [==============================] - 110s 134ms/step - loss: 13.2043 - mae: 2.8704 - val_loss: 16.1043 - val_mae: 3.1852\n",
            "Epoch 5/10\n",
            "819/819 [==============================] - 106s 129ms/step - loss: 12.4053 - mae: 2.7848 - val_loss: 15.9923 - val_mae: 3.1553\n",
            "Epoch 6/10\n",
            "819/819 [==============================] - 105s 127ms/step - loss: 11.8741 - mae: 2.7253 - val_loss: 15.1538 - val_mae: 3.0656\n",
            "Epoch 7/10\n",
            "819/819 [==============================] - 112s 136ms/step - loss: 11.4072 - mae: 2.6745 - val_loss: 15.0280 - val_mae: 3.0573\n",
            "Epoch 8/10\n",
            "819/819 [==============================] - 120s 146ms/step - loss: 10.9872 - mae: 2.6259 - val_loss: 15.6418 - val_mae: 3.1166\n",
            "Epoch 9/10\n",
            "819/819 [==============================] - 127s 155ms/step - loss: 10.6626 - mae: 2.5881 - val_loss: 16.7168 - val_mae: 3.2385\n",
            "Epoch 10/10\n",
            "819/819 [==============================] - 104s 127ms/step - loss: 10.3360 - mae: 2.5483 - val_loss: 14.0001 - val_mae: 2.9419\n",
            "405/405 [==============================] - 25s 60ms/step - loss: 15.5941 - mae: 3.1158\n",
            "Test MAE: 3.12\n"
          ]
        }
      ],
      "source": [
        "# Temperature problem with 1D convents\n",
        "\n",
        "inputs = keras.Input(shape=(sequence_length, raw_data.shape[-1]))\n",
        "x = layers.Conv1D(8, 24, activation=\"relu\")(inputs)\n",
        "x = layers.MaxPooling1D(2)(x)\n",
        "x = layers.Conv1D(8, 12, activation=\"relu\")(x)\n",
        "x = layers.MaxPooling1D(2)(x)\n",
        "x = layers.Conv1D(8, 6, activation=\"relu\")(x)\n",
        "x = layers.GlobalAveragePooling1D()(x)\n",
        "outputs = layers.Dense(1)(x)\n",
        "model = keras.Model(inputs, outputs)\n",
        "\n",
        "callbacks = [\n",
        "             keras.callbacks.ModelCheckpoint(\"jena_conv.keras\",save_best_only=True)\n",
        "]\n",
        "\n",
        "model.compile(optimizer=\"rmsprop\", loss=\"mse\", metrics=[\"mae\"])\n",
        "\n",
        "history = model.fit(\n",
        "    train_dataset,\n",
        "    epochs=10,\n",
        "    validation_data=val_dataset,\n",
        "    callbacks=callbacks)\n",
        " \n",
        "model = keras.models.load_model(\"jena_conv.keras\")\n",
        "print(f\"Test MAE: {model.evaluate(test_dataset)[1]:.2f}\")"
      ]
    },
    {
      "cell_type": "code",
      "execution_count": null,
      "metadata": {
        "colab": {
          "base_uri": "https://localhost:8080/",
          "height": 281
        },
        "id": "H3-YznYOyHW-",
        "outputId": "b7d01799-cb4d-48c3-c0a4-4df0e32e99da"
      },
      "outputs": [
        {
          "data": {
            "image/png": "[encoded data removed]",
            "text/plain": [
              "<Figure size 432x288 with 1 Axes>"
            ]
          },
          "metadata": {
            "needs_background": "light"
          },
          "output_type": "display_data"
        }
      ],
      "source": [
        "# Listing 10.11 Plotting results\n",
        "import matplotlib.pyplot as plt\n",
        "loss = history.history[\"mae\"]\n",
        "val_loss = history.history[\"val_mae\"]\n",
        "epochs = range(1, len(loss) + 1)\n",
        "plt.figure()\n",
        "plt.plot(epochs, loss, \"bo\", label=\"Training MAE\")\n",
        "plt.plot(epochs, val_loss, \"b\", label=\"Validation MAE\")\n",
        "plt.title(\"Training and validation MAE\")\n",
        "plt.legend()\n",
        "plt.show()"
      ]
    },
    {
      "cell_type": "markdown",
      "metadata": {
        "id": "navPaPs9yKbB"
      },
      "source": [
        "- even worse results\n"
      ]
    },
    {
      "cell_type": "code",
      "execution_count": null,
      "metadata": {
        "colab": {
          "base_uri": "https://localhost:8080/"
        },
        "id": "5caotNI3zjKf",
        "outputId": "bbb00471-bc80-44bd-c007-a2ab6c519224"
      },
      "outputs": [
        {
          "name": "stdout",
          "output_type": "stream",
          "text": [
            "Epoch 1/10\n",
            "819/819 [==============================] - 125s 149ms/step - loss: 46.4668 - mae: 4.9417 - val_loss: 13.0507 - val_mae: 2.7360\n",
            "Epoch 2/10\n",
            "819/819 [==============================] - 120s 146ms/step - loss: 10.9823 - mae: 2.5648 - val_loss: 9.5309 - val_mae: 2.3986\n",
            "Epoch 3/10\n",
            "819/819 [==============================] - 120s 147ms/step - loss: 9.6552 - mae: 2.4160 - val_loss: 9.3241 - val_mae: 2.3629\n",
            "Epoch 4/10\n",
            "819/819 [==============================] - 120s 147ms/step - loss: 9.1650 - mae: 2.3525 - val_loss: 9.5549 - val_mae: 2.3939\n",
            "Epoch 5/10\n",
            "819/819 [==============================] - 120s 146ms/step - loss: 8.8289 - mae: 2.3062 - val_loss: 9.5379 - val_mae: 2.4026\n",
            "Epoch 6/10\n",
            "819/819 [==============================] - 119s 145ms/step - loss: 8.6090 - mae: 2.2768 - val_loss: 9.6574 - val_mae: 2.4107\n",
            "Epoch 7/10\n",
            "819/819 [==============================] - 117s 143ms/step - loss: 8.3927 - mae: 2.2493 - val_loss: 9.6542 - val_mae: 2.4156\n",
            "Epoch 8/10\n",
            "819/819 [==============================] - 126s 154ms/step - loss: 8.2330 - mae: 2.2277 - val_loss: 9.8264 - val_mae: 2.4373\n",
            "Epoch 9/10\n",
            "819/819 [==============================] - 121s 147ms/step - loss: 8.0850 - mae: 2.2075 - val_loss: 9.8453 - val_mae: 2.4422\n",
            "Epoch 10/10\n",
            "819/819 [==============================] - 121s 147ms/step - loss: 7.9265 - mae: 2.1873 - val_loss: 10.0598 - val_mae: 2.4726\n",
            "405/405 [==============================] - 28s 67ms/step - loss: 10.8774 - mae: 2.5908\n",
            "Test MAE: 2.59\n"
          ]
        }
      ],
      "source": [
        "# long short term memory\n",
        "# Listing 10.12 A simple LSTM-based model\n",
        "\n",
        "inputs = keras.Input(shape=(sequence_length, raw_data.shape[-1]))\n",
        "x = layers.LSTM(16)(inputs)\n",
        "outputs = layers.Dense(1)(x)\n",
        "model = keras.Model(inputs, outputs)\n",
        " \n",
        "callbacks = [\n",
        "             keras.callbacks.ModelCheckpoint(\"jena_lstm.keras\",save_best_only=True)\n",
        "]\n",
        "\n",
        "model.compile(optimizer=\"rmsprop\", loss=\"mse\", metrics=[\"mae\"])\n",
        "\n",
        "history = model.fit(\n",
        "    train_dataset,\n",
        "    epochs=10,\n",
        "    validation_data=val_dataset,\n",
        "    callbacks=callbacks)\n",
        "\n",
        "model = keras.models.load_model(\"jena_lstm.keras\") \n",
        "print(f\"Test MAE: {model.evaluate(test_dataset)[1]:.2f}\")"
      ]
    },
    {
      "cell_type": "code",
      "execution_count": null,
      "metadata": {
        "colab": {
          "base_uri": "https://localhost:8080/",
          "height": 281
        },
        "id": "V-qzqQsfsr2o",
        "outputId": "cba2fafe-97d7-4bd2-b616-fbb83d0b45d1"
      },
      "outputs": [
        {
          "data": {
            "image/png": "[encoded data removed]",
            "text/plain": [
              "<Figure size 432x288 with 1 Axes>"
            ]
          },
          "metadata": {
            "needs_background": "light"
          },
          "output_type": "display_data"
        }
      ],
      "source": [
        "# Listing 10.11 Plotting results\n",
        "import matplotlib.pyplot as plt\n",
        "loss = history.history[\"mae\"]\n",
        "val_loss = history.history[\"val_mae\"]\n",
        "epochs = range(1, len(loss) + 1)\n",
        "plt.figure()\n",
        "plt.plot(epochs, loss, \"bo\", label=\"Training MAE\")\n",
        "plt.plot(epochs, val_loss, \"b\", label=\"Validation MAE\")\n",
        "plt.title(\"Training and validation MAE\")\n",
        "plt.legend()\n",
        "plt.show()"
      ]
    },
    {
      "cell_type": "markdown",
      "metadata": {
        "id": "YGmooI3t1-Dp"
      },
      "source": [
        "- LSTM based model performed somewhat batter"
      ]
    },
    {
      "cell_type": "markdown",
      "metadata": {},
      "source": [
        "---"
      ]
    }
  ],
  "metadata": {
    "colab": {
      "collapsed_sections": [
        "xRj-WhgBM1FW",
        "NQ-ZJ9mcSws_",
        "-CnMbf_XVw1l",
        "qDdwDn-VTslG",
        "h-sQ6llBocXM",
        "nxr_Z_SNszSK",
        "m065buOYxESr",
        "wlCZeg_6102s",
        "6meYY3GkRX2i",
        "tj21FXsPCI4Q",
        "pdyv4vI3IeHc"
      ],
      "name": "DeepLearning_book_10_1.ipynb",
      "provenance": []
    },
    "kernelspec": {
      "display_name": "Python 3",
      "name": "python3"
    },
    "language_info": {
      "name": "python"
    }
  },
  "nbformat": 4,
  "nbformat_minor": 0
}
