{
  "cells": [
    {
      "cell_type": "markdown",
      "metadata": {
        "id": "XrpsnbZsQr-N"
      },
      "source": [
        "# Cats vs Dogs CNN"
      ]
    },
    {
      "cell_type": "code",
      "execution_count": 2,
      "metadata": {
        "colab": {
          "base_uri": "https://localhost:8080/"
        },
        "id": "u1t3Q1urwZvD",
        "outputId": "6bcfaf65-e7a8-462b-cb9a-852a4e510246"
      },
      "outputs": [
        {
          "name": "stdout",
          "output_type": "stream",
          "text": [
            "Mounted at /content/drive\n"
          ]
        }
      ],
      "source": [
        "# mount google drive\n",
        "from google.colab import drive\n",
        "drive.mount('/content/drive')"
      ]
    },
    {
      "cell_type": "code",
      "execution_count": 3,
      "metadata": {
        "colab": {
          "base_uri": "https://localhost:8080/",
          "height": 125,
          "resources": {
            "http://localhost:8080/nbextensions/google.colab/files.js": {
              "data": "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",
              "headers": [
                [
                  "content-type",
                  "application/javascript"
                ]
              ],
              "ok": true,
              "status": 200,
              "status_text": ""
            }
          }
        },
        "id": "RXNQhD1NvD_0",
        "outputId": "33dc1449-c50c-49b8-8911-05ff2c3c61f8"
      },
      "outputs": [
        {
          "data": {
            "text/html": [
              "\n",
              "     <input type=\"file\" id=\"files-d5571c91-47b7-47dd-b3f0-538e54998ca4\" name=\"files[]\" multiple disabled\n",
              "        style=\"border:none\" />\n",
              "     <output id=\"result-d5571c91-47b7-47dd-b3f0-538e54998ca4\">\n",
              "      Upload widget is only available when the cell has been executed in the\n",
              "      current browser session. Please rerun this cell to enable.\n",
              "      </output>\n",
              "      <script src=\"/nbextensions/google.colab/files.js\"></script> "
            ],
            "text/plain": [
              "<IPython.core.display.HTML object>"
            ]
          },
          "metadata": {},
          "output_type": "display_data"
        },
        {
          "name": "stdout",
          "output_type": "stream",
          "text": [
            "Saving kaggle.json to kaggle.json\n",
            "Downloading dogs-vs-cats.zip to /content\n",
            " 98% 799M/812M [00:03<00:00, 245MB/s]\n",
            "100% 812M/812M [00:03<00:00, 269MB/s]\n"
          ]
        }
      ],
      "source": [
        "# piece of code to download kaggle data directly to colab\n",
        "# upload kaggle json file on the colab\n",
        "from google.colab import files\n",
        "files.upload()\n",
        "# make kaggle directory\n",
        "!mkdir ~/.kaggle\n",
        "# move kaggle file to newly created folder\n",
        "!cp kaggle.json ~/.kaggle/\n",
        "# chnage permissions for file created\n",
        "!chmod 600 ~/.kaggle/kaggle.json\n",
        "# Downlaod data from kaggle\n",
        "!kaggle competitions download -c dogs-vs-cats"
      ]
    },
    {
      "cell_type": "code",
      "execution_count": 4,
      "metadata": {
        "id": "Qd5VyAdnSYXd"
      },
      "outputs": [],
      "source": [
        "# unzip downloaded data\n",
        "!unzip -qq dogs-vs-cats.zip\n",
        "!unzip -qq train.zip"
      ]
    },
    {
      "cell_type": "code",
      "execution_count": 5,
      "metadata": {
        "id": "RpqNDheoTruE"
      },
      "outputs": [],
      "source": [
        "# Listing 8.6 Copying images to training, validation, and test directories\n",
        "\n",
        "# imports\n",
        "import os, shutil, pathlib\n",
        "\n",
        "# path to complete data set \n",
        "original_dir = pathlib.Path(\"train\")\n",
        "# path to smaller data set\n",
        "new_base_dir = pathlib.Path(\"cats_vs_dogs_small\")\n",
        "\n",
        "# function to get images from complete set and save in subset\n",
        "def make_subset(subset_name, start_index, end_index):\n",
        "  # loop over cat and dog category\n",
        "  for category in (\"cat\", \"dog\"):\n",
        "    # path to new directory\n",
        "    dir = new_base_dir / subset_name / category\n",
        "    # make new directories\n",
        "    os.makedirs(dir)\n",
        "    # range of files names\n",
        "    fnames = [f\"{category}.{i}.jpg\" for i in range(start_index, end_index)]\n",
        "    for fname in fnames:\n",
        "      # copy files from source to target\n",
        "      shutil.copyfile(src=original_dir / fname, dst=dir / fname)\n",
        " \n",
        "# call sfor train, validation and test set\n",
        "make_subset(\"train\", start_index=0, end_index=1000)\n",
        "make_subset(\"validation\", start_index=1000, end_index=1500)\n",
        "make_subset(\"test\", start_index=1500, end_index=2500)"
      ]
    },
    {
      "cell_type": "code",
      "execution_count": 6,
      "metadata": {
        "id": "ouCQJnLSVWHI"
      },
      "outputs": [],
      "source": [
        "# Listing 8.7 Instantiating a small convnet for dogs vs. cats classification\n",
        "\n",
        "# imports\n",
        "from tensorflow import keras \n",
        "from tensorflow.keras import layers\n",
        " \n",
        "# layers\n",
        "\n",
        "# inputs which are going to be images\n",
        "# (180,180,3) is the assumed size of the inputs\n",
        "# need to rescale inputs to said size\n",
        "inputs = keras.Input(shape=(180, 180, 3))\n",
        "# rescaling layer as we need the inputs to be in range [0-1]\n",
        "x = layers.Rescaling(1./255)(inputs)\n",
        "\n",
        "# Conv and max poling layers\n",
        "x = layers.Conv2D(filters=32, kernel_size=3, activation=\"relu\")(x)\n",
        "x = layers.MaxPooling2D(pool_size=2)(x)\n",
        "x = layers.Conv2D(filters=64, kernel_size=3, activation=\"relu\")(x)\n",
        "x = layers.MaxPooling2D(pool_size=2)(x)\n",
        "x = layers.Conv2D(filters=128, kernel_size=3, activation=\"relu\")(x)\n",
        "x = layers.MaxPooling2D(pool_size=2)(x)\n",
        "x = layers.Conv2D(filters=256, kernel_size=3, activation=\"relu\")(x)\n",
        "x = layers.MaxPooling2D(pool_size=2)(x)\n",
        "x = layers.Conv2D(filters=256, kernel_size=3, activation=\"relu\")(x)\n",
        "\n",
        "# flatten the inputs as next we are using dense layer\n",
        "x = layers.Flatten()(x)\n",
        "# sigmoid activation as the binary classification problem\n",
        "outputs = layers.Dense(1, activation=\"sigmoid\")(x)\n",
        "\n",
        "# model defination\n",
        "model = keras.Model(inputs=inputs, outputs=outputs)"
      ]
    },
    {
      "cell_type": "code",
      "execution_count": 7,
      "metadata": {
        "colab": {
          "base_uri": "https://localhost:8080/"
        },
        "id": "QZ90gOa3WySU",
        "outputId": "6ca23730-f355-449a-ef33-b198d94925f6"
      },
      "outputs": [
        {
          "name": "stdout",
          "output_type": "stream",
          "text": [
            "Model: \"model\"\n",
            "_________________________________________________________________\n",
            " Layer (type)                Output Shape              Param #   \n",
            "=================================================================\n",
            " input_1 (InputLayer)        [(None, 180, 180, 3)]     0         \n",
            "                                                                 \n",
            " rescaling (Rescaling)       (None, 180, 180, 3)       0         \n",
            "                                                                 \n",
            " conv2d (Conv2D)             (None, 178, 178, 32)      896       \n",
            "                                                                 \n",
            " max_pooling2d (MaxPooling2D  (None, 89, 89, 32)       0         \n",
            " )                                                               \n",
            "                                                                 \n",
            " conv2d_1 (Conv2D)           (None, 87, 87, 64)        18496     \n",
            "                                                                 \n",
            " max_pooling2d_1 (MaxPooling  (None, 43, 43, 64)       0         \n",
            " 2D)                                                             \n",
            "                                                                 \n",
            " conv2d_2 (Conv2D)           (None, 41, 41, 128)       73856     \n",
            "                                                                 \n",
            " max_pooling2d_2 (MaxPooling  (None, 20, 20, 128)      0         \n",
            " 2D)                                                             \n",
            "                                                                 \n",
            " conv2d_3 (Conv2D)           (None, 18, 18, 256)       295168    \n",
            "                                                                 \n",
            " max_pooling2d_3 (MaxPooling  (None, 9, 9, 256)        0         \n",
            " 2D)                                                             \n",
            "                                                                 \n",
            " conv2d_4 (Conv2D)           (None, 7, 7, 256)         590080    \n",
            "                                                                 \n",
            " flatten (Flatten)           (None, 12544)             0         \n",
            "                                                                 \n",
            " dense (Dense)               (None, 1)                 12545     \n",
            "                                                                 \n",
            "=================================================================\n",
            "Total params: 991,041\n",
            "Trainable params: 991,041\n",
            "Non-trainable params: 0\n",
            "_________________________________________________________________\n"
          ]
        }
      ],
      "source": [
        "model.summary()"
      ]
    },
    {
      "cell_type": "code",
      "execution_count": 8,
      "metadata": {
        "id": "Q7-H0zcbXMqd"
      },
      "outputs": [],
      "source": [
        "# Listing 8.8 Configuring the model for training\n",
        "model.compile(\n",
        "    loss=\"binary_crossentropy\",\n",
        "    optimizer=\"rmsprop\",\n",
        "    metrics=[\"accuracy\"])"
      ]
    },
    {
      "cell_type": "code",
      "execution_count": 9,
      "metadata": {
        "colab": {
          "base_uri": "https://localhost:8080/"
        },
        "id": "Dp06NwEPZJT2",
        "outputId": "f1c1359a-c834-469b-93da-bd8367df1755"
      },
      "outputs": [
        {
          "name": "stdout",
          "output_type": "stream",
          "text": [
            "Found 2000 files belonging to 2 classes.\n",
            "Found 1000 files belonging to 2 classes.\n",
            "Found 2000 files belonging to 2 classes.\n"
          ]
        }
      ],
      "source": [
        "# Listing 8.9 Using image_dataset_from_directory to read images\n",
        "  # image_dataset_from_directory(directory) will list the subdirectories of directory\n",
        "  # index the image files in each subdirectory\n",
        "  # create and return a tf.data.Dataset object \n",
        "    # configured to read these files, \n",
        "    # shuffle them\n",
        "    # decode them to tensors\n",
        "    # resize them to a shared size\n",
        "    # and pack them into batches.\n",
        "\n",
        "from tensorflow.keras.utils import image_dataset_from_directory\n",
        " \n",
        "# create datasets\n",
        "train_dataset = image_dataset_from_directory(\n",
        "    # path of the directory\n",
        "    new_base_dir / \"train\",\n",
        "    # reshape images to said size\n",
        "    image_size=(180, 180),\n",
        "    # batch size / 32 samples per batch\n",
        "    batch_size=32)\n",
        "validation_dataset = image_dataset_from_directory(\n",
        "    new_base_dir / \"validation\",\n",
        "    image_size=(180, 180),\n",
        "    batch_size=32)\n",
        "test_dataset = image_dataset_from_directory(\n",
        "    new_base_dir / \"test\",\n",
        "    image_size=(180, 180),\n",
        "    batch_size=32)"
      ]
    },
    {
      "cell_type": "code",
      "execution_count": 11,
      "metadata": {
        "colab": {
          "base_uri": "https://localhost:8080/"
        },
        "id": "V8h8xAdOcP3Y",
        "outputId": "a52af0ce-7f10-4781-daac-c1306f970f3a"
      },
      "outputs": [
        {
          "name": "stdout",
          "output_type": "stream",
          "text": [
            "bathces of train_dataset :  62\n",
            "train data batch shape: (32, 180, 180, 3)\n",
            "train labels batch shape: (32,)\n",
            "bathces of validation_dataset :  31\n",
            "validation data batch shape: (32, 180, 180, 3)\n",
            "validation labels batch shape: (32,)\n",
            "bathces of test_dataset :  62\n",
            "test data batch shape: (32, 180, 180, 3)\n",
            "test labels batch shape: (32,)\n"
          ]
        }
      ],
      "source": [
        "# Listing 8.10 Displaying the shapes of the data and labels yielded by the Dataset\n",
        "for i, element in enumerate(train_dataset):\n",
        "  pass\n",
        "print(\"bathces of train_dataset : \",i)\n",
        "\n",
        "for train_data_batch, train_labels_batch in train_dataset:\n",
        "  print(\"train data batch shape:\", train_data_batch.shape)\n",
        "  print(\"train labels batch shape:\", train_labels_batch.shape)\n",
        "  break\n",
        "\n",
        "for i, element in enumerate(validation_dataset):\n",
        "  pass\n",
        "print(\"bathces of validation_dataset : \",i)\n",
        "for validation_data_batch, validation_labels_batch in validation_dataset:\n",
        "  print(\"validation data batch shape:\", validation_data_batch.shape)\n",
        "  print(\"validation labels batch shape:\", validation_labels_batch.shape)\n",
        "  break\n",
        "\n",
        "for i, element in enumerate(test_dataset):\n",
        "  pass\n",
        "print(\"bathces of test_dataset : \",i)\n",
        "for test_data_batch, test_labels_batch in test_dataset:\n",
        "  print(\"test data batch shape:\", test_data_batch.shape)\n",
        "  print(\"test labels batch shape:\", test_labels_batch.shape)\n",
        "  break"
      ]
    },
    {
      "cell_type": "code",
      "execution_count": 12,
      "metadata": {
        "colab": {
          "base_uri": "https://localhost:8080/"
        },
        "id": "1jjAlB7ikF1h",
        "outputId": "04b42d43-0c3d-4708-b103-96225ad12417"
      },
      "outputs": [
        {
          "name": "stdout",
          "output_type": "stream",
          "text": [
            "Epoch 1/30\n",
            "63/63 [==============================] - 19s 81ms/step - loss: 0.7288 - accuracy: 0.4925 - val_loss: 0.6911 - val_accuracy: 0.5910\n",
            "Epoch 2/30\n",
            "63/63 [==============================] - 5s 69ms/step - loss: 0.7001 - accuracy: 0.5480 - val_loss: 0.6567 - val_accuracy: 0.6080\n",
            "Epoch 3/30\n",
            "63/63 [==============================] - 5s 70ms/step - loss: 0.6900 - accuracy: 0.5850 - val_loss: 0.6305 - val_accuracy: 0.6560\n",
            "Epoch 4/30\n",
            "63/63 [==============================] - 5s 69ms/step - loss: 0.6260 - accuracy: 0.6605 - val_loss: 0.5979 - val_accuracy: 0.6780\n",
            "Epoch 5/30\n",
            "63/63 [==============================] - 5s 70ms/step - loss: 0.5914 - accuracy: 0.6905 - val_loss: 0.5945 - val_accuracy: 0.6780\n",
            "Epoch 6/30\n",
            "63/63 [==============================] - 5s 69ms/step - loss: 0.5681 - accuracy: 0.7070 - val_loss: 0.7577 - val_accuracy: 0.5880\n",
            "Epoch 7/30\n",
            "63/63 [==============================] - 5s 69ms/step - loss: 0.5194 - accuracy: 0.7465 - val_loss: 0.6387 - val_accuracy: 0.7080\n",
            "Epoch 8/30\n",
            "63/63 [==============================] - 5s 70ms/step - loss: 0.4944 - accuracy: 0.7670 - val_loss: 0.6005 - val_accuracy: 0.7100\n",
            "Epoch 9/30\n",
            "63/63 [==============================] - 5s 70ms/step - loss: 0.4293 - accuracy: 0.8000 - val_loss: 0.7040 - val_accuracy: 0.6680\n",
            "Epoch 10/30\n",
            "63/63 [==============================] - 5s 70ms/step - loss: 0.3954 - accuracy: 0.8135 - val_loss: 0.5794 - val_accuracy: 0.7350\n",
            "Epoch 11/30\n",
            "63/63 [==============================] - 5s 69ms/step - loss: 0.3437 - accuracy: 0.8555 - val_loss: 0.6441 - val_accuracy: 0.7390\n",
            "Epoch 12/30\n",
            "63/63 [==============================] - 5s 69ms/step - loss: 0.2961 - accuracy: 0.8765 - val_loss: 0.9254 - val_accuracy: 0.6850\n",
            "Epoch 13/30\n",
            "63/63 [==============================] - 5s 68ms/step - loss: 0.2329 - accuracy: 0.9090 - val_loss: 0.8293 - val_accuracy: 0.7480\n",
            "Epoch 14/30\n",
            "63/63 [==============================] - 5s 70ms/step - loss: 0.2026 - accuracy: 0.9280 - val_loss: 0.9391 - val_accuracy: 0.7340\n",
            "Epoch 15/30\n",
            "63/63 [==============================] - 5s 70ms/step - loss: 0.1537 - accuracy: 0.9395 - val_loss: 1.2149 - val_accuracy: 0.7160\n",
            "Epoch 16/30\n",
            "63/63 [==============================] - 5s 70ms/step - loss: 0.1421 - accuracy: 0.9455 - val_loss: 0.9687 - val_accuracy: 0.7460\n",
            "Epoch 17/30\n",
            "63/63 [==============================] - 5s 70ms/step - loss: 0.0954 - accuracy: 0.9635 - val_loss: 1.6932 - val_accuracy: 0.7090\n",
            "Epoch 18/30\n",
            "63/63 [==============================] - 5s 71ms/step - loss: 0.1317 - accuracy: 0.9595 - val_loss: 1.2239 - val_accuracy: 0.7490\n",
            "Epoch 19/30\n",
            "63/63 [==============================] - 5s 70ms/step - loss: 0.0752 - accuracy: 0.9730 - val_loss: 1.7531 - val_accuracy: 0.6980\n",
            "Epoch 20/30\n",
            "63/63 [==============================] - 5s 72ms/step - loss: 0.0767 - accuracy: 0.9715 - val_loss: 1.7827 - val_accuracy: 0.7490\n",
            "Epoch 21/30\n",
            "63/63 [==============================] - 5s 71ms/step - loss: 0.0670 - accuracy: 0.9810 - val_loss: 1.8384 - val_accuracy: 0.7390\n",
            "Epoch 22/30\n",
            "63/63 [==============================] - 5s 71ms/step - loss: 0.0581 - accuracy: 0.9835 - val_loss: 1.7152 - val_accuracy: 0.7030\n",
            "Epoch 23/30\n",
            "63/63 [==============================] - 5s 72ms/step - loss: 0.0590 - accuracy: 0.9790 - val_loss: 1.8162 - val_accuracy: 0.7010\n",
            "Epoch 24/30\n",
            "63/63 [==============================] - 5s 73ms/step - loss: 0.0534 - accuracy: 0.9850 - val_loss: 1.8856 - val_accuracy: 0.7550\n",
            "Epoch 25/30\n",
            "63/63 [==============================] - 5s 71ms/step - loss: 0.0849 - accuracy: 0.9745 - val_loss: 1.6836 - val_accuracy: 0.7360\n",
            "Epoch 26/30\n",
            "63/63 [==============================] - 5s 71ms/step - loss: 0.0546 - accuracy: 0.9850 - val_loss: 1.9685 - val_accuracy: 0.7460\n",
            "Epoch 27/30\n",
            "63/63 [==============================] - 5s 71ms/step - loss: 0.0455 - accuracy: 0.9855 - val_loss: 2.1169 - val_accuracy: 0.7260\n",
            "Epoch 28/30\n",
            "63/63 [==============================] - 5s 72ms/step - loss: 0.0548 - accuracy: 0.9825 - val_loss: 2.2471 - val_accuracy: 0.7380\n",
            "Epoch 29/30\n",
            "63/63 [==============================] - 5s 71ms/step - loss: 0.0974 - accuracy: 0.9805 - val_loss: 2.3953 - val_accuracy: 0.7130\n",
            "Epoch 30/30\n",
            "63/63 [==============================] - 5s 71ms/step - loss: 0.0403 - accuracy: 0.9890 - val_loss: 2.2690 - val_accuracy: 0.7320\n"
          ]
        }
      ],
      "source": [
        "# Listing 8.11 Fitting the model using a Dataset\n",
        "callbacks = [\n",
        "  keras.callbacks.ModelCheckpoint(\n",
        "  filepath=\"cats_vs_dogs_small.keras\",\n",
        "  save_best_only=True,\n",
        "  monitor=\"val_loss\")\n",
        "]\n",
        "\n",
        "history = model.fit(\n",
        "    train_dataset,\n",
        "    epochs=30,\n",
        "    validation_data=validation_dataset,\n",
        "    callbacks=callbacks)"
      ]
    },
    {
      "cell_type": "code",
      "execution_count": 13,
      "metadata": {
        "colab": {
          "base_uri": "https://localhost:8080/",
          "height": 545
        },
        "id": "W37zC7HwkWux",
        "outputId": "fc374558-40a4-4978-c86e-c1a42bdc56fa"
      },
      "outputs": [
        {
          "data": {
            "image/png": "[encoded data removed]",
            "text/plain": [
              "<Figure size 432x288 with 1 Axes>"
            ]
          },
          "metadata": {
            "needs_background": "light"
          },
          "output_type": "display_data"
        },
        {
          "data": {
            "image/png": "[encoded data removed]",
            "text/plain": [
              "<Figure size 432x288 with 1 Axes>"
            ]
          },
          "metadata": {
            "needs_background": "light"
          },
          "output_type": "display_data"
        }
      ],
      "source": [
        "# Listing 8.12 Displaying curves of loss and accuracy during training\n",
        "import matplotlib.pyplot as plt\n",
        "accuracy = history.history[\"accuracy\"]\n",
        "val_accuracy = history.history[\"val_accuracy\"]\n",
        "loss = history.history[\"loss\"]\n",
        "val_loss = history.history[\"val_loss\"]\n",
        "epochs = range(1, len(accuracy) + 1)\n",
        "plt.plot(epochs, accuracy, \"bo\", label=\"Training accuracy\")\n",
        "plt.plot(epochs, val_accuracy, \"b\", label=\"Validation accuracy\")\n",
        "plt.title(\"Training and validation accuracy\")\n",
        "plt.legend()\n",
        "plt.figure()\n",
        "plt.plot(epochs, loss, \"bo\", label=\"Training loss\")\n",
        "plt.plot(epochs, val_loss, \"b\", label=\"Validation loss\")\n",
        "plt.title(\"Training and validation loss\")\n",
        "plt.legend()\n",
        "plt.show()"
      ]
    },
    {
      "cell_type": "code",
      "execution_count": 14,
      "metadata": {
        "colab": {
          "base_uri": "https://localhost:8080/"
        },
        "id": "1FGuorj0mIK8",
        "outputId": "f37eea1b-ad33-48be-ffb0-1faa3305a982"
      },
      "outputs": [
        {
          "name": "stdout",
          "output_type": "stream",
          "text": [
            "63/63 [==============================] - 3s 37ms/step - loss: 0.5833 - accuracy: 0.7150\n",
            "Test accuracy: 0.715\n"
          ]
        }
      ],
      "source": [
        "# Listing 8.13 Evaluating the model on the test set\n",
        "# load model, saved before overfitting started\n",
        "test_model = keras.models.load_model(\"cats_vs_dogs_small.keras\")\n",
        "test_loss, test_acc = test_model.evaluate(test_dataset) \n",
        "print(f\"Test accuracy: {test_acc:.3f}\")"
      ]
    },
    {
      "cell_type": "markdown",
      "metadata": {
        "id": "Awml5AQVm4AR"
      },
      "source": [
        "- a test accuracy of 74%"
      ]
    }
  ],
  "metadata": {
    "accelerator": "GPU",
    "colab": {
      "collapsed_sections": [],
      "name": "DeepLearning_book_8_2.ipynb",
      "provenance": []
    },
    "kernelspec": {
      "display_name": "Python 3",
      "name": "python3"
    },
    "language_info": {
      "name": "python"
    }
  },
  "nbformat": 4,
  "nbformat_minor": 0
}
