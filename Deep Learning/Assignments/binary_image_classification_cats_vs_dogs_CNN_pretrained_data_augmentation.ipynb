{
  "cells": [
    {
      "cell_type": "markdown",
      "metadata": {
        "id": "gLCaAf6ZFKU4"
      },
      "source": [
        "# Cats vs Dogs CNN pretrained Data Augmentation"
      ]
    },
    {
      "cell_type": "code",
      "execution_count": 1,
      "metadata": {
        "colab": {
          "base_uri": "https://localhost:8080/",
          "height": 350,
          "resources": {
            "http://localhost:8080/nbextensions/google.colab/files.js": {
              "data": "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",
              "headers": [
                [
                  "content-type",
                  "application/javascript"
                ]
              ],
              "ok": true,
              "status": 200,
              "status_text": ""
            }
          }
        },
        "id": "1b_KyDN1NFBq",
        "outputId": "277e9f5b-f08f-4cf3-e11f-2b6fe8c9d2c5"
      },
      "outputs": [
        {
          "name": "stdout",
          "output_type": "stream",
          "text": [
            "Mounted at /content/drive\n"
          ]
        },
        {
          "data": {
            "text/html": [
              "\n",
              "     <input type=\"file\" id=\"files-08c942ef-578d-444d-9ce3-fb9c65840c8f\" name=\"files[]\" multiple disabled\n",
              "        style=\"border:none\" />\n",
              "     <output id=\"result-08c942ef-578d-444d-9ce3-fb9c65840c8f\">\n",
              "      Upload widget is only available when the cell has been executed in the\n",
              "      current browser session. Please rerun this cell to enable.\n",
              "      </output>\n",
              "      <script src=\"/nbextensions/google.colab/files.js\"></script> "
            ],
            "text/plain": [
              "<IPython.core.display.HTML object>"
            ]
          },
          "metadata": {},
          "output_type": "display_data"
        },
        {
          "name": "stdout",
          "output_type": "stream",
          "text": [
            "Saving kaggle.json to kaggle.json\n",
            "Downloading dogs-vs-cats.zip to /content\n",
            " 99% 806M/812M [00:03<00:00, 211MB/s]\n",
            "100% 812M/812M [00:03<00:00, 246MB/s]\n",
            "Found 2000 files belonging to 2 classes.\n",
            "Found 1000 files belonging to 2 classes.\n",
            "Found 2000 files belonging to 2 classes.\n",
            "bathces of train_dataset :  62\n",
            "train data batch shape: (32, 180, 180, 3)\n",
            "train labels batch shape: (32,)\n",
            "bathces of validation_dataset :  31\n",
            "validation data batch shape: (32, 180, 180, 3)\n",
            "validation labels batch shape: (32,)\n",
            "bathces of test_dataset :  62\n",
            "test data batch shape: (32, 180, 180, 3)\n",
            "test labels batch shape: (32,)\n"
          ]
        }
      ],
      "source": [
        "# mount google drive\n",
        "from google.colab import drive\n",
        "drive.mount('/content/drive')\n",
        "\n",
        "# # se this piece of code to download kaggle data directly to colab\n",
        "# upload kaggle json file on the colab\n",
        "from google.colab import files\n",
        "files.upload()\n",
        "# make kaggle directory\n",
        "!mkdir ~/.kaggle\n",
        "# move kaggle file to newly created folder\n",
        "!cp kaggle.json ~/.kaggle/\n",
        "# chnage permissions for file created\n",
        "!chmod 600 ~/.kaggle/kaggle.json\n",
        "# Downlaod data from kaggle\n",
        "!kaggle competitions download -c dogs-vs-cats\n",
        "\n",
        "# unzip downloaded data\n",
        "!unzip -qq dogs-vs-cats.zip\n",
        "!unzip -qq train.zip\n",
        "\n",
        "# Copying images to training, validation, and test directories\n",
        "# imports\n",
        "import os, shutil, pathlib\n",
        "# path to complete data set \n",
        "original_dir = pathlib.Path(\"train\")\n",
        "# path to smaller data set\n",
        "new_base_dir = pathlib.Path(\"cats_vs_dogs_small\")\n",
        "# function to get images from complete set and save in subset\n",
        "def make_subset(subset_name, start_index, end_index):\n",
        "  # loop over cat and dog category\n",
        "  for category in (\"cat\", \"dog\"):\n",
        "    # path to new directory\n",
        "    dir = new_base_dir / subset_name / category\n",
        "    # make new directories\n",
        "    os.makedirs(dir)\n",
        "    # range of files names\n",
        "    fnames = [f\"{category}.{i}.jpg\" for i in range(start_index, end_index)]\n",
        "    for fname in fnames:\n",
        "      # copy files from source to target\n",
        "      shutil.copyfile(src=original_dir / fname, dst=dir / fname)\n",
        "# call sfor train, validation and test set\n",
        "make_subset(\"train\", start_index=0, end_index=1000)\n",
        "make_subset(\"validation\", start_index=1000, end_index=1500)\n",
        "make_subset(\"test\", start_index=1500, end_index=2500)\n",
        "\n",
        "# Using image_dataset_from_directory to read images\n",
        "  # image_dataset_from_directory(directory) will list the subdirectories of directory\n",
        "  # index the image files in each subdirectory\n",
        "  # create and return a tf.data.Dataset object \n",
        "    # configured to read these files, \n",
        "    # shuffle them\n",
        "    # decode them to tensors\n",
        "    # resize them to a shared size\n",
        "    # and pack them into batches.\n",
        "\n",
        "from tensorflow.keras.utils import image_dataset_from_directory\n",
        " \n",
        "# create datasets\n",
        "train_dataset = image_dataset_from_directory(\n",
        "    # path of the directory\n",
        "    new_base_dir / \"train\",\n",
        "    # reshape images to said size\n",
        "    image_size=(180, 180),\n",
        "    # batch size / 32 samples per batch\n",
        "    batch_size=32)\n",
        "validation_dataset = image_dataset_from_directory(\n",
        "    new_base_dir / \"validation\",\n",
        "    image_size=(180, 180),\n",
        "    batch_size=32)\n",
        "test_dataset = image_dataset_from_directory(\n",
        "    new_base_dir / \"test\",\n",
        "    image_size=(180, 180),\n",
        "    batch_size=32)\n",
        "\n",
        "# Displaying the shapes of the data and labels yielded by the Dataset\n",
        "for i, element in enumerate(train_dataset):\n",
        "  pass\n",
        "print(\"bathces of train_dataset : \",i)\n",
        "for train_data_batch, train_labels_batch in train_dataset:\n",
        "  print(\"train data batch shape:\", train_data_batch.shape)\n",
        "  print(\"train labels batch shape:\", train_labels_batch.shape)\n",
        "  break\n",
        "for i, element in enumerate(validation_dataset):\n",
        "  pass\n",
        "print(\"bathces of validation_dataset : \",i)\n",
        "for validation_data_batch, validation_labels_batch in validation_dataset:\n",
        "  print(\"validation data batch shape:\", validation_data_batch.shape)\n",
        "  print(\"validation labels batch shape:\", validation_labels_batch.shape)\n",
        "  break\n",
        "for i, element in enumerate(test_dataset):\n",
        "  pass\n",
        "print(\"bathces of test_dataset : \",i)\n",
        "for test_data_batch, test_labels_batch in test_dataset:\n",
        "  print(\"test data batch shape:\", test_data_batch.shape)\n",
        "  print(\"test labels batch shape:\", test_labels_batch.shape)\n",
        "  break"
      ]
    },
    {
      "cell_type": "code",
      "execution_count": 8,
      "metadata": {
        "id": "1zYRTUoaRDmr"
      },
      "outputs": [],
      "source": [
        "# Listing 8.23 Instantiating and freezing the VGG16 convolutional base\n",
        "from tensorflow import keras\n",
        "from tensorflow.keras import layers\n",
        "conv_base = keras.applications.vgg16.VGG16(\n",
        "    weights=\"imagenet\",\n",
        "    include_top=False)\n",
        "conv_base.trainable = False"
      ]
    },
    {
      "cell_type": "code",
      "execution_count": 9,
      "metadata": {
        "colab": {
          "base_uri": "https://localhost:8080/"
        },
        "id": "HSOvNEebRN9l",
        "outputId": "f9175bbf-b852-4940-def9-50c387f3dec2"
      },
      "outputs": [
        {
          "name": "stdout",
          "output_type": "stream",
          "text": [
            "This is the number of trainable weights before freezing the conv base: 26\n",
            "This is the number of trainable weights after freezing the conv base: 0\n"
          ]
        }
      ],
      "source": [
        "# Listing 8.24 Printing the list of trainable weights before and after freezing\n",
        "conv_base.trainable = True\n",
        "print(\"This is the number of trainable weights before freezing the conv base:\", len(conv_base.trainable_weights))\n",
        "conv_base.trainable = False\n",
        "print(\"This is the number of trainable weights after freezing the conv base:\", len(conv_base.trainable_weights))"
      ]
    },
    {
      "cell_type": "markdown",
      "metadata": {
        "id": "S1j6fGgZRhAA"
      },
      "source": [
        "# create a new model that chains together\n",
        "  1. A data augmentation stage\n",
        "  2. Our frozen convolutional base\n",
        "  3. A dense classifier"
      ]
    },
    {
      "cell_type": "code",
      "execution_count": 10,
      "metadata": {
        "id": "BWwDihvCRclW"
      },
      "outputs": [],
      "source": [
        "# Listing 8.25 Adding a data augmentation stage and a classifier to the convolutional base\n",
        "\n",
        "data_augmentation = keras.Sequential(\n",
        "    [\n",
        "     layers.RandomFlip(\"horizontal\"),\n",
        "     layers.RandomRotation(0.1),\n",
        "     layers.RandomZoom(0.2),\n",
        "    ]\n",
        ")\n",
        " \n",
        "inputs = keras.Input(shape=(180, 180, 3))\n",
        "x = data_augmentation(inputs)\n",
        "x = keras.applications.vgg16.preprocess_input(x)\n",
        "x = conv_base(x)\n",
        "x = layers.Flatten()(x)\n",
        "x = layers.Dense(256)(x)\n",
        "x = layers.Dropout(0.5)(x)\n",
        "outputs = layers.Dense(1, activation=\"sigmoid\")(x)\n",
        "model = keras.Model(inputs, outputs)\n",
        "\n",
        "model.compile(\n",
        "    loss=\"binary_crossentropy\",\n",
        "    optimizer=\"rmsprop\",\n",
        "    metrics=[\"accuracy\"])"
      ]
    },
    {
      "cell_type": "code",
      "execution_count": 11,
      "metadata": {
        "colab": {
          "base_uri": "https://localhost:8080/"
        },
        "id": "1NUQ_50zSD6Q",
        "outputId": "0608cb15-784b-48ce-fd01-5ff56b1e3f35"
      },
      "outputs": [
        {
          "name": "stdout",
          "output_type": "stream",
          "text": [
            "Epoch 1/50\n",
            "63/63 [==============================] - 29s 434ms/step - loss: 16.9210 - accuracy: 0.9005 - val_loss: 8.2322 - val_accuracy: 0.9560\n",
            "Epoch 2/50\n",
            "63/63 [==============================] - 27s 427ms/step - loss: 7.9746 - accuracy: 0.9410 - val_loss: 3.9438 - val_accuracy: 0.9740\n",
            "Epoch 3/50\n",
            "63/63 [==============================] - 27s 428ms/step - loss: 5.9098 - accuracy: 0.9570 - val_loss: 4.8023 - val_accuracy: 0.9760\n",
            "Epoch 4/50\n",
            "63/63 [==============================] - 27s 427ms/step - loss: 5.5120 - accuracy: 0.9595 - val_loss: 3.2127 - val_accuracy: 0.9780\n",
            "Epoch 5/50\n",
            "63/63 [==============================] - 27s 425ms/step - loss: 4.7016 - accuracy: 0.9635 - val_loss: 8.7847 - val_accuracy: 0.9590\n",
            "Epoch 6/50\n",
            "63/63 [==============================] - 27s 426ms/step - loss: 4.1559 - accuracy: 0.9670 - val_loss: 5.9852 - val_accuracy: 0.9730\n",
            "Epoch 7/50\n",
            "63/63 [==============================] - 27s 430ms/step - loss: 3.8907 - accuracy: 0.9690 - val_loss: 7.6060 - val_accuracy: 0.9630\n",
            "Epoch 8/50\n",
            "63/63 [==============================] - 27s 430ms/step - loss: 4.5245 - accuracy: 0.9695 - val_loss: 4.8043 - val_accuracy: 0.9720\n",
            "Epoch 9/50\n",
            "63/63 [==============================] - 27s 423ms/step - loss: 2.0545 - accuracy: 0.9780 - val_loss: 6.4766 - val_accuracy: 0.9640\n",
            "Epoch 10/50\n",
            "63/63 [==============================] - 27s 423ms/step - loss: 2.8328 - accuracy: 0.9725 - val_loss: 3.7708 - val_accuracy: 0.9800\n",
            "Epoch 11/50\n",
            "63/63 [==============================] - 27s 422ms/step - loss: 2.5438 - accuracy: 0.9755 - val_loss: 4.8295 - val_accuracy: 0.9780\n",
            "Epoch 12/50\n",
            "63/63 [==============================] - 27s 424ms/step - loss: 2.1065 - accuracy: 0.9770 - val_loss: 3.4448 - val_accuracy: 0.9810\n",
            "Epoch 13/50\n",
            "63/63 [==============================] - 27s 423ms/step - loss: 2.9037 - accuracy: 0.9735 - val_loss: 5.1943 - val_accuracy: 0.9730\n",
            "Epoch 14/50\n",
            "63/63 [==============================] - 27s 424ms/step - loss: 1.8449 - accuracy: 0.9780 - val_loss: 4.5624 - val_accuracy: 0.9780\n",
            "Epoch 15/50\n",
            "63/63 [==============================] - 28s 436ms/step - loss: 2.1110 - accuracy: 0.9780 - val_loss: 4.2195 - val_accuracy: 0.9750\n",
            "Epoch 16/50\n",
            "63/63 [==============================] - 27s 424ms/step - loss: 1.7252 - accuracy: 0.9800 - val_loss: 3.7414 - val_accuracy: 0.9800\n",
            "Epoch 17/50\n",
            "63/63 [==============================] - 27s 422ms/step - loss: 2.2668 - accuracy: 0.9785 - val_loss: 3.6821 - val_accuracy: 0.9820\n",
            "Epoch 18/50\n",
            "63/63 [==============================] - 27s 430ms/step - loss: 2.0340 - accuracy: 0.9805 - val_loss: 2.5314 - val_accuracy: 0.9840\n",
            "Epoch 19/50\n",
            "63/63 [==============================] - 28s 436ms/step - loss: 1.4361 - accuracy: 0.9855 - val_loss: 2.4355 - val_accuracy: 0.9820\n",
            "Epoch 20/50\n",
            "63/63 [==============================] - 27s 423ms/step - loss: 1.0784 - accuracy: 0.9845 - val_loss: 3.2055 - val_accuracy: 0.9800\n",
            "Epoch 21/50\n",
            "63/63 [==============================] - 27s 423ms/step - loss: 1.6072 - accuracy: 0.9760 - val_loss: 3.0419 - val_accuracy: 0.9810\n",
            "Epoch 22/50\n",
            "63/63 [==============================] - 27s 425ms/step - loss: 0.8311 - accuracy: 0.9860 - val_loss: 4.5917 - val_accuracy: 0.9720\n",
            "Epoch 23/50\n",
            "63/63 [==============================] - 27s 424ms/step - loss: 1.3235 - accuracy: 0.9855 - val_loss: 2.5124 - val_accuracy: 0.9800\n",
            "Epoch 24/50\n",
            "63/63 [==============================] - 27s 423ms/step - loss: 0.6202 - accuracy: 0.9915 - val_loss: 3.3609 - val_accuracy: 0.9790\n",
            "Epoch 25/50\n",
            "63/63 [==============================] - 27s 423ms/step - loss: 1.3410 - accuracy: 0.9810 - val_loss: 3.2537 - val_accuracy: 0.9800\n",
            "Epoch 26/50\n",
            "63/63 [==============================] - 27s 424ms/step - loss: 1.1357 - accuracy: 0.9845 - val_loss: 4.2777 - val_accuracy: 0.9700\n",
            "Epoch 27/50\n",
            "63/63 [==============================] - 27s 425ms/step - loss: 0.9937 - accuracy: 0.9835 - val_loss: 3.6846 - val_accuracy: 0.9730\n",
            "Epoch 28/50\n",
            "63/63 [==============================] - 27s 424ms/step - loss: 1.0338 - accuracy: 0.9835 - val_loss: 5.3720 - val_accuracy: 0.9660\n",
            "Epoch 29/50\n",
            "63/63 [==============================] - 27s 424ms/step - loss: 0.6272 - accuracy: 0.9840 - val_loss: 3.2872 - val_accuracy: 0.9730\n",
            "Epoch 30/50\n",
            "63/63 [==============================] - 27s 430ms/step - loss: 0.9317 - accuracy: 0.9855 - val_loss: 2.1416 - val_accuracy: 0.9830\n",
            "Epoch 31/50\n",
            "63/63 [==============================] - 27s 425ms/step - loss: 0.7772 - accuracy: 0.9885 - val_loss: 2.4752 - val_accuracy: 0.9780\n",
            "Epoch 32/50\n",
            "63/63 [==============================] - 27s 424ms/step - loss: 1.3845 - accuracy: 0.9780 - val_loss: 3.0542 - val_accuracy: 0.9770\n",
            "Epoch 33/50\n",
            "63/63 [==============================] - 27s 424ms/step - loss: 0.7948 - accuracy: 0.9825 - val_loss: 3.3213 - val_accuracy: 0.9780\n",
            "Epoch 34/50\n",
            "63/63 [==============================] - 27s 423ms/step - loss: 0.8273 - accuracy: 0.9865 - val_loss: 2.8549 - val_accuracy: 0.9760\n",
            "Epoch 35/50\n",
            "63/63 [==============================] - 27s 423ms/step - loss: 0.4570 - accuracy: 0.9885 - val_loss: 2.7283 - val_accuracy: 0.9770\n",
            "Epoch 36/50\n",
            "63/63 [==============================] - 27s 423ms/step - loss: 0.5960 - accuracy: 0.9885 - val_loss: 2.1453 - val_accuracy: 0.9820\n",
            "Epoch 37/50\n",
            "63/63 [==============================] - 27s 423ms/step - loss: 0.8256 - accuracy: 0.9855 - val_loss: 2.3264 - val_accuracy: 0.9790\n",
            "Epoch 38/50\n",
            "63/63 [==============================] - 27s 423ms/step - loss: 0.9858 - accuracy: 0.9820 - val_loss: 2.1864 - val_accuracy: 0.9790\n",
            "Epoch 39/50\n",
            "63/63 [==============================] - 27s 427ms/step - loss: 0.6049 - accuracy: 0.9900 - val_loss: 2.1010 - val_accuracy: 0.9810\n",
            "Epoch 40/50\n",
            "63/63 [==============================] - 27s 427ms/step - loss: 0.6247 - accuracy: 0.9905 - val_loss: 1.8414 - val_accuracy: 0.9810\n",
            "Epoch 41/50\n",
            "63/63 [==============================] - 27s 424ms/step - loss: 0.8992 - accuracy: 0.9840 - val_loss: 1.9294 - val_accuracy: 0.9790\n",
            "Epoch 42/50\n",
            "63/63 [==============================] - 27s 424ms/step - loss: 0.8483 - accuracy: 0.9860 - val_loss: 2.1765 - val_accuracy: 0.9820\n",
            "Epoch 43/50\n",
            "63/63 [==============================] - 27s 423ms/step - loss: 0.4111 - accuracy: 0.9885 - val_loss: 2.1639 - val_accuracy: 0.9790\n",
            "Epoch 44/50\n",
            "63/63 [==============================] - 27s 423ms/step - loss: 0.4942 - accuracy: 0.9910 - val_loss: 2.0627 - val_accuracy: 0.9850\n",
            "Epoch 45/50\n",
            "63/63 [==============================] - 27s 424ms/step - loss: 0.5201 - accuracy: 0.9895 - val_loss: 2.0329 - val_accuracy: 0.9750\n",
            "Epoch 46/50\n",
            "63/63 [==============================] - 27s 423ms/step - loss: 0.5244 - accuracy: 0.9875 - val_loss: 2.8636 - val_accuracy: 0.9750\n",
            "Epoch 47/50\n",
            "63/63 [==============================] - 27s 423ms/step - loss: 0.2223 - accuracy: 0.9900 - val_loss: 2.4341 - val_accuracy: 0.9810\n",
            "Epoch 48/50\n",
            "63/63 [==============================] - 27s 423ms/step - loss: 0.3938 - accuracy: 0.9900 - val_loss: 3.4075 - val_accuracy: 0.9720\n",
            "Epoch 49/50\n",
            "63/63 [==============================] - 27s 423ms/step - loss: 0.4393 - accuracy: 0.9925 - val_loss: 2.3896 - val_accuracy: 0.9780\n",
            "Epoch 50/50\n",
            "63/63 [==============================] - 27s 423ms/step - loss: 0.4297 - accuracy: 0.9900 - val_loss: 2.8871 - val_accuracy: 0.9730\n"
          ]
        }
      ],
      "source": [
        "callbacks = [\n",
        "    keras.callbacks.ModelCheckpoint(\n",
        "    filepath=\"cats_vs_dogs_small_feature_extraction_with_data_augmentation.keras\",\n",
        "    save_best_only=True,\n",
        "    monitor=\"val_loss\")\n",
        "]\n",
        "history = model.fit(\n",
        "    train_dataset,\n",
        "    epochs=50,\n",
        "    validation_data=validation_dataset,\n",
        "    callbacks=callbacks)"
      ]
    },
    {
      "cell_type": "code",
      "execution_count": 12,
      "metadata": {
        "colab": {
          "base_uri": "https://localhost:8080/",
          "height": 545
        },
        "id": "ftlDhCsZ0ytQ",
        "outputId": "a98993a6-4926-4880-8173-97c653371c84"
      },
      "outputs": [
        {
          "data": {
            "image/png": "[encoded data removed]",
            "text/plain": [
              "<Figure size 432x288 with 1 Axes>"
            ]
          },
          "metadata": {
            "needs_background": "light"
          },
          "output_type": "display_data"
        },
        {
          "data": {
            "image/png": "[encoded data removed]",
            "text/plain": [
              "<Figure size 432x288 with 1 Axes>"
            ]
          },
          "metadata": {
            "needs_background": "light"
          },
          "output_type": "display_data"
        }
      ],
      "source": [
        "import matplotlib.pyplot as plt\n",
        "acc = history.history[\"accuracy\"]\n",
        "val_acc = history.history[\"val_accuracy\"]\n",
        "loss = history.history[\"loss\"]\n",
        "val_loss = history.history[\"val_loss\"]\n",
        "epochs = range(1, len(acc) + 1)\n",
        "plt.plot(epochs, acc, \"bo\", label=\"Training accuracy\")\n",
        "plt.plot(epochs, val_acc, \"b\", label=\"Validation accuracy\")\n",
        "plt.title(\"Training and validation accuracy (Augmentation)\")\n",
        "plt.legend()\n",
        "plt.figure()\n",
        "plt.plot(epochs, loss, \"bo\", label=\"Training loss\")\n",
        "plt.plot(epochs, val_loss, \"b\", label=\"Validation loss\")\n",
        "plt.title(\"Training and validation loss (Augmentation)\")\n",
        "plt.legend()\n",
        "plt.show()"
      ]
    },
    {
      "cell_type": "code",
      "execution_count": 13,
      "metadata": {
        "colab": {
          "base_uri": "https://localhost:8080/"
        },
        "id": "PzJ1-M5gSYTX",
        "outputId": "e48ef2bb-5869-44b4-a14d-1fbf55ea98e3"
      },
      "outputs": [
        {
          "name": "stdout",
          "output_type": "stream",
          "text": [
            "63/63 [==============================] - 18s 270ms/step - loss: 2.6372 - accuracy: 0.9735\n",
            "Test accuracy: 0.974\n"
          ]
        }
      ],
      "source": [
        "# Listing 8.26 Evaluating the model on the test set\n",
        "test_model = keras.models.load_model(\"cats_vs_dogs_small_feature_extraction_with_data_augmentation.keras\")\n",
        "test_loss, test_acc = test_model.evaluate(test_dataset)\n",
        "print(f\"Test accuracy: {test_acc:.3f}\")"
      ]
    }
  ],
  "metadata": {
    "accelerator": "GPU",
    "colab": {
      "collapsed_sections": [],
      "name": "DeepLearning_book_8_3.ipynb",
      "provenance": []
    },
    "kernelspec": {
      "display_name": "Python 3",
      "name": "python3"
    },
    "language_info": {
      "name": "python"
    }
  },
  "nbformat": 4,
  "nbformat_minor": 0
}
