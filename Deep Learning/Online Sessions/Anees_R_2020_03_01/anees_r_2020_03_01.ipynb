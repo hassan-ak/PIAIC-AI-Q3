{
  "cells": [
    {
      "cell_type": "markdown",
      "metadata": {},
      "source": [
        "# Deeplearning - Anees Ahmad - 2020/03/01"
      ]
    },
    {
      "cell_type": "markdown",
      "metadata": {
        "id": "M1vv3o4Mwcq-"
      },
      "source": [
        "# 8 Introduction to deep learning for computer vision\n",
        "- convolutional neural networks\n",
        "  - convnets\n",
        "  - used universally in computer vision applications\n",
        "  - image-classification problems\n",
        "  - small training datasets"
      ]
    },
    {
      "cell_type": "markdown",
      "metadata": {
        "id": "5nqVyLGiQLMe"
      },
      "source": [
        "---"
      ]
    }
  ],
  "metadata": {
    "accelerator": "GPU",
    "colab": {
      "collapsed_sections": [],
      "name": "DeepLearning-book-8.1.ipynb",
      "provenance": []
    },
    "kernelspec": {
      "display_name": "Python 3",
      "name": "python3"
    },
    "language_info": {
      "name": "python"
    }
  },
  "nbformat": 4,
  "nbformat_minor": 0
}
