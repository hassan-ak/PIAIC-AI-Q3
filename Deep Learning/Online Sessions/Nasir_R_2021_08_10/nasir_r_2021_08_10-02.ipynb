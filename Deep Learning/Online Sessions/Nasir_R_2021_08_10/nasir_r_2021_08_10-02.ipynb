{
  "cells": [
    {
      "cell_type": "markdown",
      "metadata": {},
      "source": [
        "# Deeplearning - Nasir Hussain - 2021/08/10"
      ]
    },
    {
      "cell_type": "markdown",
      "metadata": {
        "id": "39FpsL5cIL_u"
      },
      "source": [
        "# 9 Advanced deep learning for computer vision"
      ]
    },
    {
      "cell_type": "markdown",
      "metadata": {
        "id": "q8cgIlwD3AyK"
      },
      "source": [
        "## 9.3 Modern convnet architecture patterns"
      ]
    },
    {
      "cell_type": "markdown",
      "metadata": {
        "id": "057LyaNq3FM2"
      },
      "source": [
        "- A model’s “architecture” is the sum of the choices that went into creating it: \n",
        "  - which layers to use, how to configure them, and in what arrangement to connect them\n",
        "- hypothesis space of your model: \n",
        "  - the space of possible functions that gradient descent can search over, parameterized by the model’s weights\n",
        "  - good hypothesis space encodes prior knowledge that you have about the problem at hand and its solution\n",
        "- A good model architecture is one that reduces the size of the search space or otherwise makes it easier to converge to a good point of the search space"
      ]
    },
    {
      "cell_type": "markdown",
      "metadata": {
        "id": "PY7Ch30e3i7y"
      },
      "source": [
        "### 9.3.1 Modularity, hierarchy, and reuse"
      ]
    },
    {
      "cell_type": "markdown",
      "metadata": {
        "id": "-L0Cml1v4JwT"
      },
      "source": [
        "- make a complex system simpler\n",
        "  - just structure your amorphous soup of complexity into modules\n",
        "  - organize the modules into a hierarchy\n",
        "  - start reusing the same modules in multiple places as appropriate\n",
        "- a deep stack of narrow layers performs better than a shallow stack of large layers."
      ]
    },
    {
      "cell_type": "markdown",
      "metadata": {
        "id": "OOlKA-bj4_0H"
      },
      "source": [
        "##### On the importance of ablation studies in deep learning research"
      ]
    },
    {
      "cell_type": "markdown",
      "metadata": {
        "id": "heDExxe95dmH"
      },
      "source": [
        "- Deep learning architectures are often more evolved than designed\n",
        "- ablation studies\n",
        "  - it consist of systematically trying to remove parts of a system—making it simpler—to identify where its performance actually comes from."
      ]
    },
    {
      "cell_type": "markdown",
      "metadata": {
        "id": "VbwTO4lX5wxF"
      },
      "source": [
        "### 9.3.2 Residual connections"
      ]
    },
    {
      "cell_type": "markdown",
      "metadata": {
        "id": "GCSOKAC67oJj"
      },
      "source": [
        "- sequential deep learning model\n",
        "\n",
        "  ```\n",
        "  y = f4(f3(f2(f1(x))))\n",
        "  ```\n",
        "  - you may lose information due to noise\n",
        "  - vanishing gradients problem\n",
        "    - when model is too deep due to noise might be possible back-propagation might not work\n",
        "  - fix\n",
        "    - just force each function in the chain to be nondestructive—to retain a noiseless version of the information contained in the previous input. The easiest way to implement this is to use a residual connection\n",
        "  - A residual connection in pseudocode\n",
        "\n",
        "    ```\n",
        "    x = ...\n",
        "    residual = x\n",
        "    x = block(x)\n",
        "    x = add([x, residual])\n",
        "    ```\n",
        "    - output and input should have same shape\n",
        "    - for conv2D use 1*1 conv2D\n",
        "    - for maxpoling use stride"
      ]
    },
    {
      "cell_type": "code",
      "execution_count": 3,
      "metadata": {
        "id": "OztT_Ael-INQ"
      },
      "outputs": [],
      "source": [
        "# Listing 9.2 Residual block where the number of filters changes\n",
        "from tensorflow import keras \n",
        "from tensorflow.keras import layers\n",
        " \n",
        "inputs = keras.Input(shape=(32, 32, 3))\n",
        "x = layers.Conv2D(32, 3, activation=\"relu\")(inputs)\n",
        "residual = x\n",
        "x = layers.Conv2D(64, 3, activation=\"relu\", padding=\"same\")(x)\n",
        "residual = layers.Conv2D(64, 1)(residual)\n",
        "x = layers.add([x, residual]) "
      ]
    },
    {
      "cell_type": "code",
      "execution_count": 4,
      "metadata": {
        "id": "XQJwzyV_-ivt"
      },
      "outputs": [],
      "source": [
        "# Listing 9.3 Case where the target block includes a max pooling layer\n",
        "\n",
        "inputs = keras.Input(shape=(32, 32, 3))\n",
        "x = layers.Conv2D(32, 3, activation=\"relu\")(inputs)\n",
        "residual = x\n",
        "x = layers.Conv2D(64, 3, activation=\"relu\", padding=\"same\")(x)\n",
        "x = layers.MaxPooling2D(2, padding=\"same\")(x)\n",
        "residual = layers.Conv2D(64, 1, strides=2)(residual)\n",
        "x = layers.add([x, residual])"
      ]
    },
    {
      "cell_type": "code",
      "execution_count": 5,
      "metadata": {
        "colab": {
          "base_uri": "https://localhost:8080/"
        },
        "id": "JTcrPWGR--CN",
        "outputId": "99253a60-e073-463a-d244-6c6174c6ea0d"
      },
      "outputs": [
        {
          "name": "stdout",
          "output_type": "stream",
          "text": [
            "Model: \"model\"\n",
            "__________________________________________________________________________________________________\n",
            " Layer (type)                   Output Shape         Param #     Connected to                     \n",
            "==================================================================================================\n",
            " input_3 (InputLayer)           [(None, 32, 32, 3)]  0           []                               \n",
            "                                                                                                  \n",
            " rescaling (Rescaling)          (None, 32, 32, 3)    0           ['input_3[0][0]']                \n",
            "                                                                                                  \n",
            " conv2d_6 (Conv2D)              (None, 32, 32, 32)   896         ['rescaling[0][0]']              \n",
            "                                                                                                  \n",
            " conv2d_7 (Conv2D)              (None, 32, 32, 32)   9248        ['conv2d_6[0][0]']               \n",
            "                                                                                                  \n",
            " max_pooling2d_1 (MaxPooling2D)  (None, 16, 16, 32)  0           ['conv2d_7[0][0]']               \n",
            "                                                                                                  \n",
            " conv2d_8 (Conv2D)              (None, 16, 16, 32)   128         ['rescaling[0][0]']              \n",
            "                                                                                                  \n",
            " add_2 (Add)                    (None, 16, 16, 32)   0           ['max_pooling2d_1[0][0]',        \n",
            "                                                                  'conv2d_8[0][0]']               \n",
            "                                                                                                  \n",
            " conv2d_9 (Conv2D)              (None, 16, 16, 64)   18496       ['add_2[0][0]']                  \n",
            "                                                                                                  \n",
            " conv2d_10 (Conv2D)             (None, 16, 16, 64)   36928       ['conv2d_9[0][0]']               \n",
            "                                                                                                  \n",
            " max_pooling2d_2 (MaxPooling2D)  (None, 8, 8, 64)    0           ['conv2d_10[0][0]']              \n",
            "                                                                                                  \n",
            " conv2d_11 (Conv2D)             (None, 8, 8, 64)     2112        ['add_2[0][0]']                  \n",
            "                                                                                                  \n",
            " add_3 (Add)                    (None, 8, 8, 64)     0           ['max_pooling2d_2[0][0]',        \n",
            "                                                                  'conv2d_11[0][0]']              \n",
            "                                                                                                  \n",
            " conv2d_12 (Conv2D)             (None, 8, 8, 128)    73856       ['add_3[0][0]']                  \n",
            "                                                                                                  \n",
            " conv2d_13 (Conv2D)             (None, 8, 8, 128)    147584      ['conv2d_12[0][0]']              \n",
            "                                                                                                  \n",
            " conv2d_14 (Conv2D)             (None, 8, 8, 128)    8320        ['add_3[0][0]']                  \n",
            "                                                                                                  \n",
            " add_4 (Add)                    (None, 8, 8, 128)    0           ['conv2d_13[0][0]',              \n",
            "                                                                  'conv2d_14[0][0]']              \n",
            "                                                                                                  \n",
            " global_average_pooling2d (Glob  (None, 128)         0           ['add_4[0][0]']                  \n",
            " alAveragePooling2D)                                                                              \n",
            "                                                                                                  \n",
            " dense (Dense)                  (None, 1)            129         ['global_average_pooling2d[0][0]'\n",
            "                                                                 ]                                \n",
            "                                                                                                  \n",
            "==================================================================================================\n",
            "Total params: 297,697\n",
            "Trainable params: 297,697\n",
            "Non-trainable params: 0\n",
            "__________________________________________________________________________________________________\n"
          ]
        }
      ],
      "source": [
        "# a simple convnet structured into a series of blocks, \n",
        "# each made of two convolution layers and one optional max pooling layer, \n",
        "# with a residual connec\u0002tion around each block\n",
        "\n",
        "inputs = keras.Input(shape=(32, 32, 3))\n",
        "x = layers.Rescaling(1./255)(inputs)\n",
        " \n",
        "def residual_block(x, filters, pooling=False):\n",
        "  residual = x\n",
        "  x = layers.Conv2D(filters, 3, activation=\"relu\", padding=\"same\")(x)\n",
        "  x = layers.Conv2D(filters, 3, activation=\"relu\", padding=\"same\")(x)\n",
        "  if pooling:\n",
        "    x = layers.MaxPooling2D(2, padding=\"same\")(x)\n",
        "    residual = layers.Conv2D(filters, 1, strides=2)(residual)\n",
        "  elif filters != residual.shape[-1]:\n",
        "    residual = layers.Conv2D(filters, 1)(residual)\n",
        "  x = layers.add([x, residual])\n",
        "  return x\n",
        "\n",
        "x = residual_block(x, filters=32, pooling=True)\n",
        "x = residual_block(x, filters=64, pooling=True)\n",
        "x = residual_block(x, filters=128, pooling=False)\n",
        "x = layers.GlobalAveragePooling2D()(x)\n",
        "outputs = layers.Dense(1, activation=\"sigmoid\")(x)\n",
        "model = keras.Model(inputs=inputs, outputs=outputs)\n",
        "model.summary()"
      ]
    },
    {
      "cell_type": "markdown",
      "metadata": {
        "id": "LskobhxCAapc"
      },
      "source": [
        "### 9.3.3 Batch normalization"
      ]
    },
    {
      "cell_type": "markdown",
      "metadata": {
        "id": "OWx2fUotEpI-"
      },
      "source": [
        "- Normalization\n",
        "  - methods that seek to make different samples seen by a machine learning model more similar to each other, which helps the model learn and generalize well to new data.\n",
        "  - common form of data normalization\n",
        "    - centering the data on zero by subtracting the mean from the data, and giving the data a unit standard deviation by dividing the data by its standard deviation\n",
        "\n",
        "      ```\n",
        "      normalized_data = (data - np.mean(data, axis=...)) / np.std(data, axis=...)\n",
        "      ```"
      ]
    },
    {
      "cell_type": "markdown",
      "metadata": {
        "id": "EKmXSE68FjE4"
      },
      "source": [
        "- Batch normalization\n",
        "  - a type of layer ( BatchNormalization in Keras)\n",
        "  - it can adaptively normalize data even as the mean and variance change over time during training. \n",
        "    - During training, it uses the mean and variance of the current batch of data to normalize samples\n",
        "    - during inference, it uses an exponential moving average of the batch-wise mean and variance of the data seen during training\n",
        "  - main effect of batch normalization appears to be that it helps with gradient propagation\n",
        "  - The BatchNormalization layer can be used after any layer— Dense , Conv2D"
      ]
    },
    {
      "cell_type": "code",
      "execution_count": null,
      "metadata": {
        "id": "qryQ63_qG7BA"
      },
      "outputs": [],
      "source": [
        "# Listing 9.4 How not to use batch normalization\n",
        "x = layers.Conv2D(32, 3, activation=\"relu\")(x)\n",
        "x = layers.BatchNormalization()(x)"
      ]
    },
    {
      "cell_type": "code",
      "execution_count": null,
      "metadata": {
        "id": "EqsQlNJZG-JN"
      },
      "outputs": [],
      "source": [
        "# Listing 9.5 How to use batch normalization: the activation comes last\n",
        "x = layers.Conv2D(32, 3, use_bias=False)(x)\n",
        "x = layers.BatchNormalization()(x)\n",
        "x = layers.Activation(\"relu\")(x) "
      ]
    },
    {
      "cell_type": "markdown",
      "metadata": {
        "id": "Bb_fjYhDHV5s"
      },
      "source": [
        "### 9.3.4 Depthwise separable convolutions"
      ]
    },
    {
      "cell_type": "markdown",
      "metadata": {
        "id": "MZJqjcfEM6KH"
      },
      "source": [
        "- depthwise separable convolution layer\n",
        "  - drop-in replacement for Conv2D\n",
        "  - make model \n",
        "    - smaller\n",
        "    - leaner\n",
        "    - cause it to perform a few percentage points better on its task\n",
        "  - This layer performs a spatial convolution on each channel of its input independently, before mixing output channels via a pointwise convolution\n",
        "  - equivalent to separating the learning of spatial features and the learning of channel-wise features.\n",
        "  - assumes that spatial locations in intermediate activations are highly correlated, but different channels are highly independent"
      ]
    },
    {
      "cell_type": "markdown",
      "metadata": {
        "id": "EldpTJ1pPj9y"
      },
      "source": [
        "- Depthwise separable convolution \n",
        "  - requires significantly fewer parameters, involves fewer computations compared to regular convolution, while having comparable representational power. \n",
        "  - It results in smaller models that converge faster and are less prone to overfitting"
      ]
    },
    {
      "cell_type": "markdown",
      "metadata": {
        "id": "B2BCGy2SQt4W"
      },
      "source": [
        "##### The co-evolution of hardware, software, and algorithms"
      ]
    },
    {
      "cell_type": "markdown",
      "metadata": {
        "id": "3zCOobuzQrm9"
      },
      "source": [
        "-  depthwise separable convolutions remains a good idea even if it does not result in a speedup: \n",
        "  - their lower parameter count means that you are less at risk of overfitting\n",
        "  - their assumption that channels should be uncorrelated leads to faster model convergence and more robust representations.\n"
      ]
    },
    {
      "cell_type": "markdown",
      "metadata": {
        "id": "meR7-IQzHodH"
      },
      "source": [
        "### 9.3.5 Putting it together: A mini Xception-like model"
      ]
    },
    {
      "cell_type": "markdown",
      "metadata": {
        "id": "XfiDqcQgH0PA"
      },
      "source": [
        "- convnet architecture principles\n",
        "  - Your model should be organized into repeated blocks of layers, usually made of multiple convolution layers and a max pooling layer.\n",
        "  - The number of filters in your layers should increase as the size of the spatial feature maps decreases.\n",
        "  - Deep and narrow is better than broad and shallow.\n",
        "  - Introducing residual connections around blocks of layers helps you train deeper networks.\n",
        "  - It can be beneficial to introduce batch normalization layers after your convolution layers.\n",
        "  - It can be beneficial to replace Conv2D layers with SeparableConv2D layers, which are more parameter-efficient."
      ]
    },
    {
      "cell_type": "markdown",
      "metadata": {
        "id": "bA4DLYaUI8XD"
      },
      "source": [
        "##### Cats vs Dogs CNN (architecture principles)"
      ]
    },
    {
      "cell_type": "code",
      "execution_count": 1,
      "metadata": {
        "colab": {
          "base_uri": "https://localhost:8080/",
          "height": 125,
          "resources": {
            "http://localhost:8080/nbextensions/google.colab/files.js": {
              "data": "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",
              "headers": [
                [
                  "content-type",
                  "application/javascript"
                ]
              ],
              "ok": true,
              "status": 200,
              "status_text": ""
            }
          }
        },
        "id": "Z-QfbKdSLCWx",
        "outputId": "973e6cfa-c48d-4ca7-dd32-4c818191a5bc"
      },
      "outputs": [
        {
          "data": {
            "text/html": [
              "\n",
              "     <input type=\"file\" id=\"files-28896aad-d12f-4520-97bd-02a8d71c9deb\" name=\"files[]\" multiple disabled\n",
              "        style=\"border:none\" />\n",
              "     <output id=\"result-28896aad-d12f-4520-97bd-02a8d71c9deb\">\n",
              "      Upload widget is only available when the cell has been executed in the\n",
              "      current browser session. Please rerun this cell to enable.\n",
              "      </output>\n",
              "      <script src=\"/nbextensions/google.colab/files.js\"></script> "
            ],
            "text/plain": [
              "<IPython.core.display.HTML object>"
            ]
          },
          "metadata": {},
          "output_type": "display_data"
        },
        {
          "name": "stdout",
          "output_type": "stream",
          "text": [
            "Saving kaggle.json to kaggle.json\n",
            "Downloading dogs-vs-cats.zip to /content\n",
            " 97% 786M/812M [00:04<00:00, 200MB/s]\n",
            "100% 812M/812M [00:04<00:00, 199MB/s]\n"
          ]
        }
      ],
      "source": [
        "# piece of code to download kaggle data directly to colab\n",
        "# upload kaggle json file on the colab\n",
        "from google.colab import files\n",
        "files.upload()\n",
        "# make kaggle directory\n",
        "!mkdir ~/.kaggle\n",
        "# move kaggle file to newly created folder\n",
        "!cp kaggle.json ~/.kaggle/\n",
        "# chnage permissions for file created\n",
        "!chmod 600 ~/.kaggle/kaggle.json\n",
        "# Downlaod data from kaggle\n",
        "!kaggle competitions download -c dogs-vs-cats"
      ]
    },
    {
      "cell_type": "code",
      "execution_count": 2,
      "metadata": {
        "id": "Zuu6WUFSLAdE"
      },
      "outputs": [],
      "source": [
        "# unzip downloaded data\n",
        "!unzip -qq dogs-vs-cats.zip\n",
        "!unzip -qq train.zip"
      ]
    },
    {
      "cell_type": "code",
      "execution_count": 3,
      "metadata": {
        "id": "brM24luWK9IK"
      },
      "outputs": [],
      "source": [
        "# Copying images to training, validation, and test directories\n",
        "\n",
        "# imports\n",
        "import os, shutil, pathlib\n",
        "\n",
        "# path to complete data set \n",
        "original_dir = pathlib.Path(\"train\")\n",
        "# path to smaller data set\n",
        "new_base_dir = pathlib.Path(\"cats_vs_dogs_small\")\n",
        "\n",
        "# function to get images from complete set and save in subset\n",
        "def make_subset(subset_name, start_index, end_index):\n",
        "  # loop over cat and dog category\n",
        "  for category in (\"cat\", \"dog\"):\n",
        "    # path to new directory\n",
        "    dir = new_base_dir / subset_name / category\n",
        "    # make new directories\n",
        "    os.makedirs(dir)\n",
        "    # range of files names\n",
        "    fnames = [f\"{category}.{i}.jpg\" for i in range(start_index, end_index)]\n",
        "    for fname in fnames:\n",
        "      # copy files from source to target\n",
        "      shutil.copyfile(src=original_dir / fname, dst=dir / fname)\n",
        " \n",
        "# call sfor train, validation and test set\n",
        "make_subset(\"train\", start_index=0, end_index=1000)\n",
        "make_subset(\"validation\", start_index=1000, end_index=1500)\n",
        "make_subset(\"test\", start_index=1500, end_index=2500)"
      ]
    },
    {
      "cell_type": "code",
      "execution_count": 4,
      "metadata": {
        "colab": {
          "base_uri": "https://localhost:8080/"
        },
        "id": "EK6ABxCeK2SJ",
        "outputId": "0aca9d21-f048-4869-9999-3d13b5a78f3b"
      },
      "outputs": [
        {
          "name": "stdout",
          "output_type": "stream",
          "text": [
            "Found 2000 files belonging to 2 classes.\n",
            "Found 1000 files belonging to 2 classes.\n",
            "Found 2000 files belonging to 2 classes.\n"
          ]
        }
      ],
      "source": [
        "#  Using image_dataset_from_directory to read images\n",
        "  # image_dataset_from_directory(directory) will list the subdirectories of directory\n",
        "  # index the image files in each subdirectory\n",
        "  # create and return a tf.data.Dataset object \n",
        "    # configured to read these files, \n",
        "    # shuffle them\n",
        "    # decode them to tensors\n",
        "    # resize them to a shared size\n",
        "    # and pack them into batches.\n",
        "\n",
        "from tensorflow.keras.utils import image_dataset_from_directory\n",
        " \n",
        "# create datasets\n",
        "train_dataset = image_dataset_from_directory(\n",
        "    # path of the directory\n",
        "    new_base_dir / \"train\",\n",
        "    # reshape images to said size\n",
        "    image_size=(180, 180),\n",
        "    # batch size / 32 samples per batch\n",
        "    batch_size=32)\n",
        "validation_dataset = image_dataset_from_directory(\n",
        "    new_base_dir / \"validation\",\n",
        "    image_size=(180, 180),\n",
        "    batch_size=32)\n",
        "test_dataset = image_dataset_from_directory(\n",
        "    new_base_dir / \"test\",\n",
        "    image_size=(180, 180),\n",
        "    batch_size=32)"
      ]
    },
    {
      "cell_type": "code",
      "execution_count": 5,
      "metadata": {
        "colab": {
          "base_uri": "https://localhost:8080/"
        },
        "id": "6kAenzR4KzAz",
        "outputId": "4d908237-28cc-4df4-a5a6-7e1d78db4cc9"
      },
      "outputs": [
        {
          "name": "stdout",
          "output_type": "stream",
          "text": [
            "bathces of train_dataset :  62\n",
            "train data batch shape: (32, 180, 180, 3)\n",
            "train labels batch shape: (32,)\n",
            "bathces of validation_dataset :  31\n",
            "validation data batch shape: (32, 180, 180, 3)\n",
            "validation labels batch shape: (32,)\n",
            "bathces of test_dataset :  62\n",
            "test data batch shape: (32, 180, 180, 3)\n",
            "test labels batch shape: (32,)\n"
          ]
        }
      ],
      "source": [
        "# Displaying the shapes of the data and labels yielded by the Dataset\n",
        "for i, element in enumerate(train_dataset):\n",
        "  pass\n",
        "print(\"bathces of train_dataset : \",i)\n",
        "\n",
        "for train_data_batch, train_labels_batch in train_dataset:\n",
        "  print(\"train data batch shape:\", train_data_batch.shape)\n",
        "  print(\"train labels batch shape:\", train_labels_batch.shape)\n",
        "  break\n",
        "\n",
        "for i, element in enumerate(validation_dataset):\n",
        "  pass\n",
        "print(\"bathces of validation_dataset : \",i)\n",
        "for validation_data_batch, validation_labels_batch in validation_dataset:\n",
        "  print(\"validation data batch shape:\", validation_data_batch.shape)\n",
        "  print(\"validation labels batch shape:\", validation_labels_batch.shape)\n",
        "  break\n",
        "\n",
        "for i, element in enumerate(test_dataset):\n",
        "  pass\n",
        "print(\"bathces of test_dataset : \",i)\n",
        "for test_data_batch, test_labels_batch in test_dataset:\n",
        "  print(\"test data batch shape:\", test_data_batch.shape)\n",
        "  print(\"test labels batch shape:\", test_labels_batch.shape)\n",
        "  break"
      ]
    },
    {
      "cell_type": "code",
      "execution_count": 8,
      "metadata": {
        "id": "ajagKlSeJZ4U"
      },
      "outputs": [],
      "source": [
        "# Define a data augmentation stage to add to an image mode\n",
        "from tensorflow import keras\n",
        "from tensorflow.keras import layers\n",
        "\n",
        "data_augmentation = keras.Sequential(\n",
        "    [\n",
        "     layers.RandomFlip(\"horizontal\"),\n",
        "     layers.RandomRotation(0.1),\n",
        "     layers.RandomZoom(0.2),\n",
        "    ]\n",
        "  )"
      ]
    },
    {
      "cell_type": "code",
      "execution_count": 9,
      "metadata": {
        "id": "5U_r-sOnIDLq"
      },
      "outputs": [],
      "source": [
        "# Model\n",
        "\n",
        "inputs = keras.Input(shape=(180, 180, 3))\n",
        "x = data_augmentation(inputs)\n",
        "x = layers.Rescaling(1./255)(x)\n",
        "x = layers.Conv2D(filters=32, kernel_size=5, use_bias=False)(x)\n",
        "\n",
        "for size in [32, 64, 128, 256, 512]:\n",
        "  residual = x\n",
        "  x = layers.BatchNormalization()(x)\n",
        "  x = layers.Activation(\"relu\")(x)\n",
        "  x = layers.SeparableConv2D(size, 3, padding=\"same\", use_bias=False)(x)\n",
        "  x = layers.BatchNormalization()(x)\n",
        "  x = layers.Activation(\"relu\")(x)\n",
        "  x = layers.SeparableConv2D(size, 3, padding=\"same\", use_bias=False)(x)\n",
        "  x = layers.MaxPooling2D(3, strides=2, padding=\"same\")(x)\n",
        "  residual = layers.Conv2D(size, 1, strides=2, padding=\"same\", use_bias=False)(residual)\n",
        "  x = layers.add([x, residual])\n",
        "\n",
        "x = layers.GlobalAveragePooling2D()(x)\n",
        "x = layers.Dropout(0.5)(x)\n",
        "outputs = layers.Dense(1, activation=\"sigmoid\")(x)\n",
        "model = keras.Model(inputs=inputs, outputs=outputs)"
      ]
    },
    {
      "cell_type": "code",
      "execution_count": 10,
      "metadata": {
        "colab": {
          "base_uri": "https://localhost:8080/"
        },
        "id": "yWCZozMOLq_6",
        "outputId": "f0948280-6412-4587-fece-ea53d67d1364"
      },
      "outputs": [
        {
          "name": "stdout",
          "output_type": "stream",
          "text": [
            "Model: \"model\"\n",
            "__________________________________________________________________________________________________\n",
            " Layer (type)                   Output Shape         Param #     Connected to                     \n",
            "==================================================================================================\n",
            " input_1 (InputLayer)           [(None, 180, 180, 3  0           []                               \n",
            "                                )]                                                                \n",
            "                                                                                                  \n",
            " sequential (Sequential)        (None, 180, 180, 3)  0           ['input_1[0][0]']                \n",
            "                                                                                                  \n",
            " rescaling (Rescaling)          (None, 180, 180, 3)  0           ['sequential[0][0]']             \n",
            "                                                                                                  \n",
            " conv2d (Conv2D)                (None, 176, 176, 32  2400        ['rescaling[0][0]']              \n",
            "                                )                                                                 \n",
            "                                                                                                  \n",
            " batch_normalization (BatchNorm  (None, 176, 176, 32  128        ['conv2d[0][0]']                 \n",
            " alization)                     )                                                                 \n",
            "                                                                                                  \n",
            " activation (Activation)        (None, 176, 176, 32  0           ['batch_normalization[0][0]']    \n",
            "                                )                                                                 \n",
            "                                                                                                  \n",
            " separable_conv2d (SeparableCon  (None, 176, 176, 32  1312       ['activation[0][0]']             \n",
            " v2D)                           )                                                                 \n",
            "                                                                                                  \n",
            " batch_normalization_1 (BatchNo  (None, 176, 176, 32  128        ['separable_conv2d[0][0]']       \n",
            " rmalization)                   )                                                                 \n",
            "                                                                                                  \n",
            " activation_1 (Activation)      (None, 176, 176, 32  0           ['batch_normalization_1[0][0]']  \n",
            "                                )                                                                 \n",
            "                                                                                                  \n",
            " separable_conv2d_1 (SeparableC  (None, 176, 176, 32  1312       ['activation_1[0][0]']           \n",
            " onv2D)                         )                                                                 \n",
            "                                                                                                  \n",
            " max_pooling2d (MaxPooling2D)   (None, 88, 88, 32)   0           ['separable_conv2d_1[0][0]']     \n",
            "                                                                                                  \n",
            " conv2d_1 (Conv2D)              (None, 88, 88, 32)   1024        ['conv2d[0][0]']                 \n",
            "                                                                                                  \n",
            " add (Add)                      (None, 88, 88, 32)   0           ['max_pooling2d[0][0]',          \n",
            "                                                                  'conv2d_1[0][0]']               \n",
            "                                                                                                  \n",
            " batch_normalization_2 (BatchNo  (None, 88, 88, 32)  128         ['add[0][0]']                    \n",
            " rmalization)                                                                                     \n",
            "                                                                                                  \n",
            " activation_2 (Activation)      (None, 88, 88, 32)   0           ['batch_normalization_2[0][0]']  \n",
            "                                                                                                  \n",
            " separable_conv2d_2 (SeparableC  (None, 88, 88, 64)  2336        ['activation_2[0][0]']           \n",
            " onv2D)                                                                                           \n",
            "                                                                                                  \n",
            " batch_normalization_3 (BatchNo  (None, 88, 88, 64)  256         ['separable_conv2d_2[0][0]']     \n",
            " rmalization)                                                                                     \n",
            "                                                                                                  \n",
            " activation_3 (Activation)      (None, 88, 88, 64)   0           ['batch_normalization_3[0][0]']  \n",
            "                                                                                                  \n",
            " separable_conv2d_3 (SeparableC  (None, 88, 88, 64)  4672        ['activation_3[0][0]']           \n",
            " onv2D)                                                                                           \n",
            "                                                                                                  \n",
            " max_pooling2d_1 (MaxPooling2D)  (None, 44, 44, 64)  0           ['separable_conv2d_3[0][0]']     \n",
            "                                                                                                  \n",
            " conv2d_2 (Conv2D)              (None, 44, 44, 64)   2048        ['add[0][0]']                    \n",
            "                                                                                                  \n",
            " add_1 (Add)                    (None, 44, 44, 64)   0           ['max_pooling2d_1[0][0]',        \n",
            "                                                                  'conv2d_2[0][0]']               \n",
            "                                                                                                  \n",
            " batch_normalization_4 (BatchNo  (None, 44, 44, 64)  256         ['add_1[0][0]']                  \n",
            " rmalization)                                                                                     \n",
            "                                                                                                  \n",
            " activation_4 (Activation)      (None, 44, 44, 64)   0           ['batch_normalization_4[0][0]']  \n",
            "                                                                                                  \n",
            " separable_conv2d_4 (SeparableC  (None, 44, 44, 128)  8768       ['activation_4[0][0]']           \n",
            " onv2D)                                                                                           \n",
            "                                                                                                  \n",
            " batch_normalization_5 (BatchNo  (None, 44, 44, 128)  512        ['separable_conv2d_4[0][0]']     \n",
            " rmalization)                                                                                     \n",
            "                                                                                                  \n",
            " activation_5 (Activation)      (None, 44, 44, 128)  0           ['batch_normalization_5[0][0]']  \n",
            "                                                                                                  \n",
            " separable_conv2d_5 (SeparableC  (None, 44, 44, 128)  17536      ['activation_5[0][0]']           \n",
            " onv2D)                                                                                           \n",
            "                                                                                                  \n",
            " max_pooling2d_2 (MaxPooling2D)  (None, 22, 22, 128)  0          ['separable_conv2d_5[0][0]']     \n",
            "                                                                                                  \n",
            " conv2d_3 (Conv2D)              (None, 22, 22, 128)  8192        ['add_1[0][0]']                  \n",
            "                                                                                                  \n",
            " add_2 (Add)                    (None, 22, 22, 128)  0           ['max_pooling2d_2[0][0]',        \n",
            "                                                                  'conv2d_3[0][0]']               \n",
            "                                                                                                  \n",
            " batch_normalization_6 (BatchNo  (None, 22, 22, 128)  512        ['add_2[0][0]']                  \n",
            " rmalization)                                                                                     \n",
            "                                                                                                  \n",
            " activation_6 (Activation)      (None, 22, 22, 128)  0           ['batch_normalization_6[0][0]']  \n",
            "                                                                                                  \n",
            " separable_conv2d_6 (SeparableC  (None, 22, 22, 256)  33920      ['activation_6[0][0]']           \n",
            " onv2D)                                                                                           \n",
            "                                                                                                  \n",
            " batch_normalization_7 (BatchNo  (None, 22, 22, 256)  1024       ['separable_conv2d_6[0][0]']     \n",
            " rmalization)                                                                                     \n",
            "                                                                                                  \n",
            " activation_7 (Activation)      (None, 22, 22, 256)  0           ['batch_normalization_7[0][0]']  \n",
            "                                                                                                  \n",
            " separable_conv2d_7 (SeparableC  (None, 22, 22, 256)  67840      ['activation_7[0][0]']           \n",
            " onv2D)                                                                                           \n",
            "                                                                                                  \n",
            " max_pooling2d_3 (MaxPooling2D)  (None, 11, 11, 256)  0          ['separable_conv2d_7[0][0]']     \n",
            "                                                                                                  \n",
            " conv2d_4 (Conv2D)              (None, 11, 11, 256)  32768       ['add_2[0][0]']                  \n",
            "                                                                                                  \n",
            " add_3 (Add)                    (None, 11, 11, 256)  0           ['max_pooling2d_3[0][0]',        \n",
            "                                                                  'conv2d_4[0][0]']               \n",
            "                                                                                                  \n",
            " batch_normalization_8 (BatchNo  (None, 11, 11, 256)  1024       ['add_3[0][0]']                  \n",
            " rmalization)                                                                                     \n",
            "                                                                                                  \n",
            " activation_8 (Activation)      (None, 11, 11, 256)  0           ['batch_normalization_8[0][0]']  \n",
            "                                                                                                  \n",
            " separable_conv2d_8 (SeparableC  (None, 11, 11, 512)  133376     ['activation_8[0][0]']           \n",
            " onv2D)                                                                                           \n",
            "                                                                                                  \n",
            " batch_normalization_9 (BatchNo  (None, 11, 11, 512)  2048       ['separable_conv2d_8[0][0]']     \n",
            " rmalization)                                                                                     \n",
            "                                                                                                  \n",
            " activation_9 (Activation)      (None, 11, 11, 512)  0           ['batch_normalization_9[0][0]']  \n",
            "                                                                                                  \n",
            " separable_conv2d_9 (SeparableC  (None, 11, 11, 512)  266752     ['activation_9[0][0]']           \n",
            " onv2D)                                                                                           \n",
            "                                                                                                  \n",
            " max_pooling2d_4 (MaxPooling2D)  (None, 6, 6, 512)   0           ['separable_conv2d_9[0][0]']     \n",
            "                                                                                                  \n",
            " conv2d_5 (Conv2D)              (None, 6, 6, 512)    131072      ['add_3[0][0]']                  \n",
            "                                                                                                  \n",
            " add_4 (Add)                    (None, 6, 6, 512)    0           ['max_pooling2d_4[0][0]',        \n",
            "                                                                  'conv2d_5[0][0]']               \n",
            "                                                                                                  \n",
            " global_average_pooling2d (Glob  (None, 512)         0           ['add_4[0][0]']                  \n",
            " alAveragePooling2D)                                                                              \n",
            "                                                                                                  \n",
            " dropout (Dropout)              (None, 512)          0           ['global_average_pooling2d[0][0]'\n",
            "                                                                 ]                                \n",
            "                                                                                                  \n",
            " dense (Dense)                  (None, 1)            513         ['dropout[0][0]']                \n",
            "                                                                                                  \n",
            "==================================================================================================\n",
            "Total params: 721,857\n",
            "Trainable params: 718,849\n",
            "Non-trainable params: 3,008\n",
            "__________________________________________________________________________________________________\n"
          ]
        }
      ],
      "source": [
        "model.summary()"
      ]
    },
    {
      "cell_type": "code",
      "execution_count": 11,
      "metadata": {
        "id": "IdTpLIyBLoah"
      },
      "outputs": [],
      "source": [
        "model.compile(\n",
        "    loss=\"binary_crossentropy\",\n",
        "    optimizer=\"rmsprop\",\n",
        "    metrics=[\"accuracy\"])"
      ]
    },
    {
      "cell_type": "code",
      "execution_count": 12,
      "metadata": {
        "colab": {
          "base_uri": "https://localhost:8080/"
        },
        "id": "lMhdElWyKgb8",
        "outputId": "a65176ea-c111-496b-e5fa-c86d1736e596"
      },
      "outputs": [
        {
          "name": "stdout",
          "output_type": "stream",
          "text": [
            "Epoch 1/100\n",
            "63/63 [==============================] - 43s 422ms/step - loss: 0.7076 - accuracy: 0.5645 - val_loss: 0.6989 - val_accuracy: 0.5000\n",
            "Epoch 2/100\n",
            "63/63 [==============================] - 26s 411ms/step - loss: 0.6536 - accuracy: 0.6145 - val_loss: 0.6991 - val_accuracy: 0.5010\n",
            "Epoch 3/100\n",
            "63/63 [==============================] - 26s 408ms/step - loss: 0.6488 - accuracy: 0.6220 - val_loss: 0.6999 - val_accuracy: 0.5000\n",
            "Epoch 4/100\n",
            "63/63 [==============================] - 26s 408ms/step - loss: 0.6295 - accuracy: 0.6445 - val_loss: 0.6963 - val_accuracy: 0.5000\n",
            "Epoch 5/100\n",
            "63/63 [==============================] - 26s 412ms/step - loss: 0.6150 - accuracy: 0.6545 - val_loss: 0.7038 - val_accuracy: 0.5000\n",
            "Epoch 6/100\n",
            "63/63 [==============================] - 26s 415ms/step - loss: 0.5897 - accuracy: 0.6905 - val_loss: 0.8558 - val_accuracy: 0.5000\n",
            "Epoch 7/100\n",
            "63/63 [==============================] - 26s 412ms/step - loss: 0.5744 - accuracy: 0.6985 - val_loss: 0.7555 - val_accuracy: 0.5420\n",
            "Epoch 8/100\n",
            "63/63 [==============================] - 26s 411ms/step - loss: 0.5514 - accuracy: 0.7275 - val_loss: 1.0639 - val_accuracy: 0.5110\n",
            "Epoch 9/100\n",
            "63/63 [==============================] - 26s 410ms/step - loss: 0.5198 - accuracy: 0.7545 - val_loss: 1.2484 - val_accuracy: 0.5640\n",
            "Epoch 10/100\n",
            "63/63 [==============================] - 26s 416ms/step - loss: 0.5087 - accuracy: 0.7545 - val_loss: 1.1222 - val_accuracy: 0.5760\n",
            "Epoch 11/100\n",
            "63/63 [==============================] - 26s 410ms/step - loss: 0.4820 - accuracy: 0.7665 - val_loss: 0.5865 - val_accuracy: 0.7140\n",
            "Epoch 12/100\n",
            "63/63 [==============================] - 26s 417ms/step - loss: 0.4867 - accuracy: 0.7770 - val_loss: 0.7338 - val_accuracy: 0.6860\n",
            "Epoch 13/100\n",
            "63/63 [==============================] - 26s 411ms/step - loss: 0.4695 - accuracy: 0.7790 - val_loss: 0.6234 - val_accuracy: 0.7200\n",
            "Epoch 14/100\n",
            "63/63 [==============================] - 26s 410ms/step - loss: 0.4527 - accuracy: 0.7885 - val_loss: 0.4893 - val_accuracy: 0.7540\n",
            "Epoch 15/100\n",
            "63/63 [==============================] - 26s 414ms/step - loss: 0.4529 - accuracy: 0.7865 - val_loss: 0.5947 - val_accuracy: 0.6770\n",
            "Epoch 16/100\n",
            "63/63 [==============================] - 26s 406ms/step - loss: 0.4213 - accuracy: 0.8030 - val_loss: 0.6436 - val_accuracy: 0.6950\n",
            "Epoch 17/100\n",
            "63/63 [==============================] - 26s 410ms/step - loss: 0.4303 - accuracy: 0.8095 - val_loss: 0.5517 - val_accuracy: 0.7290\n",
            "Epoch 18/100\n",
            "63/63 [==============================] - 27s 419ms/step - loss: 0.4148 - accuracy: 0.8130 - val_loss: 0.4982 - val_accuracy: 0.7720\n",
            "Epoch 19/100\n",
            "63/63 [==============================] - 26s 413ms/step - loss: 0.4089 - accuracy: 0.8110 - val_loss: 0.7221 - val_accuracy: 0.7040\n",
            "Epoch 20/100\n",
            "63/63 [==============================] - 26s 416ms/step - loss: 0.3904 - accuracy: 0.8335 - val_loss: 1.2500 - val_accuracy: 0.6110\n",
            "Epoch 21/100\n",
            "63/63 [==============================] - 26s 415ms/step - loss: 0.3897 - accuracy: 0.8390 - val_loss: 0.9208 - val_accuracy: 0.6450\n",
            "Epoch 22/100\n",
            "63/63 [==============================] - 26s 409ms/step - loss: 0.3921 - accuracy: 0.8255 - val_loss: 0.6283 - val_accuracy: 0.7240\n",
            "Epoch 23/100\n",
            "63/63 [==============================] - 26s 416ms/step - loss: 0.3597 - accuracy: 0.8425 - val_loss: 0.5269 - val_accuracy: 0.7320\n",
            "Epoch 24/100\n",
            "63/63 [==============================] - 26s 413ms/step - loss: 0.3633 - accuracy: 0.8400 - val_loss: 0.6709 - val_accuracy: 0.7360\n",
            "Epoch 25/100\n",
            "63/63 [==============================] - 26s 415ms/step - loss: 0.3275 - accuracy: 0.8545 - val_loss: 0.7638 - val_accuracy: 0.7620\n",
            "Epoch 26/100\n",
            "63/63 [==============================] - 27s 416ms/step - loss: 0.3246 - accuracy: 0.8625 - val_loss: 0.5399 - val_accuracy: 0.7510\n",
            "Epoch 27/100\n",
            "63/63 [==============================] - 26s 410ms/step - loss: 0.3451 - accuracy: 0.8400 - val_loss: 0.9436 - val_accuracy: 0.6980\n",
            "Epoch 28/100\n",
            "63/63 [==============================] - 27s 419ms/step - loss: 0.3129 - accuracy: 0.8650 - val_loss: 0.7629 - val_accuracy: 0.7340\n",
            "Epoch 29/100\n",
            "63/63 [==============================] - 26s 415ms/step - loss: 0.3157 - accuracy: 0.8655 - val_loss: 0.6699 - val_accuracy: 0.7210\n",
            "Epoch 30/100\n",
            "63/63 [==============================] - 26s 409ms/step - loss: 0.3002 - accuracy: 0.8705 - val_loss: 0.5068 - val_accuracy: 0.7740\n",
            "Epoch 31/100\n",
            "63/63 [==============================] - 26s 409ms/step - loss: 0.2874 - accuracy: 0.8725 - val_loss: 0.5107 - val_accuracy: 0.8000\n",
            "Epoch 32/100\n",
            "63/63 [==============================] - 27s 418ms/step - loss: 0.2801 - accuracy: 0.8800 - val_loss: 3.0477 - val_accuracy: 0.5060\n",
            "Epoch 33/100\n",
            "63/63 [==============================] - 26s 404ms/step - loss: 0.2846 - accuracy: 0.8800 - val_loss: 0.6319 - val_accuracy: 0.7000\n",
            "Epoch 34/100\n",
            "63/63 [==============================] - 27s 417ms/step - loss: 0.2742 - accuracy: 0.8905 - val_loss: 0.4550 - val_accuracy: 0.8290\n",
            "Epoch 35/100\n",
            "63/63 [==============================] - 27s 421ms/step - loss: 0.2615 - accuracy: 0.8890 - val_loss: 0.4027 - val_accuracy: 0.8330\n",
            "Epoch 36/100\n",
            "63/63 [==============================] - 26s 414ms/step - loss: 0.2758 - accuracy: 0.8800 - val_loss: 0.9495 - val_accuracy: 0.6790\n",
            "Epoch 37/100\n",
            "63/63 [==============================] - 27s 421ms/step - loss: 0.2435 - accuracy: 0.9000 - val_loss: 0.7843 - val_accuracy: 0.7540\n",
            "Epoch 38/100\n",
            "63/63 [==============================] - 26s 415ms/step - loss: 0.2443 - accuracy: 0.8950 - val_loss: 0.4530 - val_accuracy: 0.8310\n",
            "Epoch 39/100\n",
            "63/63 [==============================] - 26s 407ms/step - loss: 0.2435 - accuracy: 0.8970 - val_loss: 0.6772 - val_accuracy: 0.7830\n",
            "Epoch 40/100\n",
            "63/63 [==============================] - 27s 420ms/step - loss: 0.2396 - accuracy: 0.9045 - val_loss: 0.5278 - val_accuracy: 0.8140\n",
            "Epoch 41/100\n",
            "63/63 [==============================] - 28s 438ms/step - loss: 0.2341 - accuracy: 0.8990 - val_loss: 0.3773 - val_accuracy: 0.8630\n",
            "Epoch 42/100\n",
            "63/63 [==============================] - 27s 416ms/step - loss: 0.2352 - accuracy: 0.9000 - val_loss: 4.6317 - val_accuracy: 0.5210\n",
            "Epoch 43/100\n",
            "63/63 [==============================] - 26s 414ms/step - loss: 0.2198 - accuracy: 0.9095 - val_loss: 1.2369 - val_accuracy: 0.6930\n",
            "Epoch 44/100\n",
            "63/63 [==============================] - 26s 412ms/step - loss: 0.2241 - accuracy: 0.9090 - val_loss: 0.3573 - val_accuracy: 0.8660\n",
            "Epoch 45/100\n",
            "63/63 [==============================] - 26s 411ms/step - loss: 0.2166 - accuracy: 0.9105 - val_loss: 0.6521 - val_accuracy: 0.7840\n",
            "Epoch 46/100\n",
            "63/63 [==============================] - 26s 416ms/step - loss: 0.2107 - accuracy: 0.9105 - val_loss: 0.3667 - val_accuracy: 0.8600\n",
            "Epoch 47/100\n",
            "63/63 [==============================] - 26s 414ms/step - loss: 0.2170 - accuracy: 0.9100 - val_loss: 0.7077 - val_accuracy: 0.7840\n",
            "Epoch 48/100\n",
            "63/63 [==============================] - 27s 422ms/step - loss: 0.1989 - accuracy: 0.9180 - val_loss: 0.4741 - val_accuracy: 0.8370\n",
            "Epoch 49/100\n",
            "63/63 [==============================] - 26s 405ms/step - loss: 0.1988 - accuracy: 0.9155 - val_loss: 0.7462 - val_accuracy: 0.7910\n",
            "Epoch 50/100\n",
            "63/63 [==============================] - 26s 415ms/step - loss: 0.1956 - accuracy: 0.9200 - val_loss: 0.6715 - val_accuracy: 0.7510\n",
            "Epoch 51/100\n",
            "63/63 [==============================] - 27s 417ms/step - loss: 0.2021 - accuracy: 0.9190 - val_loss: 0.4031 - val_accuracy: 0.8550\n",
            "Epoch 52/100\n",
            "63/63 [==============================] - 27s 417ms/step - loss: 0.1829 - accuracy: 0.9260 - val_loss: 0.6580 - val_accuracy: 0.7940\n",
            "Epoch 53/100\n",
            "63/63 [==============================] - 26s 415ms/step - loss: 0.1695 - accuracy: 0.9395 - val_loss: 1.9527 - val_accuracy: 0.6280\n",
            "Epoch 54/100\n",
            "63/63 [==============================] - 26s 411ms/step - loss: 0.2097 - accuracy: 0.9145 - val_loss: 0.3403 - val_accuracy: 0.8680\n",
            "Epoch 55/100\n",
            "63/63 [==============================] - 26s 412ms/step - loss: 0.1827 - accuracy: 0.9240 - val_loss: 0.5090 - val_accuracy: 0.8300\n",
            "Epoch 56/100\n",
            "63/63 [==============================] - 27s 420ms/step - loss: 0.1558 - accuracy: 0.9400 - val_loss: 0.8140 - val_accuracy: 0.7660\n",
            "Epoch 57/100\n",
            "63/63 [==============================] - 26s 405ms/step - loss: 0.1845 - accuracy: 0.9230 - val_loss: 0.4800 - val_accuracy: 0.7880\n",
            "Epoch 58/100\n",
            "63/63 [==============================] - 27s 418ms/step - loss: 0.1871 - accuracy: 0.9180 - val_loss: 0.4441 - val_accuracy: 0.8430\n",
            "Epoch 59/100\n",
            "63/63 [==============================] - 26s 416ms/step - loss: 0.1770 - accuracy: 0.9315 - val_loss: 0.7020 - val_accuracy: 0.7730\n",
            "Epoch 60/100\n",
            "63/63 [==============================] - 27s 417ms/step - loss: 0.1622 - accuracy: 0.9355 - val_loss: 0.6380 - val_accuracy: 0.8000\n",
            "Epoch 61/100\n",
            "63/63 [==============================] - 26s 415ms/step - loss: 0.1585 - accuracy: 0.9385 - val_loss: 0.4340 - val_accuracy: 0.8500\n",
            "Epoch 62/100\n",
            "63/63 [==============================] - 26s 413ms/step - loss: 0.1660 - accuracy: 0.9355 - val_loss: 0.6888 - val_accuracy: 0.8230\n",
            "Epoch 63/100\n",
            "63/63 [==============================] - 26s 414ms/step - loss: 0.1564 - accuracy: 0.9440 - val_loss: 0.4314 - val_accuracy: 0.8450\n",
            "Epoch 64/100\n",
            "63/63 [==============================] - 27s 420ms/step - loss: 0.1627 - accuracy: 0.9350 - val_loss: 0.4360 - val_accuracy: 0.8540\n",
            "Epoch 65/100\n",
            "63/63 [==============================] - 26s 410ms/step - loss: 0.1369 - accuracy: 0.9485 - val_loss: 0.8351 - val_accuracy: 0.7910\n",
            "Epoch 66/100\n",
            "63/63 [==============================] - 27s 417ms/step - loss: 0.1276 - accuracy: 0.9505 - val_loss: 1.3909 - val_accuracy: 0.6630\n",
            "Epoch 67/100\n",
            "63/63 [==============================] - 27s 421ms/step - loss: 0.1442 - accuracy: 0.9395 - val_loss: 0.8831 - val_accuracy: 0.7770\n",
            "Epoch 68/100\n",
            "63/63 [==============================] - 26s 406ms/step - loss: 0.1403 - accuracy: 0.9430 - val_loss: 0.4033 - val_accuracy: 0.8520\n",
            "Epoch 69/100\n",
            "63/63 [==============================] - 27s 418ms/step - loss: 0.1504 - accuracy: 0.9435 - val_loss: 0.6145 - val_accuracy: 0.8200\n",
            "Epoch 70/100\n",
            "63/63 [==============================] - 26s 412ms/step - loss: 0.1473 - accuracy: 0.9430 - val_loss: 1.1389 - val_accuracy: 0.7290\n",
            "Epoch 71/100\n",
            "63/63 [==============================] - 26s 416ms/step - loss: 0.1350 - accuracy: 0.9445 - val_loss: 0.4575 - val_accuracy: 0.8510\n",
            "Epoch 72/100\n",
            "63/63 [==============================] - 27s 417ms/step - loss: 0.1541 - accuracy: 0.9375 - val_loss: 0.3740 - val_accuracy: 0.8810\n",
            "Epoch 73/100\n",
            "63/63 [==============================] - 27s 419ms/step - loss: 0.1354 - accuracy: 0.9525 - val_loss: 0.4163 - val_accuracy: 0.8750\n",
            "Epoch 74/100\n",
            "63/63 [==============================] - 26s 414ms/step - loss: 0.1422 - accuracy: 0.9430 - val_loss: 1.2006 - val_accuracy: 0.7550\n",
            "Epoch 75/100\n",
            "63/63 [==============================] - 26s 415ms/step - loss: 0.1217 - accuracy: 0.9510 - val_loss: 0.5166 - val_accuracy: 0.8560\n",
            "Epoch 76/100\n",
            "63/63 [==============================] - 26s 410ms/step - loss: 0.1346 - accuracy: 0.9455 - val_loss: 0.8461 - val_accuracy: 0.7900\n",
            "Epoch 77/100\n",
            "63/63 [==============================] - 27s 416ms/step - loss: 0.1459 - accuracy: 0.9435 - val_loss: 0.7375 - val_accuracy: 0.8080\n",
            "Epoch 78/100\n",
            "63/63 [==============================] - 27s 418ms/step - loss: 0.1318 - accuracy: 0.9390 - val_loss: 0.4112 - val_accuracy: 0.8710\n",
            "Epoch 79/100\n",
            "63/63 [==============================] - 26s 411ms/step - loss: 0.1364 - accuracy: 0.9455 - val_loss: 0.5528 - val_accuracy: 0.8450\n",
            "Epoch 80/100\n",
            "63/63 [==============================] - 26s 415ms/step - loss: 0.1159 - accuracy: 0.9565 - val_loss: 0.5537 - val_accuracy: 0.8390\n",
            "Epoch 81/100\n",
            "63/63 [==============================] - 26s 411ms/step - loss: 0.1179 - accuracy: 0.9540 - val_loss: 1.1026 - val_accuracy: 0.7340\n",
            "Epoch 82/100\n",
            "63/63 [==============================] - 26s 411ms/step - loss: 0.1280 - accuracy: 0.9500 - val_loss: 0.4457 - val_accuracy: 0.8720\n",
            "Epoch 83/100\n",
            "63/63 [==============================] - 26s 411ms/step - loss: 0.1089 - accuracy: 0.9590 - val_loss: 0.9875 - val_accuracy: 0.7430\n",
            "Epoch 84/100\n",
            "63/63 [==============================] - 26s 411ms/step - loss: 0.1219 - accuracy: 0.9570 - val_loss: 0.3714 - val_accuracy: 0.8880\n",
            "Epoch 85/100\n",
            "63/63 [==============================] - 26s 415ms/step - loss: 0.1163 - accuracy: 0.9540 - val_loss: 0.3476 - val_accuracy: 0.8720\n",
            "Epoch 86/100\n",
            "63/63 [==============================] - 26s 407ms/step - loss: 0.1273 - accuracy: 0.9475 - val_loss: 0.4376 - val_accuracy: 0.8600\n",
            "Epoch 87/100\n",
            "63/63 [==============================] - 26s 412ms/step - loss: 0.1359 - accuracy: 0.9445 - val_loss: 0.3811 - val_accuracy: 0.8820\n",
            "Epoch 88/100\n",
            "63/63 [==============================] - 26s 411ms/step - loss: 0.1161 - accuracy: 0.9560 - val_loss: 0.8810 - val_accuracy: 0.8040\n",
            "Epoch 89/100\n",
            "63/63 [==============================] - 27s 418ms/step - loss: 0.1207 - accuracy: 0.9575 - val_loss: 0.4169 - val_accuracy: 0.8740\n",
            "Epoch 90/100\n",
            "63/63 [==============================] - 27s 415ms/step - loss: 0.1004 - accuracy: 0.9620 - val_loss: 1.2491 - val_accuracy: 0.7850\n",
            "Epoch 91/100\n",
            "63/63 [==============================] - 26s 414ms/step - loss: 0.1116 - accuracy: 0.9605 - val_loss: 0.4278 - val_accuracy: 0.8810\n",
            "Epoch 92/100\n",
            "63/63 [==============================] - 26s 415ms/step - loss: 0.0908 - accuracy: 0.9600 - val_loss: 0.4377 - val_accuracy: 0.8810\n",
            "Epoch 93/100\n",
            "63/63 [==============================] - 26s 410ms/step - loss: 0.1193 - accuracy: 0.9520 - val_loss: 0.4580 - val_accuracy: 0.8850\n",
            "Epoch 94/100\n",
            "63/63 [==============================] - 26s 415ms/step - loss: 0.1091 - accuracy: 0.9590 - val_loss: 0.2971 - val_accuracy: 0.9140\n",
            "Epoch 95/100\n",
            "63/63 [==============================] - 26s 413ms/step - loss: 0.1070 - accuracy: 0.9580 - val_loss: 0.3678 - val_accuracy: 0.8880\n",
            "Epoch 96/100\n",
            "63/63 [==============================] - 26s 412ms/step - loss: 0.1163 - accuracy: 0.9530 - val_loss: 0.4211 - val_accuracy: 0.8870\n",
            "Epoch 97/100\n",
            "63/63 [==============================] - 26s 412ms/step - loss: 0.0969 - accuracy: 0.9645 - val_loss: 0.4125 - val_accuracy: 0.8770\n",
            "Epoch 98/100\n",
            "63/63 [==============================] - 27s 417ms/step - loss: 0.1060 - accuracy: 0.9590 - val_loss: 0.4666 - val_accuracy: 0.8760\n",
            "Epoch 99/100\n",
            "63/63 [==============================] - 26s 414ms/step - loss: 0.1029 - accuracy: 0.9605 - val_loss: 0.5263 - val_accuracy: 0.8570\n",
            "Epoch 100/100\n",
            "63/63 [==============================] - 27s 419ms/step - loss: 0.1055 - accuracy: 0.9555 - val_loss: 0.5489 - val_accuracy: 0.8280\n"
          ]
        }
      ],
      "source": [
        "# Training the regularized convnet\n",
        "callbacks = [\n",
        "  keras.callbacks.ModelCheckpoint(\n",
        "  filepath=\"cats_vs_dogs_small_with_architecture_principles.keras\",\n",
        "  save_best_only=True,\n",
        "  monitor=\"val_loss\")\n",
        "]\n",
        "history = model.fit(\n",
        "  train_dataset,\n",
        "  epochs=100,\n",
        "  validation_data=validation_dataset,\n",
        "  callbacks=callbacks)"
      ]
    },
    {
      "cell_type": "code",
      "execution_count": 13,
      "metadata": {
        "colab": {
          "base_uri": "https://localhost:8080/",
          "height": 545
        },
        "id": "bBqiF4tBMCSM",
        "outputId": "802aed1e-5fca-428c-fa31-4e747f908391"
      },
      "outputs": [
        {
          "data": {
            "image/png": "[encoded data removed]",
            "text/plain": [
              "<Figure size 432x288 with 1 Axes>"
            ]
          },
          "metadata": {
            "needs_background": "light"
          },
          "output_type": "display_data"
        },
        {
          "data": {
            "image/png": "[encoded data removed]",
            "text/plain": [
              "<Figure size 432x288 with 1 Axes>"
            ]
          },
          "metadata": {
            "needs_background": "light"
          },
          "output_type": "display_data"
        }
      ],
      "source": [
        "# Displaying curves of loss and accuracy during training\n",
        "import matplotlib.pyplot as plt\n",
        "accuracy = history.history[\"accuracy\"]\n",
        "val_accuracy = history.history[\"val_accuracy\"]\n",
        "loss = history.history[\"loss\"]\n",
        "val_loss = history.history[\"val_loss\"]\n",
        "epochs = range(1, len(accuracy) + 1)\n",
        "plt.plot(epochs, accuracy, \"bo\", label=\"Training accuracy\")\n",
        "plt.plot(epochs, val_accuracy, \"b\", label=\"Validation accuracy\")\n",
        "plt.title(\"Training and validation accuracy\")\n",
        "plt.legend()\n",
        "plt.figure()\n",
        "plt.plot(epochs, loss, \"bo\", label=\"Training loss\")\n",
        "plt.plot(epochs, val_loss, \"b\", label=\"Validation loss\")\n",
        "plt.title(\"Training and validation loss\")\n",
        "plt.legend()\n",
        "plt.show()"
      ]
    },
    {
      "cell_type": "code",
      "execution_count": 14,
      "metadata": {
        "colab": {
          "base_uri": "https://localhost:8080/"
        },
        "id": "Xc7D1hxHMKg_",
        "outputId": "4db76429-db6f-4e74-e43d-04734d86b6e3"
      },
      "outputs": [
        {
          "name": "stdout",
          "output_type": "stream",
          "text": [
            "63/63 [==============================] - 3s 41ms/step - loss: 0.3739 - accuracy: 0.8975\n",
            "Test accuracy: 0.897\n"
          ]
        }
      ],
      "source": [
        "# Evaluating the model on the test set\n",
        "test_model = keras.models.load_model(\"cats_vs_dogs_small_with_architecture_principles.keras\")\n",
        "test_loss, test_acc = test_model.evaluate(test_dataset)\n",
        "print(f\"Test accuracy: {test_acc:.3f}\")"
      ]
    },
    {
      "cell_type": "markdown",
      "metadata": {
        "id": "vBL5xkNOTvNo"
      },
      "source": [
        "---"
      ]
    }
  ],
  "metadata": {
    "accelerator": "GPU",
    "colab": {
      "collapsed_sections": [],
      "name": "DeepLearning_book_9_2.ipynb",
      "provenance": []
    },
    "kernelspec": {
      "display_name": "Python 3",
      "name": "python3"
    },
    "language_info": {
      "name": "python"
    }
  },
  "nbformat": 4,
  "nbformat_minor": 0
}
