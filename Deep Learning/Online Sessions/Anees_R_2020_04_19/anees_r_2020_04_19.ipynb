{
  "cells": [
    {
      "cell_type": "markdown",
      "metadata": {},
      "source": [
        "# Deeplearning - Anees Ahmad - 2020/04/19"
      ]
    },
    {
      "cell_type": "markdown",
      "metadata": {
        "id": "_rjaEad8Mv9H"
      },
      "source": [
        "# 10 Deep learning for timeseries"
      ]
    },
    {
      "cell_type": "markdown",
      "metadata": {
        "id": "xRj-WhgBM1FW"
      },
      "source": [
        "## 10.1 Different kinds of timeseries tasks"
      ]
    },
    {
      "cell_type": "markdown",
      "metadata": {
        "id": "oROJu42XM2Hz"
      },
      "source": [
        "- A timeseries\n",
        "  - any data obtained via measurements at regular intervals\n",
        "    - daily price of a stock\n",
        "    - hourly electricity consumption of a city\n",
        "    - weekly sales of a store\n",
        "    - natural phenomena\n",
        "      - seismic activity\n",
        "      - evolution of fish populations in a river\n",
        "      - weather at a location\n",
        "    - human activity patterns\n",
        "      - visitors to a website\n",
        "      - country’s GDP\n",
        "      - credit card transactions)\n",
        "  - working with timeseries involves understanding the dynamics of a system\n",
        "    - periodic cycles\n",
        "    - how it trends over time\n",
        "    - its regular regime\n",
        "    - its sudden spikes\n",
        "  - Tasks realted to time series\n",
        "    - forecasting\n",
        "      - predicting what will happen next in a series\n",
        "    - classification\n",
        "      - Assign one or more categorical labels to a timeseries\n",
        "    - Event detection\n",
        "      - Identify the occurrence of a specific expected event within a continuous data stream\n",
        "    - Anomaly detection\n",
        "      - Detect anything unusual happening within a continuous datastream\n",
        "  -  data-representation techniques\n",
        "    - Fourier transform\n",
        "      - expressing a series of values in terms of a superposition of waves of different frequencies\n",
        "      - preprocessing any data that is primarily characterized by its cycles and oscillations\n",
        "        - sound\n",
        "        - the vibrations of the frame of a skyscraper\n",
        "        - brain waves\n"
      ]
    },
    {
      "cell_type": "markdown",
      "metadata": {
        "id": "NQ-ZJ9mcSws_"
      },
      "source": [
        "## 10.2 A temperature-forecasting example"
      ]
    },
    {
      "cell_type": "markdown",
      "metadata": {
        "id": "-oN7OXpZTfrX"
      },
      "source": [
        "- predict the temperature 24 hours in the future\n",
        "  - given a timeseries of hourly measurements of quantities such as atmospheric pressure and humidity\n",
        "  - use recurrent neural networks (RNNs)"
      ]
    },
    {
      "cell_type": "code",
      "execution_count": 1,
      "metadata": {
        "colab": {
          "base_uri": "https://localhost:8080/"
        },
        "id": "8e8GUIGsTs-p",
        "outputId": "0e80c04a-1194-4755-c527-fc51ad8b97a6"
      },
      "outputs": [
        {
          "name": "stdout",
          "output_type": "stream",
          "text": [
            "--2022-05-26 11:38:09--  https://s3.amazonaws.com/keras-datasets/jena_climate_2009_2016.csv.zip\n",
            "Resolving s3.amazonaws.com (s3.amazonaws.com)... 54.231.225.40\n",
            "Connecting to s3.amazonaws.com (s3.amazonaws.com)|54.231.225.40|:443... connected.\n",
            "HTTP request sent, awaiting response... 200 OK\n",
            "Length: 13565642 (13M) [application/zip]\n",
            "Saving to: ‘jena_climate_2009_2016.csv.zip.1’\n",
            "\n",
            "jena_climate_2009_2 100%[===================>]  12.94M  56.2MB/s    in 0.2s    \n",
            "\n",
            "2022-05-26 11:38:09 (56.2 MB/s) - ‘jena_climate_2009_2016.csv.zip.1’ saved [13565642/13565642]\n",
            "\n",
            "Archive:  jena_climate_2009_2016.csv.zip\n",
            "replace jena_climate_2009_2016.csv? [y]es, [n]o, [A]ll, [N]one, [r]ename: y\n",
            "  inflating: jena_climate_2009_2016.csv  \n",
            "replace __MACOSX/._jena_climate_2009_2016.csv? [y]es, [n]o, [A]ll, [N]one, [r]ename: y\n",
            "  inflating: __MACOSX/._jena_climate_2009_2016.csv  \n"
          ]
        }
      ],
      "source": [
        "# download data\n",
        "!wget https://s3.amazonaws.com/keras-datasets/jena_climate_2009_2016.csv.zip\n",
        "!unzip jena_climate_2009_2016.csv.zip"
      ]
    },
    {
      "cell_type": "code",
      "execution_count": 2,
      "metadata": {
        "colab": {
          "base_uri": "https://localhost:8080/"
        },
        "id": "SpTSs1IxT2LW",
        "outputId": "c3dedfc6-1ae2-4b1f-8d0c-430d598416ba"
      },
      "outputs": [
        {
          "name": "stdout",
          "output_type": "stream",
          "text": [
            "['\"Date Time\"', '\"p (mbar)\"', '\"T (degC)\"', '\"Tpot (K)\"', '\"Tdew (degC)\"', '\"rh (%)\"', '\"VPmax (mbar)\"', '\"VPact (mbar)\"', '\"VPdef (mbar)\"', '\"sh (g/kg)\"', '\"H2OC (mmol/mol)\"', '\"rho (g/m**3)\"', '\"wv (m/s)\"', '\"max. wv (m/s)\"', '\"wd (deg)\"']\n",
            "420451\n"
          ]
        }
      ],
      "source": [
        "# Listing 10.1 Inspecting the data of the Jena weather dataset\n",
        "import os\n",
        "fname = os.path.join(\"jena_climate_2009_2016.csv\")\n",
        " \n",
        "with open(fname) as f:\n",
        "  data = f.read()\n",
        "\n",
        "lines = data.split(\"\\n\")\n",
        "header = lines[0].split(\",\")\n",
        "lines = lines[1:] \n",
        "print(header) \n",
        "print(len(lines))"
      ]
    },
    {
      "cell_type": "code",
      "execution_count": 3,
      "metadata": {
        "id": "ljCAJi1-UbN-"
      },
      "outputs": [],
      "source": [
        "# Listing 10.2 Parsing the data\n",
        "import numpy as np\n",
        "temperature = np.zeros((len(lines),))\n",
        "raw_data = np.zeros((len(lines), len(header) - 1)) \n",
        "for i, line in enumerate(lines):\n",
        "  values = [float(x) for x in line.split(\",\")[1:]]\n",
        "  # We store column 1 in the “temperature” array.\n",
        "  temperature[i] = values[1]\n",
        "  # We store all columns (including the temperature) in the “raw_data” array\n",
        "  raw_data[i, :] = values[:] "
      ]
    },
    {
      "cell_type": "code",
      "execution_count": 4,
      "metadata": {
        "colab": {
          "base_uri": "https://localhost:8080/",
          "height": 285
        },
        "id": "vBoH_Xh_UtB3",
        "outputId": "5a231bc8-1299-4fcc-fbf4-5d6117b778ca"
      },
      "outputs": [
        {
          "data": {
            "text/plain": [
              "[<matplotlib.lines.Line2D at 0x7fc1df4bd1d0>]"
            ]
          },
          "execution_count": 4,
          "metadata": {},
          "output_type": "execute_result"
        },
        {
          "data": {
            "image/png": "[encoded data removed]",
            "text/plain": [
              "<Figure size 432x288 with 1 Axes>"
            ]
          },
          "metadata": {
            "needs_background": "light"
          },
          "output_type": "display_data"
        }
      ],
      "source": [
        "# Listing 10.3 Plotting the temperature timeseries\n",
        "from matplotlib import pyplot as plt\n",
        "plt.plot(range(len(temperature)), temperature)"
      ]
    },
    {
      "cell_type": "code",
      "execution_count": 5,
      "metadata": {
        "colab": {
          "base_uri": "https://localhost:8080/",
          "height": 282
        },
        "id": "Juy1XZu_U0X3",
        "outputId": "86184a84-6aaa-4fc6-9910-1ff083247dba"
      },
      "outputs": [
        {
          "data": {
            "text/plain": [
              "[<matplotlib.lines.Line2D at 0x7fc1df4c4090>]"
            ]
          },
          "execution_count": 5,
          "metadata": {},
          "output_type": "execute_result"
        },
        {
          "data": {
            "image/png": "[encoded data removed]",
            "text/plain": [
              "<Figure size 432x288 with 1 Axes>"
            ]
          },
          "metadata": {
            "needs_background": "light"
          },
          "output_type": "display_data"
        }
      ],
      "source": [
        "# Listing 10.4 Plotting the first 10 days of the temperature timeseries\n",
        "plt.plot(range(1440), temperature[:1440])"
      ]
    },
    {
      "cell_type": "markdown",
      "metadata": {
        "id": "OVyEw8LTVCLe"
      },
      "source": [
        "- Always look for periodicity in your data\n",
        "  - Periodicity over multiple timescales is an important and very common property of timeseries data.\n",
        "-  When working with timeseries data, it’s important to use validation and test data that is more recent than the training data, because you’re trying to predict the future given the past, not the reverse"
      ]
    },
    {
      "cell_type": "code",
      "execution_count": 6,
      "metadata": {
        "colab": {
          "base_uri": "https://localhost:8080/"
        },
        "id": "rDW0vFCmU5ye",
        "outputId": "e695a6af-b842-49e8-cd05-81087ba33203"
      },
      "outputs": [
        {
          "name": "stdout",
          "output_type": "stream",
          "text": [
            "num_train_samples: 210225\n",
            "num_val_samples: 105112\n",
            "num_test_samples: 105114\n"
          ]
        }
      ],
      "source": [
        "# Listing 10.5 Computing the number of samples we’ll use for each data split\n",
        "num_train_samples = int(0.5 * len(raw_data))\n",
        "num_val_samples = int(0.25 * len(raw_data))\n",
        "num_test_samples = len(raw_data) - num_train_samples - num_val_samples\n",
        "print(\"num_train_samples:\", num_train_samples)\n",
        "print(\"num_val_samples:\", num_val_samples)\n",
        "print(\"num_test_samples:\", num_test_samples)"
      ]
    },
    {
      "cell_type": "markdown",
      "metadata": {
        "id": "-CnMbf_XVw1l"
      },
      "source": [
        "### 10.2.1 Preparing the data"
      ]
    },
    {
      "cell_type": "markdown",
      "metadata": {
        "id": "NWk77ScGfsJk"
      },
      "source": [
        "- problem\n",
        "  - given data covering the previous five days and sampled once per hour\n",
        "  - can we predict the temperature in 24 hours"
      ]
    },
    {
      "cell_type": "code",
      "execution_count": 7,
      "metadata": {
        "colab": {
          "base_uri": "https://localhost:8080/"
        },
        "id": "MgiTHVZff6h1",
        "outputId": "c91baff7-87de-434d-9c7f-3dadcab249a4"
      },
      "outputs": [
        {
          "name": "stdout",
          "output_type": "stream",
          "text": [
            "<class 'pandas.core.frame.DataFrame'>\n",
            "RangeIndex: 420451 entries, 0 to 420450\n",
            "Data columns (total 14 columns):\n",
            " #   Column             Non-Null Count   Dtype  \n",
            "---  ------             --------------   -----  \n",
            " 0   \"p (mbar)\"         420451 non-null  float64\n",
            " 1   \"T (degC)\"         420451 non-null  float64\n",
            " 2   \"Tpot (K)\"         420451 non-null  float64\n",
            " 3   \"Tdew (degC)\"      420451 non-null  float64\n",
            " 4   \"rh (%)\"           420451 non-null  float64\n",
            " 5   \"VPmax (mbar)\"     420451 non-null  float64\n",
            " 6   \"VPact (mbar)\"     420451 non-null  float64\n",
            " 7   \"VPdef (mbar)\"     420451 non-null  float64\n",
            " 8   \"sh (g/kg)\"        420451 non-null  float64\n",
            " 9   \"H2OC (mmol/mol)\"  420451 non-null  float64\n",
            " 10  \"rho (g/m**3)\"     420451 non-null  float64\n",
            " 11  \"wv (m/s)\"         420451 non-null  float64\n",
            " 12  \"max. wv (m/s)\"    420451 non-null  float64\n",
            " 13  \"wd (deg)\"         420451 non-null  float64\n",
            "dtypes: float64(14)\n",
            "memory usage: 44.9 MB\n"
          ]
        }
      ],
      "source": [
        "# check data\n",
        "import pandas as pd\n",
        "raw_data_pd = pd.DataFrame(raw_data,columns=header[1:])\n",
        "raw_data_pd.info()"
      ]
    },
    {
      "cell_type": "code",
      "execution_count": 8,
      "metadata": {
        "colab": {
          "base_uri": "https://localhost:8080/",
          "height": 382
        },
        "id": "zIHNoD2rgcIU",
        "outputId": "cf05e20b-fca9-4386-e8f5-6402614e66b4"
      },
      "outputs": [
        {
          "data": {
            "text/html": [
              "\n",
              "  <div id=\"df-f0e79968-efa7-4481-99c2-ab874f15ee80\">\n",
              "    <div class=\"colab-df-container\">\n",
              "      <div>\n",
              "<style scoped>\n",
              "    .dataframe tbody tr th:only-of-type {\n",
              "        vertical-align: middle;\n",
              "    }\n",
              "\n",
              "    .dataframe tbody tr th {\n",
              "        vertical-align: top;\n",
              "    }\n",
              "\n",
              "    .dataframe thead th {\n",
              "        text-align: right;\n",
              "    }\n",
              "</style>\n",
              "<table border=\"1\" class=\"dataframe\">\n",
              "  <thead>\n",
              "    <tr style=\"text-align: right;\">\n",
              "      <th></th>\n",
              "      <th>\"p (mbar)\"</th>\n",
              "      <th>\"T (degC)\"</th>\n",
              "      <th>\"Tpot (K)\"</th>\n",
              "      <th>\"Tdew (degC)\"</th>\n",
              "      <th>\"rh (%)\"</th>\n",
              "      <th>\"VPmax (mbar)\"</th>\n",
              "      <th>\"VPact (mbar)\"</th>\n",
              "      <th>\"VPdef (mbar)\"</th>\n",
              "      <th>\"sh (g/kg)\"</th>\n",
              "      <th>\"H2OC (mmol/mol)\"</th>\n",
              "      <th>\"rho (g/m**3)\"</th>\n",
              "      <th>\"wv (m/s)\"</th>\n",
              "      <th>\"max. wv (m/s)\"</th>\n",
              "      <th>\"wd (deg)\"</th>\n",
              "    </tr>\n",
              "  </thead>\n",
              "  <tbody>\n",
              "    <tr>\n",
              "      <th>count</th>\n",
              "      <td>420451.000000</td>\n",
              "      <td>420451.000000</td>\n",
              "      <td>420451.000000</td>\n",
              "      <td>420451.000000</td>\n",
              "      <td>420451.000000</td>\n",
              "      <td>420451.000000</td>\n",
              "      <td>420451.000000</td>\n",
              "      <td>420451.000000</td>\n",
              "      <td>420451.000000</td>\n",
              "      <td>420451.000000</td>\n",
              "      <td>420451.000000</td>\n",
              "      <td>420451.000000</td>\n",
              "      <td>420451.000000</td>\n",
              "      <td>420451.000000</td>\n",
              "    </tr>\n",
              "    <tr>\n",
              "      <th>mean</th>\n",
              "      <td>989.212508</td>\n",
              "      <td>9.448567</td>\n",
              "      <td>283.491182</td>\n",
              "      <td>4.954011</td>\n",
              "      <td>76.007045</td>\n",
              "      <td>13.575089</td>\n",
              "      <td>9.532524</td>\n",
              "      <td>4.042483</td>\n",
              "      <td>6.021630</td>\n",
              "      <td>9.638982</td>\n",
              "      <td>1216.069883</td>\n",
              "      <td>2.130309</td>\n",
              "      <td>3.532381</td>\n",
              "      <td>174.726164</td>\n",
              "    </tr>\n",
              "    <tr>\n",
              "      <th>std</th>\n",
              "      <td>8.359454</td>\n",
              "      <td>8.423685</td>\n",
              "      <td>8.504820</td>\n",
              "      <td>6.730411</td>\n",
              "      <td>16.477126</td>\n",
              "      <td>7.739481</td>\n",
              "      <td>4.183895</td>\n",
              "      <td>4.897270</td>\n",
              "      <td>2.655973</td>\n",
              "      <td>4.235130</td>\n",
              "      <td>39.977065</td>\n",
              "      <td>1.541830</td>\n",
              "      <td>2.340482</td>\n",
              "      <td>86.675965</td>\n",
              "    </tr>\n",
              "    <tr>\n",
              "      <th>min</th>\n",
              "      <td>913.600000</td>\n",
              "      <td>-23.010000</td>\n",
              "      <td>250.600000</td>\n",
              "      <td>-25.010000</td>\n",
              "      <td>12.950000</td>\n",
              "      <td>0.950000</td>\n",
              "      <td>0.790000</td>\n",
              "      <td>0.000000</td>\n",
              "      <td>0.500000</td>\n",
              "      <td>0.800000</td>\n",
              "      <td>1059.450000</td>\n",
              "      <td>0.000000</td>\n",
              "      <td>0.000000</td>\n",
              "      <td>0.000000</td>\n",
              "    </tr>\n",
              "    <tr>\n",
              "      <th>25%</th>\n",
              "      <td>984.200000</td>\n",
              "      <td>3.360000</td>\n",
              "      <td>277.430000</td>\n",
              "      <td>0.240000</td>\n",
              "      <td>65.210000</td>\n",
              "      <td>7.780000</td>\n",
              "      <td>6.210000</td>\n",
              "      <td>0.870000</td>\n",
              "      <td>3.920000</td>\n",
              "      <td>6.290000</td>\n",
              "      <td>1187.490000</td>\n",
              "      <td>0.990000</td>\n",
              "      <td>1.760000</td>\n",
              "      <td>124.800000</td>\n",
              "    </tr>\n",
              "    <tr>\n",
              "      <th>50%</th>\n",
              "      <td>989.570000</td>\n",
              "      <td>9.410000</td>\n",
              "      <td>283.460000</td>\n",
              "      <td>5.210000</td>\n",
              "      <td>79.300000</td>\n",
              "      <td>11.820000</td>\n",
              "      <td>8.860000</td>\n",
              "      <td>2.190000</td>\n",
              "      <td>5.590000</td>\n",
              "      <td>8.960000</td>\n",
              "      <td>1213.800000</td>\n",
              "      <td>1.760000</td>\n",
              "      <td>2.960000</td>\n",
              "      <td>198.100000</td>\n",
              "    </tr>\n",
              "    <tr>\n",
              "      <th>75%</th>\n",
              "      <td>994.720000</td>\n",
              "      <td>15.470000</td>\n",
              "      <td>289.530000</td>\n",
              "      <td>10.070000</td>\n",
              "      <td>89.400000</td>\n",
              "      <td>17.600000</td>\n",
              "      <td>12.350000</td>\n",
              "      <td>5.300000</td>\n",
              "      <td>7.800000</td>\n",
              "      <td>12.480000</td>\n",
              "      <td>1242.770000</td>\n",
              "      <td>2.860000</td>\n",
              "      <td>4.740000</td>\n",
              "      <td>234.100000</td>\n",
              "    </tr>\n",
              "    <tr>\n",
              "      <th>max</th>\n",
              "      <td>1015.350000</td>\n",
              "      <td>37.280000</td>\n",
              "      <td>311.340000</td>\n",
              "      <td>23.110000</td>\n",
              "      <td>100.000000</td>\n",
              "      <td>63.770000</td>\n",
              "      <td>28.320000</td>\n",
              "      <td>46.010000</td>\n",
              "      <td>18.130000</td>\n",
              "      <td>28.820000</td>\n",
              "      <td>1393.540000</td>\n",
              "      <td>14.630000</td>\n",
              "      <td>23.500000</td>\n",
              "      <td>360.000000</td>\n",
              "    </tr>\n",
              "  </tbody>\n",
              "</table>\n",
              "</div>\n",
              "      <button class=\"colab-df-convert\" onclick=\"convertToInteractive('df-f0e79968-efa7-4481-99c2-ab874f15ee80')\"\n",
              "              title=\"Convert this dataframe to an interactive table.\"\n",
              "              style=\"display:none;\">\n",
              "        \n",
              "  <svg xmlns=\"http://www.w3.org/2000/svg\" height=\"24px\"viewBox=\"0 0 24 24\"\n",
              "       width=\"24px\">\n",
              "    <path d=\"M0 0h24v24H0V0z\" fill=\"none\"/>\n",
              "    <path d=\"M18.56 5.44l.94 2.06.94-2.06 2.06-.94-2.06-.94-.94-2.06-.94 2.06-2.06.94zm-11 1L8.5 8.5l.94-2.06 2.06-.94-2.06-.94L8.5 2.5l-.94 2.06-2.06.94zm10 10l.94 2.06.94-2.06 2.06-.94-2.06-.94-.94-2.06-.94 2.06-2.06.94z\"/><path d=\"M17.41 7.96l-1.37-1.37c-.4-.4-.92-.59-1.43-.59-.52 0-1.04.2-1.43.59L10.3 9.45l-7.72 7.72c-.78.78-.78 2.05 0 2.83L4 21.41c.39.39.9.59 1.41.59.51 0 1.02-.2 1.41-.59l7.78-7.78 2.81-2.81c.8-.78.8-2.07 0-2.86zM5.41 20L4 18.59l7.72-7.72 1.47 1.35L5.41 20z\"/>\n",
              "  </svg>\n",
              "      </button>\n",
              "      \n",
              "  <style>\n",
              "    .colab-df-container {\n",
              "      display:flex;\n",
              "      flex-wrap:wrap;\n",
              "      gap: 12px;\n",
              "    }\n",
              "\n",
              "    .colab-df-convert {\n",
              "      background-color: #E8F0FE;\n",
              "      border: none;\n",
              "      border-radius: 50%;\n",
              "      cursor: pointer;\n",
              "      display: none;\n",
              "      fill: #1967D2;\n",
              "      height: 32px;\n",
              "      padding: 0 0 0 0;\n",
              "      width: 32px;\n",
              "    }\n",
              "\n",
              "    .colab-df-convert:hover {\n",
              "      background-color: #E2EBFA;\n",
              "      box-shadow: 0px 1px 2px rgba(60, 64, 67, 0.3), 0px 1px 3px 1px rgba(60, 64, 67, 0.15);\n",
              "      fill: #174EA6;\n",
              "    }\n",
              "\n",
              "    [theme=dark] .colab-df-convert {\n",
              "      background-color: #3B4455;\n",
              "      fill: #D2E3FC;\n",
              "    }\n",
              "\n",
              "    [theme=dark] .colab-df-convert:hover {\n",
              "      background-color: #434B5C;\n",
              "      box-shadow: 0px 1px 3px 1px rgba(0, 0, 0, 0.15);\n",
              "      filter: drop-shadow(0px 1px 2px rgba(0, 0, 0, 0.3));\n",
              "      fill: #FFFFFF;\n",
              "    }\n",
              "  </style>\n",
              "\n",
              "      <script>\n",
              "        const buttonEl =\n",
              "          document.querySelector('#df-f0e79968-efa7-4481-99c2-ab874f15ee80 button.colab-df-convert');\n",
              "        buttonEl.style.display =\n",
              "          google.colab.kernel.accessAllowed ? 'block' : 'none';\n",
              "\n",
              "        async function convertToInteractive(key) {\n",
              "          const element = document.querySelector('#df-f0e79968-efa7-4481-99c2-ab874f15ee80');\n",
              "          const dataTable =\n",
              "            await google.colab.kernel.invokeFunction('convertToInteractive',\n",
              "                                                     [key], {});\n",
              "          if (!dataTable) return;\n",
              "\n",
              "          const docLinkHtml = 'Like what you see? Visit the ' +\n",
              "            '<a target=\"_blank\" href=https://colab.research.google.com/notebooks/data_table.ipynb>data table notebook</a>'\n",
              "            + ' to learn more about interactive tables.';\n",
              "          element.innerHTML = '';\n",
              "          dataTable['output_type'] = 'display_data';\n",
              "          await google.colab.output.renderOutput(dataTable, element);\n",
              "          const docLink = document.createElement('div');\n",
              "          docLink.innerHTML = docLinkHtml;\n",
              "          element.appendChild(docLink);\n",
              "        }\n",
              "      </script>\n",
              "    </div>\n",
              "  </div>\n",
              "  "
            ],
            "text/plain": [
              "          \"p (mbar)\"     \"T (degC)\"     \"Tpot (K)\"  \"Tdew (degC)\"  \\\n",
              "count  420451.000000  420451.000000  420451.000000  420451.000000   \n",
              "mean      989.212508       9.448567     283.491182       4.954011   \n",
              "std         8.359454       8.423685       8.504820       6.730411   \n",
              "min       913.600000     -23.010000     250.600000     -25.010000   \n",
              "25%       984.200000       3.360000     277.430000       0.240000   \n",
              "50%       989.570000       9.410000     283.460000       5.210000   \n",
              "75%       994.720000      15.470000     289.530000      10.070000   \n",
              "max      1015.350000      37.280000     311.340000      23.110000   \n",
              "\n",
              "            \"rh (%)\"  \"VPmax (mbar)\"  \"VPact (mbar)\"  \"VPdef (mbar)\"  \\\n",
              "count  420451.000000   420451.000000   420451.000000   420451.000000   \n",
              "mean       76.007045       13.575089        9.532524        4.042483   \n",
              "std        16.477126        7.739481        4.183895        4.897270   \n",
              "min        12.950000        0.950000        0.790000        0.000000   \n",
              "25%        65.210000        7.780000        6.210000        0.870000   \n",
              "50%        79.300000       11.820000        8.860000        2.190000   \n",
              "75%        89.400000       17.600000       12.350000        5.300000   \n",
              "max       100.000000       63.770000       28.320000       46.010000   \n",
              "\n",
              "         \"sh (g/kg)\"  \"H2OC (mmol/mol)\"  \"rho (g/m**3)\"     \"wv (m/s)\"  \\\n",
              "count  420451.000000      420451.000000   420451.000000  420451.000000   \n",
              "mean        6.021630           9.638982     1216.069883       2.130309   \n",
              "std         2.655973           4.235130       39.977065       1.541830   \n",
              "min         0.500000           0.800000     1059.450000       0.000000   \n",
              "25%         3.920000           6.290000     1187.490000       0.990000   \n",
              "50%         5.590000           8.960000     1213.800000       1.760000   \n",
              "75%         7.800000          12.480000     1242.770000       2.860000   \n",
              "max        18.130000          28.820000     1393.540000      14.630000   \n",
              "\n",
              "       \"max. wv (m/s)\"     \"wd (deg)\"  \n",
              "count    420451.000000  420451.000000  \n",
              "mean          3.532381     174.726164  \n",
              "std           2.340482      86.675965  \n",
              "min           0.000000       0.000000  \n",
              "25%           1.760000     124.800000  \n",
              "50%           2.960000     198.100000  \n",
              "75%           4.740000     234.100000  \n",
              "max          23.500000     360.000000  "
            ]
          },
          "execution_count": 8,
          "metadata": {},
          "output_type": "execute_result"
        }
      ],
      "source": [
        "raw_data_pd.describe()"
      ]
    },
    {
      "cell_type": "code",
      "execution_count": 9,
      "metadata": {
        "id": "FIH2Z-aigwDf"
      },
      "outputs": [],
      "source": [
        "# Listing 10.6 Normalizing the data\n",
        "# only on train data\n",
        "mean = raw_data[:num_train_samples].mean(axis=0)\n",
        "raw_data -= mean\n",
        "std = raw_data[:num_train_samples].std(axis=0)\n",
        "raw_data /= std"
      ]
    },
    {
      "cell_type": "markdown",
      "metadata": {
        "id": "5MBaC1w2ha8P"
      },
      "source": [
        "- create a Dataset object \n",
        "  - that yields batches of data from the past five days along with a target temperature 24 hours in the future"
      ]
    },
    {
      "cell_type": "code",
      "execution_count": 10,
      "metadata": {
        "colab": {
          "base_uri": "https://localhost:8080/"
        },
        "id": "E8oINAJriJk_",
        "outputId": "0df3fd10-8240-43dd-87a2-e6fdbbe54952"
      },
      "outputs": [
        {
          "name": "stdout",
          "output_type": "stream",
          "text": [
            "[0 1 2 3 4 5 6 7 8 9]\n",
            "tf.Tensor(\n",
            "[[0 1 2]\n",
            " [1 2 3]], shape=(2, 3), dtype=int64)\n",
            "[0, 1, 2] 3\n",
            "[1, 2, 3] 4\n",
            "tf.Tensor(\n",
            "[[2 3 4]\n",
            " [3 4 5]], shape=(2, 3), dtype=int64)\n",
            "[2, 3, 4] 5\n",
            "[3, 4, 5] 6\n",
            "tf.Tensor([[4 5 6]], shape=(1, 3), dtype=int64)\n",
            "[4, 5, 6] 7\n"
          ]
        }
      ],
      "source": [
        "# Understanding timeseries_dataset_from_array()\n",
        "import numpy as np \n",
        "from tensorflow import keras\n",
        "int_sequence = np.arange(10)\n",
        "print(int_sequence)\n",
        "dummy_dataset = keras.utils.timeseries_dataset_from_array(\n",
        "    data=int_sequence[:-3],\n",
        "    targets=int_sequence[3:],\n",
        "    sequence_length=3,\n",
        "    batch_size=2,\n",
        ")\n",
        "for inputs, targets in dummy_dataset:\n",
        "  print(inputs)\n",
        "  for i in range(inputs.shape[0]):\n",
        "    print([int(x) for x in inputs[i]], int(targets[i]))\n"
      ]
    },
    {
      "cell_type": "code",
      "execution_count": 11,
      "metadata": {
        "id": "gcjSxu3gjiod"
      },
      "outputs": [],
      "source": [
        "# Listing 10.7 Instantiating datasets for training, validation, and testing\n",
        "\n",
        "# sampling_rate = 6\n",
        "  # Observations will be sampled at one data point per hour\n",
        "  # we will only keep one data point out of 6\n",
        "sampling_rate = 6\n",
        "# sequence_length = 120\n",
        "  # Observations will go back 5 days (120 hours).\n",
        "sequence_length = 120\n",
        "# delay = sampling_rate * (sequence_length + 24 - 1)\n",
        "  # The target for a sequence will be the temperature 24 hours after the end of the sequence.\n",
        "delay = sampling_rate * (sequence_length + 24 - 1)\n",
        "batch_size = 256\n",
        " \n",
        "train_dataset = keras.utils.timeseries_dataset_from_array(\n",
        "    # skip last entries from raw data\n",
        "    raw_data[:-delay],\n",
        "    # skip inital interies from raw data\n",
        "    targets=temperature[delay:],\n",
        "    sampling_rate=sampling_rate,\n",
        "    sequence_length=sequence_length,\n",
        "    shuffle=True,\n",
        "    batch_size=batch_size,\n",
        "    start_index=0,\n",
        "    end_index=num_train_samples)\n",
        " \n",
        "val_dataset = keras.utils.timeseries_dataset_from_array(\n",
        "    raw_data[:-delay],\n",
        "    targets=temperature[delay:],\n",
        "    sampling_rate=sampling_rate,\n",
        "    sequence_length=sequence_length,\n",
        "    shuffle=True,\n",
        "    batch_size=batch_size,\n",
        "    start_index=num_train_samples,\n",
        "    end_index=num_train_samples + num_val_samples)\n",
        " \n",
        "test_dataset = keras.utils.timeseries_dataset_from_array(\n",
        "    raw_data[:-delay],\n",
        "    targets=temperature[delay:],\n",
        "    sampling_rate=sampling_rate,\n",
        "    sequence_length=sequence_length,\n",
        "    shuffle=True,\n",
        "    batch_size=batch_size,\n",
        "    start_index=num_train_samples + num_val_samples)"
      ]
    },
    {
      "cell_type": "code",
      "execution_count": 12,
      "metadata": {
        "colab": {
          "base_uri": "https://localhost:8080/"
        },
        "id": "RogZlTyElx3v",
        "outputId": "8c2c628d-bd60-42e2-9fe4-662f6cfdc070"
      },
      "outputs": [
        {
          "name": "stdout",
          "output_type": "stream",
          "text": [
            "samples shape: (256, 120, 14)\n",
            "targets shape: (256,)\n"
          ]
        }
      ],
      "source": [
        "# Listing 10.8 Inspecting the output of one of our datasets\n",
        "for samples, targets in train_dataset:\n",
        "  print(\"samples shape:\", samples.shape)\n",
        "  print(\"targets shape:\", targets.shape)\n",
        "  break"
      ]
    },
    {
      "cell_type": "markdown",
      "metadata": {
        "id": "qDdwDn-VTslG"
      },
      "source": [
        "### 10.2.2 A common-sense, non-machine learning baseline"
      ]
    },
    {
      "cell_type": "markdown",
      "metadata": {
        "id": "LOJUue63nOz7"
      },
      "source": [
        "- common-sense baselines\n",
        "  -  predict that the temperature 24 hours from now will be equal to the temperature right now."
      ]
    },
    {
      "cell_type": "code",
      "execution_count": 14,
      "metadata": {
        "colab": {
          "base_uri": "https://localhost:8080/"
        },
        "id": "54fZ6v0Fnd09",
        "outputId": "29070baa-ffff-46f2-8ce6-0c5dfd698bf7"
      },
      "outputs": [
        {
          "name": "stdout",
          "output_type": "stream",
          "text": [
            "Validation MAE: 2.39\n",
            "Test MAE: 2.77\n"
          ]
        }
      ],
      "source": [
        "# Listing 10.9 Computing the common-sense baseline MAE\n",
        "def evaluate_naive_method(dataset):\n",
        "  total_abs_err = 0.\n",
        "  samples_seen = 0\n",
        "  for samples, targets in dataset:\n",
        "    preds = samples[:, -1, 1] * std[1] + mean[1]\n",
        "    total_abs_err += np.sum(np.abs(preds - targets))\n",
        "    samples_seen += samples.shape[0]\n",
        "    return total_abs_err / samples_seen\n",
        " \n",
        "print(f\"Validation MAE: {evaluate_naive_method(val_dataset):.2f}\") \n",
        "print(f\"Test MAE: {evaluate_naive_method(test_dataset):.2f}\")"
      ]
    },
    {
      "cell_type": "markdown",
      "metadata": {
        "id": "h-sQ6llBocXM"
      },
      "source": [
        "### 10.2.3 Let’s try a basic machine learning model"
      ]
    },
    {
      "cell_type": "code",
      "execution_count": 15,
      "metadata": {
        "colab": {
          "base_uri": "https://localhost:8080/"
        },
        "id": "ktAXfqRCobAi",
        "outputId": "ee902d53-ae2e-4740-b3aa-dee99a76952e"
      },
      "outputs": [
        {
          "name": "stdout",
          "output_type": "stream",
          "text": [
            "Epoch 1/10\n",
            "819/819 [==============================] - 64s 77ms/step - loss: 13.0911 - mae: 2.7838 - val_loss: 11.4789 - val_mae: 2.6791\n",
            "Epoch 2/10\n",
            "819/819 [==============================] - 65s 80ms/step - loss: 9.1854 - mae: 2.3833 - val_loss: 9.8738 - val_mae: 2.4806\n",
            "Epoch 3/10\n",
            "819/819 [==============================] - 62s 75ms/step - loss: 8.4127 - mae: 2.2840 - val_loss: 10.1153 - val_mae: 2.5043\n",
            "Epoch 4/10\n",
            "819/819 [==============================] - 62s 75ms/step - loss: 7.9577 - mae: 2.2232 - val_loss: 10.0054 - val_mae: 2.4930\n",
            "Epoch 5/10\n",
            "819/819 [==============================] - 64s 78ms/step - loss: 7.6015 - mae: 2.1767 - val_loss: 11.2146 - val_mae: 2.6676\n",
            "Epoch 6/10\n",
            "819/819 [==============================] - 64s 78ms/step - loss: 7.3228 - mae: 2.1392 - val_loss: 12.9430 - val_mae: 2.8720\n",
            "Epoch 7/10\n",
            "819/819 [==============================] - 64s 78ms/step - loss: 7.1291 - mae: 2.1125 - val_loss: 11.1505 - val_mae: 2.6577\n",
            "Epoch 8/10\n",
            "819/819 [==============================] - 67s 82ms/step - loss: 6.9708 - mae: 2.0890 - val_loss: 10.9939 - val_mae: 2.6194\n",
            "Epoch 9/10\n",
            "819/819 [==============================] - 68s 83ms/step - loss: 6.8448 - mae: 2.0697 - val_loss: 10.5881 - val_mae: 2.5779\n",
            "Epoch 10/10\n",
            "819/819 [==============================] - 65s 79ms/step - loss: 6.7057 - mae: 2.0502 - val_loss: 10.6643 - val_mae: 2.5925\n",
            "405/405 [==============================] - 20s 49ms/step - loss: 11.1705 - mae: 2.6172\n",
            "Test MAE: 2.62\n"
          ]
        }
      ],
      "source": [
        "# Listing 10.10 Training and evaluating a densely connected model\n",
        "from tensorflow import keras \n",
        "from tensorflow.keras import layers\n",
        " \n",
        "inputs = keras.Input(shape=(sequence_length, raw_data.shape[-1]))\n",
        "x = layers.Flatten()(inputs)\n",
        "x = layers.Dense(16, activation=\"relu\")(x)\n",
        "outputs = layers.Dense(1)(x)\n",
        "model = keras.Model(inputs, outputs)\n",
        " \n",
        "callbacks = [\n",
        "    keras.callbacks.ModelCheckpoint(\"jena_dense.keras\",save_best_only=True)\n",
        "]\n",
        "model.compile(optimizer=\"rmsprop\", loss=\"mse\", metrics=[\"mae\"])\n",
        "history = model.fit(\n",
        "    train_dataset,\n",
        "    epochs=10,\n",
        "    validation_data=val_dataset,\n",
        "    callbacks=callbacks)\n",
        " \n",
        "model = keras.models.load_model(\"jena_dense.keras\")\n",
        "print(f\"Test MAE: {model.evaluate(test_dataset)[1]:.2f}\") "
      ]
    },
    {
      "cell_type": "code",
      "execution_count": 16,
      "metadata": {
        "colab": {
          "base_uri": "https://localhost:8080/",
          "height": 281
        },
        "id": "LJGUePJWsQWW",
        "outputId": "bec4fa23-3e1d-4015-d4a6-f38aa46a5cff"
      },
      "outputs": [
        {
          "data": {
            "image/png": "[encoded data removed]",
            "text/plain": [
              "<Figure size 432x288 with 1 Axes>"
            ]
          },
          "metadata": {
            "needs_background": "light"
          },
          "output_type": "display_data"
        }
      ],
      "source": [
        "# Listing 10.11 Plotting results\n",
        "import matplotlib.pyplot as plt\n",
        "loss = history.history[\"mae\"]\n",
        "val_loss = history.history[\"val_mae\"]\n",
        "epochs = range(1, len(loss) + 1)\n",
        "plt.figure()\n",
        "plt.plot(epochs, loss, \"bo\", label=\"Training MAE\")\n",
        "plt.plot(epochs, val_loss, \"b\", label=\"Validation MAE\")\n",
        "plt.title(\"Training and validation MAE\")\n",
        "plt.legend()\n",
        "plt.show()"
      ]
    },
    {
      "cell_type": "markdown",
      "metadata": {
        "id": "IS7WxtGUsswJ"
      },
      "source": [
        "- It is not good than the simple baseline method"
      ]
    },
    {
      "cell_type": "markdown",
      "metadata": {
        "id": "nxr_Z_SNszSK"
      },
      "source": [
        "### 10.2.4 Let’s try a 1D convolutional model"
      ]
    },
    {
      "cell_type": "markdown",
      "metadata": {
        "id": "zSqOWsWuxEap"
      },
      "source": [
        "- A temporal convnet could reuse the same representations across different days, much like a spatial convnet can reuse the same representations across different locations in an image.\n",
        "- 1D convnets\n",
        "  - great fit for any sequence data that follows the translation invariance assumption\n",
        "-  pick an initial window length of 24, so that\n",
        "we look at 24 hours of data at a time (one cycle)"
      ]
    },
    {
      "cell_type": "code",
      "execution_count": 17,
      "metadata": {
        "colab": {
          "base_uri": "https://localhost:8080/"
        },
        "id": "j7YMqjQPxT-u",
        "outputId": "5c8c7696-17a7-44ad-de2e-ebb4126678a4"
      },
      "outputs": [
        {
          "name": "stdout",
          "output_type": "stream",
          "text": [
            "Epoch 1/10\n",
            "819/819 [==============================] - 100s 121ms/step - loss: 22.7003 - mae: 3.7092 - val_loss: 15.3657 - val_mae: 3.0913\n",
            "Epoch 2/10\n",
            "819/819 [==============================] - 100s 121ms/step - loss: 15.2714 - mae: 3.0870 - val_loss: 14.7151 - val_mae: 3.0497\n",
            "Epoch 3/10\n",
            "819/819 [==============================] - 101s 123ms/step - loss: 14.1115 - mae: 2.9647 - val_loss: 15.8357 - val_mae: 3.1570\n",
            "Epoch 4/10\n",
            "819/819 [==============================] - 110s 134ms/step - loss: 13.2043 - mae: 2.8704 - val_loss: 16.1043 - val_mae: 3.1852\n",
            "Epoch 5/10\n",
            "819/819 [==============================] - 106s 129ms/step - loss: 12.4053 - mae: 2.7848 - val_loss: 15.9923 - val_mae: 3.1553\n",
            "Epoch 6/10\n",
            "819/819 [==============================] - 105s 127ms/step - loss: 11.8741 - mae: 2.7253 - val_loss: 15.1538 - val_mae: 3.0656\n",
            "Epoch 7/10\n",
            "819/819 [==============================] - 112s 136ms/step - loss: 11.4072 - mae: 2.6745 - val_loss: 15.0280 - val_mae: 3.0573\n",
            "Epoch 8/10\n",
            "819/819 [==============================] - 120s 146ms/step - loss: 10.9872 - mae: 2.6259 - val_loss: 15.6418 - val_mae: 3.1166\n",
            "Epoch 9/10\n",
            "819/819 [==============================] - 127s 155ms/step - loss: 10.6626 - mae: 2.5881 - val_loss: 16.7168 - val_mae: 3.2385\n",
            "Epoch 10/10\n",
            "819/819 [==============================] - 104s 127ms/step - loss: 10.3360 - mae: 2.5483 - val_loss: 14.0001 - val_mae: 2.9419\n",
            "405/405 [==============================] - 25s 60ms/step - loss: 15.5941 - mae: 3.1158\n",
            "Test MAE: 3.12\n"
          ]
        }
      ],
      "source": [
        "# Temperature problem with 1D convents\n",
        "\n",
        "inputs = keras.Input(shape=(sequence_length, raw_data.shape[-1]))\n",
        "x = layers.Conv1D(8, 24, activation=\"relu\")(inputs)\n",
        "x = layers.MaxPooling1D(2)(x)\n",
        "x = layers.Conv1D(8, 12, activation=\"relu\")(x)\n",
        "x = layers.MaxPooling1D(2)(x)\n",
        "x = layers.Conv1D(8, 6, activation=\"relu\")(x)\n",
        "x = layers.GlobalAveragePooling1D()(x)\n",
        "outputs = layers.Dense(1)(x)\n",
        "model = keras.Model(inputs, outputs)\n",
        "\n",
        "callbacks = [\n",
        "             keras.callbacks.ModelCheckpoint(\"jena_conv.keras\",save_best_only=True)\n",
        "]\n",
        "\n",
        "model.compile(optimizer=\"rmsprop\", loss=\"mse\", metrics=[\"mae\"])\n",
        "\n",
        "history = model.fit(\n",
        "    train_dataset,\n",
        "    epochs=10,\n",
        "    validation_data=val_dataset,\n",
        "    callbacks=callbacks)\n",
        " \n",
        "model = keras.models.load_model(\"jena_conv.keras\")\n",
        "print(f\"Test MAE: {model.evaluate(test_dataset)[1]:.2f}\")"
      ]
    },
    {
      "cell_type": "code",
      "execution_count": 18,
      "metadata": {
        "colab": {
          "base_uri": "https://localhost:8080/",
          "height": 281
        },
        "id": "H3-YznYOyHW-",
        "outputId": "b7d01799-cb4d-48c3-c0a4-4df0e32e99da"
      },
      "outputs": [
        {
          "data": {
            "image/png": "[encoded data removed]",
            "text/plain": [
              "<Figure size 432x288 with 1 Axes>"
            ]
          },
          "metadata": {
            "needs_background": "light"
          },
          "output_type": "display_data"
        }
      ],
      "source": [
        "# Listing 10.11 Plotting results\n",
        "import matplotlib.pyplot as plt\n",
        "loss = history.history[\"mae\"]\n",
        "val_loss = history.history[\"val_mae\"]\n",
        "epochs = range(1, len(loss) + 1)\n",
        "plt.figure()\n",
        "plt.plot(epochs, loss, \"bo\", label=\"Training MAE\")\n",
        "plt.plot(epochs, val_loss, \"b\", label=\"Validation MAE\")\n",
        "plt.title(\"Training and validation MAE\")\n",
        "plt.legend()\n",
        "plt.show()"
      ]
    },
    {
      "cell_type": "markdown",
      "metadata": {
        "id": "navPaPs9yKbB"
      },
      "source": [
        "- even worse results\n",
        "- reasons\n",
        "  - First, weather data doesn’t quite respect the translation invariance assumption. While the data does\n",
        "feature daily cycles, data from a morning follows different properties than data from an evening or from the middle of the night. Weather data is only translation-invariant for a very specific timescale.\n",
        "  - Second, order in our data matters—a lot. The recent past is far more informative for predicting the next day’s temperature than data from five days ago. A 1D convnet is not able to leverage this fact. In particular, our max pooling and global average pooling layers are largely destroying order information.\n"
      ]
    },
    {
      "cell_type": "markdown",
      "metadata": {
        "id": "m065buOYxESr"
      },
      "source": [
        "### 10.2.5 A first recurrent baseline"
      ]
    },
    {
      "cell_type": "markdown",
      "metadata": {
        "id": "vqYKH2_cy2qS"
      },
      "source": [
        "- The densely connected approach first flattened the timeseries, which removed the notion of time from the input data.\n",
        "- The convolutional approach treated every segment of the data in the same way, even applying pooling, which destroyed order information"
      ]
    },
    {
      "cell_type": "code",
      "execution_count": 19,
      "metadata": {
        "colab": {
          "base_uri": "https://localhost:8080/"
        },
        "id": "5caotNI3zjKf",
        "outputId": "bbb00471-bc80-44bd-c007-a2ab6c519224"
      },
      "outputs": [
        {
          "name": "stdout",
          "output_type": "stream",
          "text": [
            "Epoch 1/10\n",
            "819/819 [==============================] - 125s 149ms/step - loss: 46.4668 - mae: 4.9417 - val_loss: 13.0507 - val_mae: 2.7360\n",
            "Epoch 2/10\n",
            "819/819 [==============================] - 120s 146ms/step - loss: 10.9823 - mae: 2.5648 - val_loss: 9.5309 - val_mae: 2.3986\n",
            "Epoch 3/10\n",
            "819/819 [==============================] - 120s 147ms/step - loss: 9.6552 - mae: 2.4160 - val_loss: 9.3241 - val_mae: 2.3629\n",
            "Epoch 4/10\n",
            "819/819 [==============================] - 120s 147ms/step - loss: 9.1650 - mae: 2.3525 - val_loss: 9.5549 - val_mae: 2.3939\n",
            "Epoch 5/10\n",
            "819/819 [==============================] - 120s 146ms/step - loss: 8.8289 - mae: 2.3062 - val_loss: 9.5379 - val_mae: 2.4026\n",
            "Epoch 6/10\n",
            "819/819 [==============================] - 119s 145ms/step - loss: 8.6090 - mae: 2.2768 - val_loss: 9.6574 - val_mae: 2.4107\n",
            "Epoch 7/10\n",
            "819/819 [==============================] - 117s 143ms/step - loss: 8.3927 - mae: 2.2493 - val_loss: 9.6542 - val_mae: 2.4156\n",
            "Epoch 8/10\n",
            "819/819 [==============================] - 126s 154ms/step - loss: 8.2330 - mae: 2.2277 - val_loss: 9.8264 - val_mae: 2.4373\n",
            "Epoch 9/10\n",
            "819/819 [==============================] - 121s 147ms/step - loss: 8.0850 - mae: 2.2075 - val_loss: 9.8453 - val_mae: 2.4422\n",
            "Epoch 10/10\n",
            "819/819 [==============================] - 121s 147ms/step - loss: 7.9265 - mae: 2.1873 - val_loss: 10.0598 - val_mae: 2.4726\n",
            "405/405 [==============================] - 28s 67ms/step - loss: 10.8774 - mae: 2.5908\n",
            "Test MAE: 2.59\n"
          ]
        }
      ],
      "source": [
        "# long short term memory\n",
        "# Listing 10.12 A simple LSTM-based model\n",
        "\n",
        "inputs = keras.Input(shape=(sequence_length, raw_data.shape[-1]))\n",
        "x = layers.LSTM(16)(inputs)\n",
        "outputs = layers.Dense(1)(x)\n",
        "model = keras.Model(inputs, outputs)\n",
        " \n",
        "callbacks = [\n",
        "             keras.callbacks.ModelCheckpoint(\"jena_lstm.keras\",save_best_only=True)\n",
        "]\n",
        "\n",
        "model.compile(optimizer=\"rmsprop\", loss=\"mse\", metrics=[\"mae\"])\n",
        "\n",
        "history = model.fit(\n",
        "    train_dataset,\n",
        "    epochs=10,\n",
        "    validation_data=val_dataset,\n",
        "    callbacks=callbacks)\n",
        "\n",
        "model = keras.models.load_model(\"jena_lstm.keras\") \n",
        "print(f\"Test MAE: {model.evaluate(test_dataset)[1]:.2f}\")"
      ]
    },
    {
      "cell_type": "code",
      "execution_count": 20,
      "metadata": {
        "colab": {
          "base_uri": "https://localhost:8080/",
          "height": 281
        },
        "id": "V-qzqQsfsr2o",
        "outputId": "cba2fafe-97d7-4bd2-b616-fbb83d0b45d1"
      },
      "outputs": [
        {
          "data": {
            "image/png": "[encoded data removed]",
            "text/plain": [
              "<Figure size 432x288 with 1 Axes>"
            ]
          },
          "metadata": {
            "needs_background": "light"
          },
          "output_type": "display_data"
        }
      ],
      "source": [
        "# Listing 10.11 Plotting results\n",
        "import matplotlib.pyplot as plt\n",
        "loss = history.history[\"mae\"]\n",
        "val_loss = history.history[\"val_mae\"]\n",
        "epochs = range(1, len(loss) + 1)\n",
        "plt.figure()\n",
        "plt.plot(epochs, loss, \"bo\", label=\"Training MAE\")\n",
        "plt.plot(epochs, val_loss, \"b\", label=\"Validation MAE\")\n",
        "plt.title(\"Training and validation MAE\")\n",
        "plt.legend()\n",
        "plt.show()"
      ]
    },
    {
      "cell_type": "markdown",
      "metadata": {
        "id": "YGmooI3t1-Dp"
      },
      "source": [
        "- LSTM based model performed somewhat batter"
      ]
    },
    {
      "cell_type": "markdown",
      "metadata": {
        "id": "wlCZeg_6102s"
      },
      "source": [
        "## 10.3 Understanding recurrent neural networks"
      ]
    },
    {
      "cell_type": "markdown",
      "metadata": {
        "id": "0G8LPNJi19Gy"
      },
      "source": [
        "- Neural networks in-general are memory less\n",
        "  - have to show the entire sequence to the network at once\n",
        "  - feedforward networks\n",
        "- recurrent neural network (RNN)\n",
        "  - processes sequences by iterating through the sequence elements and maintaining a state that contains information relative to what it has seen so far. In effect, an RNN is a type of neural network that has an internal loop\n",
        "  - state of the RNN is reset between processing two different, independent sequences\n",
        "  - data point is no longer processed in a single step rather, the network internally loops over sequence elements\n"
      ]
    },
    {
      "cell_type": "code",
      "execution_count": 13,
      "metadata": {
        "colab": {
          "base_uri": "https://localhost:8080/",
          "height": 35
        },
        "id": "F-ucS3QbO_YZ",
        "outputId": "ed97a007-3f28-43d6-bda0-141215a4d346"
      },
      "outputs": [
        {
          "data": {
            "application/vnd.google.colaboratory.intrinsic+json": {
              "type": "string"
            },
            "text/plain": [
              "'\\nstate_t = 0\\nfor input_t in input_sequence:\\n  output_t = f(input_t, state_t)\\n  state_t = output_t \\n'"
            ]
          },
          "execution_count": 13,
          "metadata": {},
          "output_type": "execute_result"
        }
      ],
      "source": [
        "# Listing 10.13 Pseudocode RNN\n",
        "'''\n",
        "state_t = 0\n",
        "for input_t in input_sequence:\n",
        "  output_t = f(input_t, state_t)\n",
        "  state_t = output_t \n",
        "'''"
      ]
    },
    {
      "cell_type": "code",
      "execution_count": 22,
      "metadata": {
        "colab": {
          "base_uri": "https://localhost:8080/",
          "height": 53
        },
        "id": "dmK6WKy8PQL3",
        "outputId": "306d067c-81c0-4014-fd37-1201560e37e1"
      },
      "outputs": [
        {
          "data": {
            "application/vnd.google.colaboratory.intrinsic+json": {
              "type": "string"
            },
            "text/plain": [
              "'\\nstate_t = 0\\nfor input_t in input_sequence:\\n  output_t = activation(dot(W, input_t) + dot(U, state_t) + b)\\n  state_t = output_t\\n'"
            ]
          },
          "execution_count": 22,
          "metadata": {},
          "output_type": "execute_result"
        }
      ],
      "source": [
        "# Listing 10.14 More-detailed pseudocode for the RNN\n",
        "'''\n",
        "state_t = 0\n",
        "for input_t in input_sequence:\n",
        "  output_t = activation(dot(W, input_t) + dot(U, state_t) + b)\n",
        "  state_t = output_t\n",
        "'''"
      ]
    },
    {
      "cell_type": "code",
      "execution_count": 21,
      "metadata": {
        "id": "xft6nAhWPegC"
      },
      "outputs": [],
      "source": [
        "# Listing 10.15 NumPy implementation of a simple RNN\n",
        "import numpy as np\n",
        "timesteps = 100\n",
        "input_features = 32\n",
        "output_features = 64\n",
        "\n",
        "# numpy array of shape (100.32)\n",
        "inputs = np.random.random((timesteps, input_features))\n",
        "# numpy array of shape (64,)\n",
        "state_t = np.zeros((output_features,))\n",
        "# numpy array of shape (64,32)\n",
        "W = np.random.random((output_features, input_features))\n",
        "# numpy array of shape (64,32)\n",
        "U = np.random.random((output_features, output_features))\n",
        "# numpy array of shape (64,)\n",
        "b = np.random.random((output_features,))\n",
        "# store output of every \n",
        "successive_outputs = []\n",
        "for input_t in inputs:\n",
        "  output_t = np.tanh(np.dot(W, input_t) + np.dot(U, state_t) + b)\n",
        "  successive_outputs.append(output_t)\n",
        "  state_t = output_t\n",
        "final_output_sequence = np.stack(successive_outputs, axis=0) "
      ]
    },
    {
      "cell_type": "markdown",
      "metadata": {
        "id": "5zB0B6FnRCiI"
      },
      "source": [
        "- A simple RNN, unrolled over time\n",
        "\n",
        "![A simple RNN, unrolled over time](./snaps/10.1.PNG)"
      ]
    },
    {
      "cell_type": "markdown",
      "metadata": {
        "id": "6meYY3GkRX2i"
      },
      "source": [
        "### 10.3.1 A recurrent layer in Keras"
      ]
    },
    {
      "cell_type": "markdown",
      "metadata": {
        "id": "9PJWc4C-SGxN"
      },
      "source": [
        "- SimpleRNN processes batches of sequences, like all other Keras layers, not a single sequence"
      ]
    },
    {
      "cell_type": "code",
      "execution_count": 23,
      "metadata": {
        "id": "DfkU7-rbSLQg"
      },
      "outputs": [],
      "source": [
        "# Listing 10.16 An RNN layer that can process sequences of any length\n",
        "num_features = 14\n",
        "inputs = keras.Input(shape=(None, num_features))\n",
        "outputs = layers.SimpleRNN(16)(inputs)"
      ]
    },
    {
      "cell_type": "markdown",
      "metadata": {
        "id": "1nMqEhBx1xRu"
      },
      "source": [
        "- All recurrent layers in Keras can be run in two different modes\n",
        "  - they can return either full sequences of successive outputs for each timestep\n",
        "  - or return only the last output for each input sequence"
      ]
    },
    {
      "cell_type": "code",
      "execution_count": 24,
      "metadata": {
        "colab": {
          "base_uri": "https://localhost:8080/"
        },
        "id": "6H4u9U553NSc",
        "outputId": "572d919f-cfef-4d36-d633-44fa2f9d8abe"
      },
      "outputs": [
        {
          "name": "stdout",
          "output_type": "stream",
          "text": [
            "(None, 16)\n"
          ]
        }
      ],
      "source": [
        "# Listing 10.17 An RNN layer that returns only its last output step\n",
        "num_features = 14\n",
        "steps = 120\n",
        "inputs = keras.Input(shape=(steps, num_features))\n",
        "outputs = layers.SimpleRNN(16, return_sequences=False)(inputs)\n",
        "print(outputs.shape)"
      ]
    },
    {
      "cell_type": "code",
      "execution_count": 25,
      "metadata": {
        "colab": {
          "base_uri": "https://localhost:8080/"
        },
        "id": "Opa2VAwl3VND",
        "outputId": "94528aa8-0dac-413f-ac5d-51fae7cd0220"
      },
      "outputs": [
        {
          "name": "stdout",
          "output_type": "stream",
          "text": [
            "(None, 120, 16)\n"
          ]
        }
      ],
      "source": [
        "# Listing 10.18 An RNN layer that returns its full output sequence\n",
        "num_features = 14\n",
        "steps = 120\n",
        "inputs = keras.Input(shape=(steps, num_features))\n",
        "outputs = layers.SimpleRNN(16, return_sequences=True)(inputs)\n",
        "print(outputs.shape)"
      ]
    },
    {
      "cell_type": "code",
      "execution_count": 26,
      "metadata": {
        "id": "XJro8DLk36Nm"
      },
      "outputs": [],
      "source": [
        "# Listing 10.19 Stacking RNN layers\n",
        "inputs = keras.Input(shape=(steps, num_features))\n",
        "x = layers.SimpleRNN(16, return_sequences=True)(inputs)\n",
        "x = layers.SimpleRNN(16, return_sequences=True)(x)\n",
        "outputs = layers.SimpleRNN(16)(x)"
      ]
    },
    {
      "cell_type": "markdown",
      "metadata": {
        "id": "n7uCEd8C4ScY"
      },
      "source": [
        "- SimpleRNN has a major issue: \n",
        "  - although it should theoretically be able to retain at time t information about inputs seen many timesteps before such long-term dependencies prove impossible to learn in practice.\n",
        "    - This is due to the vanishing gradient problem, an effect that is similar to what is observed with non recurrent networks (feedforward networks) that are many layers deep: as you keep adding layers to a network, the network eventually becomes untrainable"
      ]
    },
    {
      "cell_type": "markdown",
      "metadata": {
        "id": "K_gaa5Mf4oTK"
      },
      "source": [
        "- recurrent layers\n",
        "  - simple RNN\n",
        "  - LSTM\n",
        "  - GRU"
      ]
    },
    {
      "cell_type": "markdown",
      "metadata": {
        "id": "TCAQfaTE8PZG"
      },
      "source": [
        "- Long Short-Term Memory (LSTM)\n",
        "  - adds a way to carry information across many timesteps\n",
        "  - it saves information for later, thus preventing older signals from gradually vanishing during processing\n",
        "  - additional data flow that carries information across timesteps.\n",
        "  - it will be combined with the input connection and the recurrent connection\n",
        "  - it will affect the state being sent to the next timestep\n",
        "  - carry dataflow is a way to modulate the next output and the next state"
      ]
    },
    {
      "cell_type": "code",
      "execution_count": 27,
      "metadata": {
        "colab": {
          "base_uri": "https://localhost:8080/",
          "height": 70
        },
        "id": "sXoVSXNE89Qg",
        "outputId": "3a5db09f-ef35-491e-e562-a5356a2ac565"
      },
      "outputs": [
        {
          "data": {
            "application/vnd.google.colaboratory.intrinsic+json": {
              "type": "string"
            },
            "text/plain": [
              "'\\noutput_t = activation(dot(state_t, Uo) + dot(input_t, Wo) + dot(c_t, Vo) + bo)\\ni_t = activation(dot(state_t, Ui) + dot(input_t, Wi) + bi)\\nf_t = activation(dot(state_t, Uf) + dot(input_t, Wf) + bf)\\nk_t = activation(dot(state_t, Uk) + dot(input_t, Wk) + bk)\\nc_t+1 = i_t * k_t + c_t * f_t\\n'"
            ]
          },
          "execution_count": 27,
          "metadata": {},
          "output_type": "execute_result"
        }
      ],
      "source": [
        "# Listing 10.20 Pseudocode details of the LSTM architecture\n",
        "'''\n",
        "output_t = activation(dot(state_t, Uo) + dot(input_t, Wo) + dot(c_t, Vo) + bo)\n",
        "i_t = activation(dot(state_t, Ui) + dot(input_t, Wi) + bi)\n",
        "f_t = activation(dot(state_t, Uf) + dot(input_t, Wf) + bf)\n",
        "k_t = activation(dot(state_t, Uk) + dot(input_t, Wk) + bk)\n",
        "c_t+1 = i_t * k_t + c_t * f_t\n",
        "'''"
      ]
    },
    {
      "cell_type": "markdown",
      "metadata": {
        "id": "azD2mA2z9Osl"
      },
      "source": [
        "![Anatomy of an LSTM](./snaps/10.2.PNG)\n",
        "\n",
        "- allow past information to be reinjected at a later time, thus fighting the vanishing-gradient problem"
      ]
    },
    {
      "cell_type": "markdown",
      "metadata": {
        "id": "l1h1qxlr921E"
      },
      "source": [
        "## 10.4 Advanced use of recurrent neural networks"
      ]
    },
    {
      "cell_type": "markdown",
      "metadata": {
        "id": "mxONgGV9B5bW"
      },
      "source": [
        "- Recurrent dropout\n",
        "  - This is a variant of dropout, used to fight overfitting in recurrent layers\n",
        "- Stacking recurrent layers\n",
        "  - This increases the representational power of the model (at the cost of higher computational loads)\n",
        "- Bidirectional recurrent layers\n",
        "  - These present the same information to a recurrent network in different ways, increasing accuracy and mitigating forgetting issues.\n"
      ]
    },
    {
      "cell_type": "markdown",
      "metadata": {
        "id": "tj21FXsPCI4Q"
      },
      "source": [
        "### 10.4.1 Using recurrent dropout to fight overfitting"
      ]
    },
    {
      "cell_type": "markdown",
      "metadata": {
        "id": "81a2yVNGDiIN"
      },
      "source": [
        "- applying dropout before a recurrent layer hinders learning rather than helping with regularization\n",
        "- the same dropout mask should be applied at every timestep,"
      ]
    },
    {
      "cell_type": "code",
      "execution_count": 28,
      "metadata": {
        "colab": {
          "base_uri": "https://localhost:8080/"
        },
        "id": "bD6BaXXoEUUh",
        "outputId": "dfb4c22b-9fbc-45f8-e30d-8404eeb5b70d"
      },
      "outputs": [
        {
          "name": "stdout",
          "output_type": "stream",
          "text": [
            "Epoch 1/50\n",
            "819/819 [==============================] - 218s 263ms/step - loss: 27.0399 - mae: 3.8319 - val_loss: 9.8121 - val_mae: 2.4090\n",
            "Epoch 2/50\n",
            "819/819 [==============================] - 217s 265ms/step - loss: 14.7682 - mae: 2.9846 - val_loss: 9.4381 - val_mae: 2.3707\n",
            "Epoch 3/50\n",
            "819/819 [==============================] - 219s 267ms/step - loss: 14.0446 - mae: 2.9051 - val_loss: 9.3358 - val_mae: 2.3602\n",
            "Epoch 4/50\n",
            "819/819 [==============================] - 216s 263ms/step - loss: 13.4993 - mae: 2.8446 - val_loss: 9.5359 - val_mae: 2.3806\n",
            "Epoch 5/50\n",
            "819/819 [==============================] - 220s 268ms/step - loss: 13.0274 - mae: 2.7942 - val_loss: 9.3369 - val_mae: 2.3562\n",
            "Epoch 6/50\n",
            "819/819 [==============================] - 224s 274ms/step - loss: 12.6240 - mae: 2.7519 - val_loss: 9.1643 - val_mae: 2.3273\n",
            "Epoch 7/50\n",
            "819/819 [==============================] - 227s 277ms/step - loss: 12.3044 - mae: 2.7139 - val_loss: 9.5815 - val_mae: 2.4018\n",
            "Epoch 8/50\n",
            "819/819 [==============================] - 222s 271ms/step - loss: 12.0043 - mae: 2.6802 - val_loss: 9.3422 - val_mae: 2.3536\n",
            "Epoch 9/50\n",
            "819/819 [==============================] - 218s 266ms/step - loss: 11.7841 - mae: 2.6551 - val_loss: 9.3484 - val_mae: 2.3678\n",
            "Epoch 10/50\n",
            "819/819 [==============================] - 220s 268ms/step - loss: 11.5980 - mae: 2.6339 - val_loss: 9.2241 - val_mae: 2.3495\n",
            "Epoch 11/50\n",
            "819/819 [==============================] - 218s 266ms/step - loss: 11.3728 - mae: 2.6084 - val_loss: 9.2944 - val_mae: 2.3637\n",
            "Epoch 12/50\n",
            "819/819 [==============================] - 217s 265ms/step - loss: 11.2026 - mae: 2.5872 - val_loss: 9.2816 - val_mae: 2.3694\n",
            "Epoch 13/50\n",
            "819/819 [==============================] - 213s 260ms/step - loss: 11.0389 - mae: 2.5678 - val_loss: 9.3748 - val_mae: 2.3723\n",
            "Epoch 14/50\n",
            "819/819 [==============================] - 218s 266ms/step - loss: 10.8929 - mae: 2.5525 - val_loss: 9.2574 - val_mae: 2.3590\n",
            "Epoch 15/50\n",
            "819/819 [==============================] - 218s 266ms/step - loss: 10.7651 - mae: 2.5379 - val_loss: 9.4390 - val_mae: 2.3807\n",
            "Epoch 16/50\n",
            "819/819 [==============================] - 213s 259ms/step - loss: 10.6168 - mae: 2.5230 - val_loss: 9.4944 - val_mae: 2.3960\n",
            "Epoch 17/50\n",
            "819/819 [==============================] - 212s 259ms/step - loss: 10.5084 - mae: 2.5098 - val_loss: 9.5277 - val_mae: 2.3936\n",
            "Epoch 18/50\n",
            "819/819 [==============================] - 212s 259ms/step - loss: 10.3712 - mae: 2.4977 - val_loss: 9.6301 - val_mae: 2.4098\n",
            "Epoch 19/50\n",
            "819/819 [==============================] - 214s 261ms/step - loss: 10.3131 - mae: 2.4882 - val_loss: 9.7548 - val_mae: 2.4227\n",
            "Epoch 20/50\n",
            "819/819 [==============================] - 225s 275ms/step - loss: 10.2271 - mae: 2.4787 - val_loss: 9.6742 - val_mae: 2.4175\n",
            "Epoch 21/50\n",
            "819/819 [==============================] - 227s 276ms/step - loss: 10.0947 - mae: 2.4623 - val_loss: 9.5532 - val_mae: 2.4010\n",
            "Epoch 22/50\n",
            "819/819 [==============================] - 215s 262ms/step - loss: 10.0288 - mae: 2.4557 - val_loss: 9.8011 - val_mae: 2.4262\n",
            "Epoch 23/50\n",
            "819/819 [==============================] - 216s 264ms/step - loss: 9.9347 - mae: 2.4446 - val_loss: 10.0324 - val_mae: 2.4593\n",
            "Epoch 24/50\n",
            "819/819 [==============================] - 214s 260ms/step - loss: 9.8438 - mae: 2.4312 - val_loss: 10.0327 - val_mae: 2.4661\n",
            "Epoch 25/50\n",
            "819/819 [==============================] - 214s 261ms/step - loss: 9.8103 - mae: 2.4301 - val_loss: 9.9654 - val_mae: 2.4640\n",
            "Epoch 26/50\n",
            "819/819 [==============================] - 210s 256ms/step - loss: 9.6578 - mae: 2.4102 - val_loss: 9.9821 - val_mae: 2.4540\n",
            "Epoch 27/50\n",
            "819/819 [==============================] - 213s 259ms/step - loss: 9.6347 - mae: 2.4074 - val_loss: 10.1776 - val_mae: 2.4928\n",
            "Epoch 28/50\n",
            "819/819 [==============================] - 221s 269ms/step - loss: 9.6660 - mae: 2.4095 - val_loss: 10.0278 - val_mae: 2.4656\n",
            "Epoch 29/50\n",
            "819/819 [==============================] - 287s 350ms/step - loss: 9.5428 - mae: 2.3970 - val_loss: 10.1733 - val_mae: 2.4960\n",
            "Epoch 30/50\n",
            "819/819 [==============================] - 255s 311ms/step - loss: 9.4774 - mae: 2.3878 - val_loss: 10.6341 - val_mae: 2.5350\n",
            "Epoch 31/50\n",
            "819/819 [==============================] - 212s 258ms/step - loss: 9.4338 - mae: 2.3821 - val_loss: 10.2530 - val_mae: 2.4913\n",
            "Epoch 32/50\n",
            "819/819 [==============================] - 214s 261ms/step - loss: 9.3401 - mae: 2.3730 - val_loss: 10.2724 - val_mae: 2.5029\n",
            "Epoch 33/50\n",
            "819/819 [==============================] - 212s 258ms/step - loss: 9.3094 - mae: 2.3665 - val_loss: 10.4120 - val_mae: 2.5141\n",
            "Epoch 34/50\n",
            "819/819 [==============================] - 214s 260ms/step - loss: 9.2685 - mae: 2.3597 - val_loss: 10.5056 - val_mae: 2.5178\n",
            "Epoch 35/50\n",
            "819/819 [==============================] - 214s 261ms/step - loss: 9.2355 - mae: 2.3596 - val_loss: 10.7954 - val_mae: 2.5590\n",
            "Epoch 36/50\n",
            "819/819 [==============================] - 212s 258ms/step - loss: 9.1753 - mae: 2.3491 - val_loss: 10.5983 - val_mae: 2.5350\n",
            "Epoch 37/50\n",
            "819/819 [==============================] - 214s 261ms/step - loss: 9.0833 - mae: 2.3360 - val_loss: 10.4761 - val_mae: 2.5116\n",
            "Epoch 38/50\n",
            "819/819 [==============================] - 217s 264ms/step - loss: 9.1290 - mae: 2.3411 - val_loss: 10.8607 - val_mae: 2.5731\n",
            "Epoch 39/50\n",
            "819/819 [==============================] - 212s 259ms/step - loss: 9.0369 - mae: 2.3329 - val_loss: 10.8481 - val_mae: 2.5554\n",
            "Epoch 40/50\n",
            "819/819 [==============================] - 219s 267ms/step - loss: 8.9755 - mae: 2.3253 - val_loss: 10.8911 - val_mae: 2.5735\n",
            "Epoch 41/50\n",
            "819/819 [==============================] - 214s 261ms/step - loss: 8.9887 - mae: 2.3224 - val_loss: 10.7717 - val_mae: 2.5645\n",
            "Epoch 42/50\n",
            "819/819 [==============================] - 214s 260ms/step - loss: 8.8714 - mae: 2.3093 - val_loss: 10.7734 - val_mae: 2.5483\n",
            "Epoch 43/50\n",
            "819/819 [==============================] - 217s 264ms/step - loss: 8.8107 - mae: 2.3037 - val_loss: 10.9615 - val_mae: 2.5751\n",
            "Epoch 44/50\n",
            "819/819 [==============================] - 214s 261ms/step - loss: 8.8022 - mae: 2.2990 - val_loss: 11.4387 - val_mae: 2.6282\n",
            "Epoch 45/50\n",
            "819/819 [==============================] - 192s 234ms/step - loss: 8.7685 - mae: 2.2976 - val_loss: 10.8915 - val_mae: 2.5695\n",
            "Epoch 46/50\n",
            "819/819 [==============================] - 191s 233ms/step - loss: 8.7976 - mae: 2.3005 - val_loss: 11.0716 - val_mae: 2.5919\n",
            "Epoch 47/50\n",
            "819/819 [==============================] - 192s 234ms/step - loss: 8.7575 - mae: 2.2924 - val_loss: 10.9717 - val_mae: 2.5855\n",
            "Epoch 48/50\n",
            "819/819 [==============================] - 192s 234ms/step - loss: 8.6834 - mae: 2.2843 - val_loss: 11.3743 - val_mae: 2.6198\n",
            "Epoch 49/50\n",
            "819/819 [==============================] - 192s 234ms/step - loss: 8.6720 - mae: 2.2825 - val_loss: 10.8653 - val_mae: 2.5667\n",
            "Epoch 50/50\n",
            "819/819 [==============================] - 195s 237ms/step - loss: 8.6833 - mae: 2.2843 - val_loss: 11.6193 - val_mae: 2.6499\n"
          ]
        }
      ],
      "source": [
        "# Listing 10.22 Training and evaluating a dropout-regularized LSTM\n",
        "from tensorflow import keras \n",
        "from tensorflow.keras import layers\n",
        "sequence_length = 120\n",
        "inputs = keras.Input(shape=(sequence_length, raw_data.shape[-1]))\n",
        "x = layers.LSTM(32, recurrent_dropout=0.25)(inputs)\n",
        "x = layers.Dropout(0.5)(x)\n",
        "outputs = layers.Dense(1)(x)\n",
        "model = keras.Model(inputs, outputs)\n",
        " \n",
        "callbacks = [\n",
        "    keras.callbacks.ModelCheckpoint(\"jena_lstm_dropout.keras\",save_best_only=True)\n",
        "]\n",
        "model.compile(optimizer=\"rmsprop\", loss=\"mse\", metrics=[\"mae\"])\n",
        "history = model.fit(train_dataset,\n",
        " epochs=50,\n",
        " validation_data=val_dataset,\n",
        " callbacks=callbacks) "
      ]
    },
    {
      "cell_type": "code",
      "execution_count": 29,
      "metadata": {
        "colab": {
          "base_uri": "https://localhost:8080/"
        },
        "id": "HuwRUmBRvRW_",
        "outputId": "8b494035-df4e-484e-b942-5e04fe60f7d7"
      },
      "outputs": [
        {
          "name": "stdout",
          "output_type": "stream",
          "text": [
            "405/405 [==============================] - 30s 73ms/step - loss: 10.8840 - mae: 2.6096\n",
            "Test MAE: 2.61\n"
          ]
        }
      ],
      "source": [
        "model = keras.models.load_model(\"jena_lstm_dropout.keras\")\n",
        "print(f\"Test MAE: {model.evaluate(test_dataset)[1]:.2f}\")"
      ]
    },
    {
      "cell_type": "code",
      "execution_count": 30,
      "metadata": {
        "colab": {
          "base_uri": "https://localhost:8080/",
          "height": 281
        },
        "id": "yjXlT6m7FYe8",
        "outputId": "393028a4-1906-4b1e-feb5-d92f7be6f765"
      },
      "outputs": [
        {
          "data": {
            "image/png": "[encoded data removed]",
            "text/plain": [
              "<Figure size 432x288 with 1 Axes>"
            ]
          },
          "metadata": {
            "needs_background": "light"
          },
          "output_type": "display_data"
        }
      ],
      "source": [
        "# Listing 10.11 Plotting results\n",
        "import matplotlib.pyplot as plt\n",
        "loss = history.history[\"mae\"]\n",
        "val_loss = history.history[\"val_mae\"]\n",
        "epochs = range(1, len(loss) + 1)\n",
        "plt.figure()\n",
        "plt.plot(epochs, loss, \"bo\", label=\"Training MAE\")\n",
        "plt.plot(epochs, val_loss, \"b\", label=\"Validation MAE\")\n",
        "plt.title(\"Training and validation MAE\")\n",
        "plt.legend()\n",
        "plt.show()"
      ]
    },
    {
      "cell_type": "markdown",
      "metadata": {
        "id": "QPismA2sFdJx"
      },
      "source": [
        "#### RNN runtime performance"
      ]
    },
    {
      "cell_type": "code",
      "execution_count": 31,
      "metadata": {
        "colab": {
          "base_uri": "https://localhost:8080/",
          "height": 35
        },
        "id": "3Qw62NKZGNCY",
        "outputId": "ac157883-5f68-45af-dc8e-c9278755850a"
      },
      "outputs": [
        {
          "data": {
            "application/vnd.google.colaboratory.intrinsic+json": {
              "type": "string"
            },
            "text/plain": [
              "'\\ninputs = keras.Input(shape=(sequence_length, num_features))\\nx = layers.LSTM(32, recurrent_dropout=0.2, unroll=True)(inputs)\\n'"
            ]
          },
          "execution_count": 31,
          "metadata": {},
          "output_type": "execute_result"
        }
      ],
      "source": [
        "# Use RNN with out loop\n",
        "'''\n",
        "inputs = keras.Input(shape=(sequence_length, num_features))\n",
        "x = layers.LSTM(32, recurrent_dropout=0.2, unroll=True)(inputs)\n",
        "'''"
      ]
    },
    {
      "cell_type": "markdown",
      "metadata": {
        "id": "pdyv4vI3IeHc"
      },
      "source": [
        "### 10.4.2 Stacking recurrent layers"
      ]
    },
    {
      "cell_type": "markdown",
      "metadata": {
        "id": "8nLKr7i3InSL"
      },
      "source": [
        "- it’s generally a good idea to increase the capacity of your model until overfitting becomes the primary obstacle"
      ]
    },
    {
      "cell_type": "code",
      "execution_count": 33,
      "metadata": {
        "colab": {
          "base_uri": "https://localhost:8080/"
        },
        "id": "4kS_DEPaMtCq",
        "outputId": "051ebef1-04b2-48b5-f28d-10327e8f10b9"
      },
      "outputs": [
        {
          "name": "stdout",
          "output_type": "stream",
          "text": [
            "Epoch 1/10\n",
            "819/819 [==============================] - 335s 403ms/step - loss: 26.4530 - mae: 3.7845 - val_loss: 9.3692 - val_mae: 2.3668\n",
            "Epoch 2/10\n",
            "819/819 [==============================] - 331s 404ms/step - loss: 14.0618 - mae: 2.9067 - val_loss: 9.4144 - val_mae: 2.3879\n",
            "Epoch 3/10\n",
            "819/819 [==============================] - 328s 400ms/step - loss: 13.2463 - mae: 2.8195 - val_loss: 8.8697 - val_mae: 2.3196\n",
            "Epoch 4/10\n",
            "819/819 [==============================] - 327s 399ms/step - loss: 12.6914 - mae: 2.7640 - val_loss: 9.2331 - val_mae: 2.3590\n",
            "Epoch 5/10\n",
            "819/819 [==============================] - 327s 398ms/step - loss: 12.2541 - mae: 2.7127 - val_loss: 8.7796 - val_mae: 2.3054\n",
            "Epoch 6/10\n",
            "819/819 [==============================] - 326s 398ms/step - loss: 11.8621 - mae: 2.6698 - val_loss: 9.4274 - val_mae: 2.3998\n",
            "Epoch 7/10\n",
            "819/819 [==============================] - 327s 399ms/step - loss: 11.4462 - mae: 2.6253 - val_loss: 9.7200 - val_mae: 2.4456\n",
            "Epoch 8/10\n",
            "819/819 [==============================] - 327s 399ms/step - loss: 11.1620 - mae: 2.5931 - val_loss: 9.7608 - val_mae: 2.4332\n",
            "Epoch 9/10\n",
            "819/819 [==============================] - 323s 394ms/step - loss: 10.8831 - mae: 2.5610 - val_loss: 9.4635 - val_mae: 2.3978\n",
            "Epoch 10/10\n",
            "819/819 [==============================] - 328s 400ms/step - loss: 10.6353 - mae: 2.5356 - val_loss: 10.0173 - val_mae: 2.4559\n",
            "405/405 [==============================] - 39s 94ms/step - loss: 9.5222 - mae: 2.4258\n",
            "Test MAE: 2.43\n"
          ]
        }
      ],
      "source": [
        "# Listing 10.23 Training and evaluating a dropout-regularized, stacked GRU model\n",
        "inputs = keras.Input(shape=(sequence_length, raw_data.shape[-1]))\n",
        "x = layers.GRU(32, recurrent_dropout=0.5, return_sequences=True)(inputs)\n",
        "x = layers.GRU(32, recurrent_dropout=0.5)(x)\n",
        "x = layers.Dropout(0.5)(x)\n",
        "outputs = layers.Dense(1)(x)\n",
        "model = keras.Model(inputs, outputs)\n",
        " \n",
        "callbacks = [\n",
        " keras.callbacks.ModelCheckpoint(\"jena_stacked_gru_dropout.keras\",\n",
        " save_best_only=True)\n",
        "]\n",
        "model.compile(optimizer=\"rmsprop\", loss=\"mse\", metrics=[\"mae\"])\n",
        "history = model.fit(train_dataset,\n",
        " epochs=10,\n",
        " validation_data=val_dataset,\n",
        " callbacks=callbacks)\n",
        "model = keras.models.load_model(\"jena_stacked_gru_dropout.keras\")\n",
        "print(f\"Test MAE: {model.evaluate(test_dataset)[1]:.2f}\")"
      ]
    },
    {
      "cell_type": "code",
      "execution_count": 34,
      "metadata": {
        "colab": {
          "base_uri": "https://localhost:8080/",
          "height": 281
        },
        "id": "FBOzADNZNUAS",
        "outputId": "bff8c855-d5e9-4ded-859a-4e324db3cec2"
      },
      "outputs": [
        {
          "data": {
            "image/png": "[encoded data removed]",
            "text/plain": [
              "<Figure size 432x288 with 1 Axes>"
            ]
          },
          "metadata": {
            "needs_background": "light"
          },
          "output_type": "display_data"
        }
      ],
      "source": [
        "# Listing 10.11 Plotting results\n",
        "import matplotlib.pyplot as plt\n",
        "loss = history.history[\"mae\"]\n",
        "val_loss = history.history[\"val_mae\"]\n",
        "epochs = range(1, len(loss) + 1)\n",
        "plt.figure()\n",
        "plt.plot(epochs, loss, \"bo\", label=\"Training MAE\")\n",
        "plt.plot(epochs, val_loss, \"b\", label=\"Validation MAE\")\n",
        "plt.title(\"Training and validation MAE\")\n",
        "plt.legend()\n",
        "plt.show()"
      ]
    },
    {
      "cell_type": "markdown",
      "metadata": {
        "id": "DqJz1kN2NWKc"
      },
      "source": [
        "### 10.4.3 Using bidirectional RNNs"
      ]
    },
    {
      "cell_type": "markdown",
      "metadata": {
        "id": "wMGaBdtFUpWO"
      },
      "source": [
        "- RNNs are notably order-dependent:\n",
        "  - they process the timesteps of their input sequences in order, and shuffling or reversing the timesteps can completely change the representations the RNN extracts from the sequence. \n",
        "- A bidirectional RNN exploits the order sensitivity of RNNs:\n",
        "  - it uses two regular RNNs, such as the GRU and LSTM layers you’re already familiar with, each of which processes the input sequence in one direction and then merges their representations"
      ]
    },
    {
      "cell_type": "code",
      "execution_count": 35,
      "metadata": {
        "colab": {
          "base_uri": "https://localhost:8080/"
        },
        "id": "VjhL-gCSWl5R",
        "outputId": "233c6f99-6538-49b2-e947-caa78b238831"
      },
      "outputs": [
        {
          "name": "stdout",
          "output_type": "stream",
          "text": [
            "Epoch 1/10\n",
            "819/819 [==============================] - 174s 207ms/step - loss: 25.7457 - mae: 3.6449 - val_loss: 10.9898 - val_mae: 2.5694\n",
            "Epoch 2/10\n",
            "819/819 [==============================] - 173s 211ms/step - loss: 9.5353 - mae: 2.4135 - val_loss: 9.7006 - val_mae: 2.4199\n",
            "Epoch 3/10\n",
            "819/819 [==============================] - 180s 220ms/step - loss: 8.5745 - mae: 2.2869 - val_loss: 9.8522 - val_mae: 2.4297\n",
            "Epoch 4/10\n",
            "819/819 [==============================] - 180s 219ms/step - loss: 8.1102 - mae: 2.2212 - val_loss: 10.0395 - val_mae: 2.4547\n",
            "Epoch 5/10\n",
            "819/819 [==============================] - 176s 215ms/step - loss: 7.7181 - mae: 2.1672 - val_loss: 10.3787 - val_mae: 2.4912\n",
            "Epoch 6/10\n",
            "819/819 [==============================] - 171s 208ms/step - loss: 7.4061 - mae: 2.1228 - val_loss: 10.3708 - val_mae: 2.4965\n",
            "Epoch 7/10\n",
            "819/819 [==============================] - 170s 208ms/step - loss: 7.1203 - mae: 2.0834 - val_loss: 10.8354 - val_mae: 2.5601\n",
            "Epoch 8/10\n",
            "819/819 [==============================] - 170s 208ms/step - loss: 6.8758 - mae: 2.0460 - val_loss: 10.8694 - val_mae: 2.5535\n",
            "Epoch 9/10\n",
            "819/819 [==============================] - 172s 210ms/step - loss: 6.6710 - mae: 2.0134 - val_loss: 10.7739 - val_mae: 2.5412\n",
            "Epoch 10/10\n",
            "819/819 [==============================] - 169s 207ms/step - loss: 6.5415 - mae: 1.9952 - val_loss: 11.0474 - val_mae: 2.5880\n"
          ]
        }
      ],
      "source": [
        "# Listing 10.24 Training and evaluating a bidirectional LSTM\n",
        "inputs = keras.Input(shape=(sequence_length, raw_data.shape[-1]))\n",
        "x = layers.Bidirectional(layers.LSTM(16))(inputs)\n",
        "outputs = layers.Dense(1)(x)\n",
        "model = keras.Model(inputs, outputs) \n",
        "model.compile(optimizer=\"rmsprop\", loss=\"mse\", metrics=[\"mae\"])\n",
        "history = model.fit(\n",
        "    train_dataset,\n",
        "    epochs=10,\n",
        "    validation_data=val_dataset)"
      ]
    },
    {
      "cell_type": "code",
      "execution_count": 36,
      "metadata": {
        "colab": {
          "base_uri": "https://localhost:8080/",
          "height": 281
        },
        "id": "J5Ah_rwlXCd6",
        "outputId": "5dbbe849-7082-4d11-eeeb-933976268c57"
      },
      "outputs": [
        {
          "data": {
            "image/png": "[encoded data removed]",
            "text/plain": [
              "<Figure size 432x288 with 1 Axes>"
            ]
          },
          "metadata": {
            "needs_background": "light"
          },
          "output_type": "display_data"
        }
      ],
      "source": [
        "# Listing 10.11 Plotting results\n",
        "import matplotlib.pyplot as plt\n",
        "loss = history.history[\"mae\"]\n",
        "val_loss = history.history[\"val_mae\"]\n",
        "epochs = range(1, len(loss) + 1)\n",
        "plt.figure()\n",
        "plt.plot(epochs, loss, \"bo\", label=\"Training MAE\")\n",
        "plt.plot(epochs, val_loss, \"b\", label=\"Validation MAE\")\n",
        "plt.title(\"Training and validation MAE\")\n",
        "plt.legend()\n",
        "plt.show()"
      ]
    },
    {
      "cell_type": "markdown",
      "metadata": {
        "id": "XgNJclmbU4Cq"
      },
      "source": [
        "- bideirectinal RNNs are more usefull where order of data does not matter such as language processing"
      ]
    },
    {
      "cell_type": "markdown",
      "metadata": {
        "id": "D8HnPOjTXM3u"
      },
      "source": [
        "### 10.4.4 Going even further"
      ]
    },
    {
      "cell_type": "markdown",
      "metadata": {
        "id": "kg8n14xaXWJa"
      },
      "source": [
        "- Improve performance by\n",
        "  - Adjust the number of units in each recurrent layer in the stacked setup, as well as the amount of dropout. The current choices are largely arbitrary and thus probably suboptimal.\n",
        "  - Adjust the learning rate used by the RMSprop optimizer, or try a different optimizer.\n",
        "  - Try using a stack of Dense layers as the regressor on top of the recurrent layer, instead of a single Dense layer.\n",
        "  - Improve the input to the model\n",
        "    - try using longer or shorter sequences\n",
        "    - a different sampling rate\n",
        "    - start doing feature engineering."
      ]
    },
    {
      "cell_type": "markdown",
      "metadata": {
        "id": "zuI4WvklXvi6"
      },
      "source": [
        "#### Markets and machine learning"
      ]
    },
    {
      "cell_type": "markdown",
      "metadata": {
        "id": "0SvAOk1uYArr"
      },
      "source": [
        "## The END"
      ]
    }
  ],
  "metadata": {
    "colab": {
      "collapsed_sections": [
        "xRj-WhgBM1FW",
        "NQ-ZJ9mcSws_",
        "-CnMbf_XVw1l",
        "qDdwDn-VTslG",
        "h-sQ6llBocXM",
        "nxr_Z_SNszSK",
        "m065buOYxESr",
        "wlCZeg_6102s",
        "6meYY3GkRX2i",
        "tj21FXsPCI4Q",
        "pdyv4vI3IeHc"
      ],
      "name": "DeepLearning_book_10_1.ipynb",
      "provenance": []
    },
    "kernelspec": {
      "display_name": "Python 3",
      "name": "python3"
    },
    "language_info": {
      "name": "python"
    }
  },
  "nbformat": 4,
  "nbformat_minor": 0
}
