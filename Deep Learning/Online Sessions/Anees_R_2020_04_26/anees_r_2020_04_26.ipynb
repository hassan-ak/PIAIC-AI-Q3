{
  "cells": [
    {
      "cell_type": "markdown",
      "metadata": {},
      "source": [
        "# Deeplearning - Anees Ahmad - 2020/04/26"
      ]
    },
    {
      "cell_type": "markdown",
      "metadata": {
        "id": "d1gK60vg-UUI"
      },
      "source": [
        "# 11 Deep learning for text"
      ]
    },
    {
      "cell_type": "markdown",
      "metadata": {
        "id": "gvKWAJ3N-jjk"
      },
      "source": [
        "## 11.1 Natural language processing: The bird’s eye view"
      ]
    },
    {
      "cell_type": "markdown",
      "metadata": {
        "id": "bqGPvq94-YN7"
      },
      "source": [
        "-  NLP is about using machine learning and large datasets to give computers the ability not to understand language but to ingest a piece of language as input and return something useful, like predicting the following:\n",
        "  - text classification\n",
        "    - What’s the topic of this text?\n",
        "  - content filtering\n",
        "    - Does this text contain abuse?\n",
        "  - sentiment analysis\n",
        "    - Does this text sound positive or negative?\n",
        "  - language modeling\n",
        "    - What should be the next word in this incomplete sentence?\n",
        "  - translation\n",
        "    - How would you say this in German?\n",
        "  - summarization\n",
        "    - How would you summarize this article in one paragraph?"
      ]
    }
  ],
  "metadata": {
    "colab": {
      "collapsed_sections": [
        "gvKWAJ3N-jjk",
        "SakN_k9mjI5a",
        "FkcB8Qi8lDjt",
        "HcPKmLzCoVLa",
        "jb6PVnJWvoh8",
        "_ETwZpWU3Op4",
        "pdT4u9SiCcVk",
        "LGdnqugdFrO3",
        "11uShIGFIplL"
      ],
      "name": "DeepLearning_book_11_1.ipynb",
      "provenance": []
    },
    "kernelspec": {
      "display_name": "Python 3",
      "name": "python3"
    },
    "language_info": {
      "name": "python"
    }
  },
  "nbformat": 4,
  "nbformat_minor": 0
}
